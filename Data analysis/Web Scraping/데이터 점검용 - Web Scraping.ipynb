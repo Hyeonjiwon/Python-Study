{
 "cells": [
  {
   "cell_type": "markdown",
   "id": "7ad9a353",
   "metadata": {},
   "source": [
    "# Python Selenium \n",
    "\n",
    "- 마켓씨에서 데이터 장바구니에 담기\n",
    "\n",
    "- https://www.bigdata-culture.kr/bigdata/user/data_market/list.do?dataCookieYn=N"
   ]
  },
  {
   "cell_type": "markdown",
   "id": "878b9fb6",
   "metadata": {},
   "source": [
    "## 1-1"
   ]
  },
  {
   "cell_type": "markdown",
   "id": "4c30d5d3",
   "metadata": {},
   "source": []
  },
  {
   "cell_type": "markdown",
   "id": "22f0b742",
   "metadata": {},
   "source": [
    "# Python Scraping\n",
    "\n"
   ]
  },
  {
   "cell_type": "code",
   "execution_count": 14,
   "id": "0555462c",
   "metadata": {
    "scrolled": true
   },
   "outputs": [
    {
     "data": {
      "text/html": [
       "<div>\n",
       "<style scoped>\n",
       "    .dataframe tbody tr th:only-of-type {\n",
       "        vertical-align: middle;\n",
       "    }\n",
       "\n",
       "    .dataframe tbody tr th {\n",
       "        vertical-align: top;\n",
       "    }\n",
       "\n",
       "    .dataframe thead th {\n",
       "        text-align: right;\n",
       "    }\n",
       "</style>\n",
       "<table border=\"1\" class=\"dataframe\">\n",
       "  <thead>\n",
       "    <tr style=\"text-align: right;\">\n",
       "      <th></th>\n",
       "      <th>순번</th>\n",
       "      <th>상품코드</th>\n",
       "      <th>제공기관</th>\n",
       "      <th>상품명</th>\n",
       "      <th>담당자</th>\n",
       "      <th>데이터 설명 충분성</th>\n",
       "      <th>컬럼정의서 정합성</th>\n",
       "      <th>데이터 파일 오류점검</th>\n",
       "      <th>데이터 \\n무결성 점검</th>\n",
       "      <th>기타 상품성 점검</th>\n",
       "      <th>점검 결과 상세</th>\n",
       "    </tr>\n",
       "  </thead>\n",
       "  <tbody>\n",
       "    <tr>\n",
       "      <th>0</th>\n",
       "      <td>1</td>\n",
       "      <td>CU132100220001</td>\n",
       "      <td>컨슈머인사이트</td>\n",
       "      <td>해외 여행 준비 단계별 이용 채널 정보</td>\n",
       "      <td>박찬란</td>\n",
       "      <td>O 또는 X</td>\n",
       "      <td>O 또는 X</td>\n",
       "      <td>O 또는 X</td>\n",
       "      <td>O 또는 X</td>\n",
       "      <td>O 또는 X</td>\n",
       "      <td>서술형으로 작성</td>\n",
       "    </tr>\n",
       "    <tr>\n",
       "      <th>1</th>\n",
       "      <td>2</td>\n",
       "      <td>CU132100210001</td>\n",
       "      <td>컨슈머인사이트</td>\n",
       "      <td>국내 여행 준비 단계별 이용 채널 정보</td>\n",
       "      <td>박찬란</td>\n",
       "      <td>NaN</td>\n",
       "      <td>NaN</td>\n",
       "      <td>NaN</td>\n",
       "      <td>NaN</td>\n",
       "      <td>NaN</td>\n",
       "      <td>NaN</td>\n",
       "    </tr>\n",
       "    <tr>\n",
       "      <th>2</th>\n",
       "      <td>3</td>\n",
       "      <td>CU132100170001</td>\n",
       "      <td>컨슈머인사이트</td>\n",
       "      <td>해외 여행 지역 정보</td>\n",
       "      <td>박찬란</td>\n",
       "      <td>NaN</td>\n",
       "      <td>NaN</td>\n",
       "      <td>NaN</td>\n",
       "      <td>NaN</td>\n",
       "      <td>NaN</td>\n",
       "      <td>NaN</td>\n",
       "    </tr>\n",
       "    <tr>\n",
       "      <th>3</th>\n",
       "      <td>4</td>\n",
       "      <td>CU132100160001</td>\n",
       "      <td>컨슈머인사이트</td>\n",
       "      <td>국내 여행 지역 정보</td>\n",
       "      <td>박찬란</td>\n",
       "      <td>NaN</td>\n",
       "      <td>NaN</td>\n",
       "      <td>NaN</td>\n",
       "      <td>NaN</td>\n",
       "      <td>NaN</td>\n",
       "      <td>NaN</td>\n",
       "    </tr>\n",
       "    <tr>\n",
       "      <th>4</th>\n",
       "      <td>5</td>\n",
       "      <td>CU132100260001</td>\n",
       "      <td>컨슈머인사이트</td>\n",
       "      <td>해외여행 선호 활동 정보</td>\n",
       "      <td>박찬란</td>\n",
       "      <td>NaN</td>\n",
       "      <td>NaN</td>\n",
       "      <td>NaN</td>\n",
       "      <td>NaN</td>\n",
       "      <td>NaN</td>\n",
       "      <td>NaN</td>\n",
       "    </tr>\n",
       "    <tr>\n",
       "      <th>...</th>\n",
       "      <td>...</td>\n",
       "      <td>...</td>\n",
       "      <td>...</td>\n",
       "      <td>...</td>\n",
       "      <td>...</td>\n",
       "      <td>...</td>\n",
       "      <td>...</td>\n",
       "      <td>...</td>\n",
       "      <td>...</td>\n",
       "      <td>...</td>\n",
       "      <td>...</td>\n",
       "    </tr>\n",
       "    <tr>\n",
       "      <th>244</th>\n",
       "      <td>245</td>\n",
       "      <td>CU102100150001</td>\n",
       "      <td>데이터마케팅코리아</td>\n",
       "      <td>전국 공연시설 분석용 키워드검색량</td>\n",
       "      <td>-</td>\n",
       "      <td>NaN</td>\n",
       "      <td>NaN</td>\n",
       "      <td>NaN</td>\n",
       "      <td>NaN</td>\n",
       "      <td>NaN</td>\n",
       "      <td>NaN</td>\n",
       "    </tr>\n",
       "    <tr>\n",
       "      <th>245</th>\n",
       "      <td>246</td>\n",
       "      <td>CU102100140001</td>\n",
       "      <td>데이터마케팅코리아</td>\n",
       "      <td>전국 전시시설 분석용 키워드검색량</td>\n",
       "      <td>-</td>\n",
       "      <td>NaN</td>\n",
       "      <td>NaN</td>\n",
       "      <td>NaN</td>\n",
       "      <td>NaN</td>\n",
       "      <td>NaN</td>\n",
       "      <td>NaN</td>\n",
       "    </tr>\n",
       "    <tr>\n",
       "      <th>246</th>\n",
       "      <td>247</td>\n",
       "      <td>CU102100090001</td>\n",
       "      <td>데이터마케팅코리아</td>\n",
       "      <td>인스타그램 엔터테인먼트 콘텐츠 지표 데이터(SNS)</td>\n",
       "      <td>-</td>\n",
       "      <td>NaN</td>\n",
       "      <td>NaN</td>\n",
       "      <td>NaN</td>\n",
       "      <td>NaN</td>\n",
       "      <td>NaN</td>\n",
       "      <td>NaN</td>\n",
       "    </tr>\n",
       "    <tr>\n",
       "      <th>247</th>\n",
       "      <td>248</td>\n",
       "      <td>CU102100130001</td>\n",
       "      <td>데이터마케팅코리아</td>\n",
       "      <td>전국 도서시설 분석용 키워드검색량</td>\n",
       "      <td>-</td>\n",
       "      <td>NaN</td>\n",
       "      <td>NaN</td>\n",
       "      <td>NaN</td>\n",
       "      <td>NaN</td>\n",
       "      <td>NaN</td>\n",
       "      <td>NaN</td>\n",
       "    </tr>\n",
       "    <tr>\n",
       "      <th>248</th>\n",
       "      <td>249</td>\n",
       "      <td>CU102100100001</td>\n",
       "      <td>데이터마케팅코리아</td>\n",
       "      <td>인스타그램 엔터테인먼트 채널 지표 데이터(SNS)</td>\n",
       "      <td>-</td>\n",
       "      <td>NaN</td>\n",
       "      <td>NaN</td>\n",
       "      <td>NaN</td>\n",
       "      <td>NaN</td>\n",
       "      <td>NaN</td>\n",
       "      <td>NaN</td>\n",
       "    </tr>\n",
       "  </tbody>\n",
       "</table>\n",
       "<p>249 rows × 11 columns</p>\n",
       "</div>"
      ],
      "text/plain": [
       "      순번            상품코드       제공기관                           상품명  담당자  \\\n",
       "0      1  CU132100220001    컨슈머인사이트         해외 여행 준비 단계별 이용 채널 정보  박찬란   \n",
       "1      2  CU132100210001    컨슈머인사이트         국내 여행 준비 단계별 이용 채널 정보  박찬란   \n",
       "2      3  CU132100170001    컨슈머인사이트                   해외 여행 지역 정보  박찬란   \n",
       "3      4  CU132100160001    컨슈머인사이트                   국내 여행 지역 정보  박찬란   \n",
       "4      5  CU132100260001    컨슈머인사이트                 해외여행 선호 활동 정보  박찬란   \n",
       "..   ...             ...        ...                           ...  ...   \n",
       "244  245  CU102100150001  데이터마케팅코리아            전국 공연시설 분석용 키워드검색량    -   \n",
       "245  246  CU102100140001  데이터마케팅코리아            전국 전시시설 분석용 키워드검색량    -   \n",
       "246  247  CU102100090001  데이터마케팅코리아  인스타그램 엔터테인먼트 콘텐츠 지표 데이터(SNS)    -   \n",
       "247  248  CU102100130001  데이터마케팅코리아            전국 도서시설 분석용 키워드검색량    -   \n",
       "248  249  CU102100100001  데이터마케팅코리아   인스타그램 엔터테인먼트 채널 지표 데이터(SNS)    -   \n",
       "\n",
       "    데이터 설명 충분성 컬럼정의서 정합성 데이터 파일 오류점검 데이터 \\n무결성 점검 기타 상품성 점검  점검 결과 상세  \n",
       "0       O 또는 X    O 또는 X      O 또는 X       O 또는 X    O 또는 X  서술형으로 작성  \n",
       "1          NaN       NaN         NaN          NaN       NaN       NaN  \n",
       "2          NaN       NaN         NaN          NaN       NaN       NaN  \n",
       "3          NaN       NaN         NaN          NaN       NaN       NaN  \n",
       "4          NaN       NaN         NaN          NaN       NaN       NaN  \n",
       "..         ...       ...         ...          ...       ...       ...  \n",
       "244        NaN       NaN         NaN          NaN       NaN       NaN  \n",
       "245        NaN       NaN         NaN          NaN       NaN       NaN  \n",
       "246        NaN       NaN         NaN          NaN       NaN       NaN  \n",
       "247        NaN       NaN         NaN          NaN       NaN       NaN  \n",
       "248        NaN       NaN         NaN          NaN       NaN       NaN  \n",
       "\n",
       "[249 rows x 11 columns]"
      ]
     },
     "execution_count": 14,
     "metadata": {},
     "output_type": "execute_result"
    }
   ],
   "source": [
    "import pandas as pd\n",
    "import openpyxl\n",
    "import xlsxwriter\n",
    "\n",
    "df = pd.read_excel('2021년 문화 플랫폼 데이터 점검 리스트(이름).xlsx', engine = 'openpyxl', sheet_name = 0)\n",
    "df"
   ]
  },
  {
   "cell_type": "code",
   "execution_count": 20,
   "id": "938d0a98",
   "metadata": {},
   "outputs": [
    {
     "data": {
      "text/plain": [
       "40"
      ]
     },
     "execution_count": 20,
     "metadata": {},
     "output_type": "execute_result"
    }
   ],
   "source": [
    "df = df[(df.담당자 == '현지원')]\n",
    "len(df)"
   ]
  },
  {
   "cell_type": "code",
   "execution_count": 21,
   "id": "c6cb1415",
   "metadata": {
    "scrolled": true
   },
   "outputs": [
    {
     "data": {
      "text/plain": [
       "['관광 랜드마크 주변 식당 정보',\n",
       " '온라인(비대면)주문서비스 제공 카페 베이커리 정보',\n",
       " '외국인 예약 가능 식당 정보',\n",
       " '온라인 미디어 작품정보',\n",
       " '부산 관광지별 뚜벅이 여행자를 위한 교통 정보',\n",
       " '숙박업 D+90 예약가격 데이터',\n",
       " '숙박업 행정동/숙박유형별 평균 판매금액 데이터',\n",
       " '숙박업 행정동별 D+30일 예약비율 데이터',\n",
       " '숙박업 행정동별 D-30일 투숙비율 데이터',\n",
       " '레저 월별/주문당 평균 구매수량 데이터',\n",
       " '레저 월별/지역 (시∙도)별 예약비중 데이터',\n",
       " '레저 월별/레저테마별 예약비중 데이터',\n",
       " '숙박업 월별/펜션테마별 예약비중 데이터',\n",
       " '숙박업 월별/지역별 리드타임 비중 데이터',\n",
       " '숙박업 월별/지역별 이용박수 비중 데이터',\n",
       " '장애인 생활체육 동호인 클럽 조회',\n",
       " '월간 여행동향 구독권',\n",
       " '장애인 생활체육교실 데이터',\n",
       " '지자체 인증 식당 메뉴 정보',\n",
       " '지방 공항 식당 인기 메뉴 데이터',\n",
       " '반려견 동반 식당 정보',\n",
       " '채식 식당 정보(베지테리언)',\n",
       " '유아 동반 가능 식당 정보',\n",
       " '위드코로나시대 문화생활 변화 분석 인사이트 리포트',\n",
       " '코로나19 전후 문화여가 트렌드 변화',\n",
       " '지역별 스포츠 동호회 현황',\n",
       " '전문체육 종목별 대회정보',\n",
       " '개방학교 체육시설',\n",
       " '전문체육 종목별 대회 경기영상 데이터',\n",
       " '유동인구(시/군/구, 행정동)',\n",
       " '유동인구(광역시/도, 행정동)',\n",
       " '유동인구(시/군/구, 50mx50m셀)',\n",
       " '유동인구(광역시/도, 50mx50m셀)',\n",
       " '스포츠레저 등산 쇼핑 검색 트렌드',\n",
       " '렌터카 쇼핑 인기키워드 검색 트렌드',\n",
       " '제주도 인기관광지 검색 트렌드 데이터',\n",
       " '대전광역시 인기 관광지 검색 트렌드 데이터',\n",
       " '가공 및 냉동/간편조리식품 쇼핑 검색 트렌드',\n",
       " '축산 쇼핑 검색 트렌드 데이터',\n",
       " '맘카페 육아용품 연관어 분석 데이터']"
      ]
     },
     "execution_count": 21,
     "metadata": {},
     "output_type": "execute_result"
    }
   ],
   "source": [
    "p_list = df['상품명']\n",
    "p_list= p_list.tolist()\n",
    "p_list"
   ]
  },
  {
   "cell_type": "markdown",
   "id": "cec1ceb0",
   "metadata": {},
   "source": [
    "## 1-2\n",
    "\n",
    "- https://chromedriver.chromium.org/downloads 아래 코드 오류나면 크롬 버전이랑 맞는 드라이버 다운"
   ]
  },
  {
   "cell_type": "markdown",
   "id": "8b49cfe4",
   "metadata": {},
   "source": [
    "# "
   ]
  },
  {
   "cell_type": "code",
   "execution_count": 72,
   "id": "06deeb19",
   "metadata": {},
   "outputs": [],
   "source": [
    "import selenium\n",
    "from selenium import webdriver\n",
    "from selenium.webdriver.common.alert import Alert\n",
    "from selenium.webdriver.common.keys import Keys\n",
    "import time \n",
    "\n",
    "options = webdriver.ChromeOptions()\n",
    "options.binary_location = 'C:/Program Files/Google/Chrome/Application/chrome.exe'\n",
    "\n",
    "browser = webdriver.Chrome('chromedriver.exe', options = options)"
   ]
  },
  {
   "cell_type": "code",
   "execution_count": null,
   "id": "2da76073",
   "metadata": {},
   "outputs": [],
   "source": []
  },
  {
   "cell_type": "code",
   "execution_count": 107,
   "id": "677605ac",
   "metadata": {},
   "outputs": [],
   "source": [
    "URL = \"https://www.bigdata-culture.kr/bigdata/user/main.do\"\n",
    "\n",
    "driver = webdriver.Chrome(executable_path='chromedriver')\n",
    "driver.get(url=URL)"
   ]
  },
  {
   "cell_type": "code",
   "execution_count": 108,
   "id": "28b7ef32",
   "metadata": {},
   "outputs": [],
   "source": [
    "def login(Id, Pw):\n",
    "    # 로그인 버튼 클릭\n",
    "    login_btn = driver.find_element_by_xpath('//*[@id=\"header\"]/div/div[1]/div/div[2]/ul/li[1]/a')\n",
    "    login_btn.click()\n",
    "    driver.implicitly_wait(3)\n",
    "\n",
    "    # 아이디/비밀번호를 입력\n",
    "    driver.find_element_by_xpath('//*[@id=\"loginId\"]').send_keys(Id)\n",
    "    driver.find_element_by_xpath('//*[@id=\"loginPw\"]').send_keys(Pw)\n",
    "    \n",
    "    # 로그인 버튼 클릭\n",
    "    login_btn = driver.find_element_by_xpath('//*[@id=\"loginBtn\"]')\n",
    "    login_btn.click()\n",
    "    time.sleep(1) "
   ]
  },
  {
   "cell_type": "code",
   "execution_count": null,
   "id": "f74d99ae",
   "metadata": {},
   "outputs": [],
   "source": [
    "Id = ''\n",
    "Pw = ''\n",
    "login(Id, Pw)"
   ]
  },
  {
   "cell_type": "code",
   "execution_count": 38,
   "id": "89f13856",
   "metadata": {},
   "outputs": [],
   "source": []
  },
  {
   "cell_type": "code",
   "execution_count": 143,
   "id": "4580e59d",
   "metadata": {},
   "outputs": [],
   "source": [
    "no = []\n",
    "\n",
    "def download_file(p_name):\n",
    "    # 데이터 상품 페이지 클릭 \n",
    "    d_btn = driver.find_element_by_xpath('//*[@id=\"gnb\"]/li[1]/div[1]/a/span')\n",
    "    d_btn.click()\n",
    "    time.sleep(1)   \n",
    "    \n",
    "    # 검색 창에 도서관명 입력\n",
    "    search_box = driver.find_element_by_xpath('//*[@id=\"srchValue\"]')\n",
    "    search_box.send_keys(p_name)\n",
    "    print(p_name + \" 입력\")\n",
    "    time.sleep(1)\n",
    "\n",
    "    # 검색 버튼 클릭\n",
    "    search_btn = driver.find_element_by_xpath('//*[@id=\"formMainSearch\"]/button')\n",
    "    search_btn.click()\n",
    "    print(\"클릭\")\n",
    "    time.sleep(1)\n",
    "\n",
    "    # 첫번째 항목 클릭\n",
    "    lib_btn = driver.find_element_by_xpath('//*[@id=\"data_box01\"]/ul/li/div/div/div[2]/div[2]/p[1]/a/span')\n",
    "    lib_btn.click()\n",
    "    print(\"클릭\")\n",
    "    time.sleep(1)\n",
    "\n",
    "    # 컬럼 정의서 다운\n",
    "    element = driver.find_element_by_xpath('//*[@id=\"contents\"]/div/div[2]/div[3]/div[1]/div/ul/li/a/span')\n",
    "    driver.execute_script(\"arguments[0].click();\", element)\n",
    "    print(\"클릭\")\n",
    "    time.sleep(3)\n",
    "    \n",
    "    # 경고창 확인\n",
    "    da = Alert(driver)\n",
    "    if da:\n",
    "        da.accept()\n",
    "        no.append(p_name)\n",
    "        \n",
    "    # 첫번째 체크박스 클릭\n",
    "    chk_box = driver.find_element_by_xpath('//*[@id=\"distributionList\"]/div[2]/ul/li[2]/div[1]/span/label/span')\n",
    "    chk_box.click()\n",
    "    print(\"클릭\")\n",
    "    time.sleep(1)\n",
    "    \n",
    "    # 장바구니 담기\n",
    "    # cart_btn = driver.find_element_by_xpath('//*[@id=\"distributionList\"]/div[1]/div/ul/li[2]/a/span')\n",
    "    # cart_btn.click()\n",
    "    element = driver.find_element_by_xpath('//*[@id=\"distributionList\"]/div[1]/div/ul/li[2]/a/span')\n",
    "    driver.execute_script(\"arguments[0].click();\", element)\n",
    "    time.sleep(1)\n",
    "    \n",
    "    # 경고창 확인\n",
    "    da = Alert(driver)\n",
    "    da.accept()\n",
    "    time.sleep(3)\n",
    "    \n",
    "    # x 버튼\n",
    "    x_btn = driver.find_element_by_xpath('//*[@id=\"addBasket_layer_popup\"]/div/div/div[1]/a')\n",
    "    x_btn.click()\n",
    "    time.sleep(3)"
   ]
  },
  {
   "cell_type": "code",
   "execution_count": 165,
   "id": "02fe395f",
   "metadata": {},
   "outputs": [
    {
     "data": {
      "text/plain": [
       "['스포츠레저 등산 쇼핑 검색 트렌드',\n",
       " '렌터카 쇼핑 인기키워드 검색 트렌드',\n",
       " '제주도 인기관광지 검색 트렌드 데이터',\n",
       " '대전광역시 인기 관광지 검색 트렌드 데이터',\n",
       " '가공 및 냉동/간편조리식품 쇼핑 검색 트렌드',\n",
       " '축산 쇼핑 검색 트렌드 데이터',\n",
       " '맘카페 육아용품 연관어 분석 데이터']"
      ]
     },
     "execution_count": 165,
     "metadata": {},
     "output_type": "execute_result"
    }
   ],
   "source": [
    "p_list[33:]"
   ]
  },
  {
   "cell_type": "code",
   "execution_count": 168,
   "id": "d30d9445",
   "metadata": {
    "scrolled": true
   },
   "outputs": [
    {
     "name": "stdout",
     "output_type": "stream",
     "text": [
      "스포츠레저 등산 쇼핑 검색 트렌드 입력\n",
      "클릭\n",
      "클릭\n",
      "클릭\n",
      "클릭\n",
      "뒤로가기\n",
      "렌터카 쇼핑 인기키워드 검색 트렌드 입력\n",
      "클릭\n",
      "클릭\n",
      "클릭\n",
      "클릭\n",
      "뒤로가기\n",
      "제주도 인기관광지 검색 트렌드 데이터 입력\n",
      "클릭\n",
      "클릭\n",
      "클릭\n",
      "클릭\n",
      "뒤로가기\n",
      "대전광역시 인기 관광지 검색 트렌드 데이터 입력\n",
      "클릭\n",
      "클릭\n",
      "클릭\n"
     ]
    },
    {
     "ename": "KeyboardInterrupt",
     "evalue": "",
     "output_type": "error",
     "traceback": [
      "\u001b[1;31m---------------------------------------------------------------------------\u001b[0m",
      "\u001b[1;31mKeyboardInterrupt\u001b[0m                         Traceback (most recent call last)",
      "\u001b[1;32m<ipython-input-168-b3f8e5dae57b>\u001b[0m in \u001b[0;36m<module>\u001b[1;34m\u001b[0m\n\u001b[0;32m      1\u001b[0m \u001b[1;32mfor\u001b[0m \u001b[0mp_name\u001b[0m \u001b[1;32min\u001b[0m \u001b[0mp_list\u001b[0m\u001b[1;33m[\u001b[0m\u001b[1;36m33\u001b[0m\u001b[1;33m:\u001b[0m\u001b[1;33m]\u001b[0m\u001b[1;33m:\u001b[0m\u001b[1;33m\u001b[0m\u001b[1;33m\u001b[0m\u001b[0m\n\u001b[0;32m      2\u001b[0m \u001b[1;33m\u001b[0m\u001b[0m\n\u001b[1;32m----> 3\u001b[1;33m     \u001b[0mdownload_file\u001b[0m\u001b[1;33m(\u001b[0m\u001b[0mp_name\u001b[0m\u001b[1;33m)\u001b[0m\u001b[1;33m\u001b[0m\u001b[1;33m\u001b[0m\u001b[0m\n\u001b[0m\u001b[0;32m      4\u001b[0m \u001b[1;33m\u001b[0m\u001b[0m\n\u001b[0;32m      5\u001b[0m     \u001b[1;31m# 뒤로가기\u001b[0m\u001b[1;33m\u001b[0m\u001b[1;33m\u001b[0m\u001b[1;33m\u001b[0m\u001b[0m\n",
      "\u001b[1;32m<ipython-input-143-084bd6d929d2>\u001b[0m in \u001b[0;36mdownload_file\u001b[1;34m(p_name)\u001b[0m\n\u001b[0;32m     30\u001b[0m     \u001b[0mdriver\u001b[0m\u001b[1;33m.\u001b[0m\u001b[0mexecute_script\u001b[0m\u001b[1;33m(\u001b[0m\u001b[1;34m\"arguments[0].click();\"\u001b[0m\u001b[1;33m,\u001b[0m \u001b[0melement\u001b[0m\u001b[1;33m)\u001b[0m\u001b[1;33m\u001b[0m\u001b[1;33m\u001b[0m\u001b[0m\n\u001b[0;32m     31\u001b[0m     \u001b[0mprint\u001b[0m\u001b[1;33m(\u001b[0m\u001b[1;34m\"클릭\"\u001b[0m\u001b[1;33m)\u001b[0m\u001b[1;33m\u001b[0m\u001b[1;33m\u001b[0m\u001b[0m\n\u001b[1;32m---> 32\u001b[1;33m     \u001b[0mtime\u001b[0m\u001b[1;33m.\u001b[0m\u001b[0msleep\u001b[0m\u001b[1;33m(\u001b[0m\u001b[1;36m3\u001b[0m\u001b[1;33m)\u001b[0m\u001b[1;33m\u001b[0m\u001b[1;33m\u001b[0m\u001b[0m\n\u001b[0m\u001b[0;32m     33\u001b[0m \u001b[1;33m\u001b[0m\u001b[0m\n\u001b[0;32m     34\u001b[0m     \u001b[1;31m# 첫번째 체크박스 클릭\u001b[0m\u001b[1;33m\u001b[0m\u001b[1;33m\u001b[0m\u001b[1;33m\u001b[0m\u001b[0m\n",
      "\u001b[1;31mKeyboardInterrupt\u001b[0m: "
     ]
    }
   ],
   "source": [
    "for p_name in p_list[33:]:\n",
    "    \n",
    "    download_file(p_name)\n",
    "    \n",
    "    # 뒤로가기\n",
    "    driver.back()\n",
    "    print(\"뒤로가기\")\n",
    "    time.sleep(1)"
   ]
  },
  {
   "cell_type": "code",
   "execution_count": null,
   "id": "aa124b20",
   "metadata": {},
   "outputs": [],
   "source": []
  }
 ],
 "metadata": {
  "kernelspec": {
   "display_name": "Python 3",
   "language": "python",
   "name": "python3"
  },
  "language_info": {
   "codemirror_mode": {
    "name": "ipython",
    "version": 3
   },
   "file_extension": ".py",
   "mimetype": "text/x-python",
   "name": "python",
   "nbconvert_exporter": "python",
   "pygments_lexer": "ipython3",
   "version": "3.8.8"
  }
 },
 "nbformat": 4,
 "nbformat_minor": 5
}
