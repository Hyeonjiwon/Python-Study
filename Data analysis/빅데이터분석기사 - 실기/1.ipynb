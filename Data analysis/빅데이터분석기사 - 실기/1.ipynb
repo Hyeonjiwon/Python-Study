{
 "metadata": {
  "language_info": {
   "codemirror_mode": {
    "name": "ipython",
    "version": 3
   },
   "file_extension": ".py",
   "mimetype": "text/x-python",
   "name": "python",
   "nbconvert_exporter": "python",
   "pygments_lexer": "ipython3",
   "version": "3.11.4-final"
  },
  "orig_nbformat": 2,
  "kernelspec": {
   "name": "python3",
   "display_name": "Python 3.11.4 64-bit",
   "metadata": {
    "interpreter": {
     "hash": "aee8b7b246df8f9039afb4144a1f6fd8d2ca17a180786b69acc140d282b71a49"
    }
   }
  }
 },
 "nbformat": 4,
 "nbformat_minor": 2,
 "cells": [
  {
   "cell_type": "code",
   "execution_count": 227,
   "metadata": {},
   "outputs": [
    {
     "output_type": "stream",
     "name": "stdout",
     "text": [
      "h\n"
     ]
    }
   ],
   "source": [
    "print(\"h\")"
   ]
  },
  {
   "cell_type": "code",
   "execution_count": 228,
   "metadata": {},
   "outputs": [],
   "source": [
    "import pandas as pd"
   ]
  },
  {
   "cell_type": "code",
   "execution_count": 229,
   "metadata": {},
   "outputs": [
    {
     "output_type": "stream",
     "name": "stdout",
     "text": [
      "Requirement already satisfied: pandas in /usr/local/lib/python3.11/site-packages (2.1.3)\n",
      "Requirement already satisfied: numpy<2,>=1.23.2 in /usr/local/lib/python3.11/site-packages (from pandas) (1.26.1)\n",
      "Requirement already satisfied: python-dateutil>=2.8.2 in /Users/hyeonjiwon/Library/Python/3.11/lib/python/site-packages (from pandas) (2.8.2)\n",
      "Requirement already satisfied: pytz>=2020.1 in /usr/local/lib/python3.11/site-packages (from pandas) (2023.3.post1)\n",
      "Requirement already satisfied: tzdata>=2022.1 in /usr/local/lib/python3.11/site-packages (from pandas) (2023.3)\n",
      "Requirement already satisfied: six>=1.5 in /usr/local/lib/python3.11/site-packages (from python-dateutil>=2.8.2->pandas) (1.16.0)\n",
      "\n",
      "\u001b[1m[\u001b[0m\u001b[34;49mnotice\u001b[0m\u001b[1;39;49m]\u001b[0m\u001b[39;49m A new release of pip is available: \u001b[0m\u001b[31;49m23.2.1\u001b[0m\u001b[39;49m -> \u001b[0m\u001b[32;49m23.3.1\u001b[0m\n",
      "\u001b[1m[\u001b[0m\u001b[34;49mnotice\u001b[0m\u001b[1;39;49m]\u001b[0m\u001b[39;49m To update, run: \u001b[0m\u001b[32;49mpython3.11 -m pip install --upgrade pip\u001b[0m\n",
      "Note: you may need to restart the kernel to use updated packages.\n"
     ]
    }
   ],
   "source": [
    "pip install pandas"
   ]
  },
  {
   "cell_type": "code",
   "execution_count": 230,
   "metadata": {},
   "outputs": [
    {
     "output_type": "execute_result",
     "data": {
      "text/plain": [
       "         id          일자   시도명  읍면동명         거주인구       근무인구        방문인구  \\\n",
       "0     22448  2018-01-01   제주시   도두동    32249.987   3418.266  102709.092   \n",
       "1     22449  2018-01-01   제주시   외도동   213500.997  10341.172  112692.789   \n",
       "2     22450  2018-01-01   제주시  이도2동  1212382.218  96920.834  541194.481   \n",
       "3     22451  2018-01-01   제주시  일도1동    33991.653   6034.253   72155.919   \n",
       "4     22452  2018-01-01  서귀포시   대천동   155036.925   9403.969  150882.409   \n",
       "...     ...         ...   ...   ...          ...        ...         ...   \n",
       "9616  32064  2020-04-30  서귀포시   표선면   228260.005  16891.732  152832.449   \n",
       "9617  32065  2020-04-30   제주시   한림읍   459959.064  26007.122  249700.419   \n",
       "9618  32066  2020-04-30   제주시   도두동    28397.481   3144.895   84052.697   \n",
       "9619  32067  2020-04-30  서귀포시   안덕면   348037.846  29106.286  251129.660   \n",
       "9620  32068  2020-04-30   제주시    연동  1010643.372  65673.477  447622.068   \n",
       "\n",
       "           총 유동인구   평균 속도  평균 소요 시간  평균 기온  일강수량  평균 풍속  \n",
       "0      138377.345  39.556    29.167    5.0   0.0   2.50  \n",
       "1      336534.958  32.900    30.900    5.0   0.0   2.50  \n",
       "2     1850497.533  29.538    35.692    2.9   0.0   2.40  \n",
       "3      112181.825  30.000    23.500    2.9   0.0   2.40  \n",
       "4      315323.303  41.583    14.375    5.1   0.0   2.30  \n",
       "...           ...     ...       ...    ...   ...    ...  \n",
       "9616   397984.186  44.514    34.054   18.1   0.0   4.70  \n",
       "9617   735666.605  48.609    61.377   18.0   0.0   4.35  \n",
       "9618   115595.073  41.053    29.421   20.3   0.0   3.00  \n",
       "9619   628273.792  46.595    49.189   17.6   0.0   3.50  \n",
       "9620  1523938.917  40.863    27.765   14.1   0.0   4.80  \n",
       "\n",
       "[9621 rows x 13 columns]"
      ],
      "text/html": "<div>\n<style scoped>\n    .dataframe tbody tr th:only-of-type {\n        vertical-align: middle;\n    }\n\n    .dataframe tbody tr th {\n        vertical-align: top;\n    }\n\n    .dataframe thead th {\n        text-align: right;\n    }\n</style>\n<table border=\"1\" class=\"dataframe\">\n  <thead>\n    <tr style=\"text-align: right;\">\n      <th></th>\n      <th>id</th>\n      <th>일자</th>\n      <th>시도명</th>\n      <th>읍면동명</th>\n      <th>거주인구</th>\n      <th>근무인구</th>\n      <th>방문인구</th>\n      <th>총 유동인구</th>\n      <th>평균 속도</th>\n      <th>평균 소요 시간</th>\n      <th>평균 기온</th>\n      <th>일강수량</th>\n      <th>평균 풍속</th>\n    </tr>\n  </thead>\n  <tbody>\n    <tr>\n      <th>0</th>\n      <td>22448</td>\n      <td>2018-01-01</td>\n      <td>제주시</td>\n      <td>도두동</td>\n      <td>32249.987</td>\n      <td>3418.266</td>\n      <td>102709.092</td>\n      <td>138377.345</td>\n      <td>39.556</td>\n      <td>29.167</td>\n      <td>5.0</td>\n      <td>0.0</td>\n      <td>2.50</td>\n    </tr>\n    <tr>\n      <th>1</th>\n      <td>22449</td>\n      <td>2018-01-01</td>\n      <td>제주시</td>\n      <td>외도동</td>\n      <td>213500.997</td>\n      <td>10341.172</td>\n      <td>112692.789</td>\n      <td>336534.958</td>\n      <td>32.900</td>\n      <td>30.900</td>\n      <td>5.0</td>\n      <td>0.0</td>\n      <td>2.50</td>\n    </tr>\n    <tr>\n      <th>2</th>\n      <td>22450</td>\n      <td>2018-01-01</td>\n      <td>제주시</td>\n      <td>이도2동</td>\n      <td>1212382.218</td>\n      <td>96920.834</td>\n      <td>541194.481</td>\n      <td>1850497.533</td>\n      <td>29.538</td>\n      <td>35.692</td>\n      <td>2.9</td>\n      <td>0.0</td>\n      <td>2.40</td>\n    </tr>\n    <tr>\n      <th>3</th>\n      <td>22451</td>\n      <td>2018-01-01</td>\n      <td>제주시</td>\n      <td>일도1동</td>\n      <td>33991.653</td>\n      <td>6034.253</td>\n      <td>72155.919</td>\n      <td>112181.825</td>\n      <td>30.000</td>\n      <td>23.500</td>\n      <td>2.9</td>\n      <td>0.0</td>\n      <td>2.40</td>\n    </tr>\n    <tr>\n      <th>4</th>\n      <td>22452</td>\n      <td>2018-01-01</td>\n      <td>서귀포시</td>\n      <td>대천동</td>\n      <td>155036.925</td>\n      <td>9403.969</td>\n      <td>150882.409</td>\n      <td>315323.303</td>\n      <td>41.583</td>\n      <td>14.375</td>\n      <td>5.1</td>\n      <td>0.0</td>\n      <td>2.30</td>\n    </tr>\n    <tr>\n      <th>...</th>\n      <td>...</td>\n      <td>...</td>\n      <td>...</td>\n      <td>...</td>\n      <td>...</td>\n      <td>...</td>\n      <td>...</td>\n      <td>...</td>\n      <td>...</td>\n      <td>...</td>\n      <td>...</td>\n      <td>...</td>\n      <td>...</td>\n    </tr>\n    <tr>\n      <th>9616</th>\n      <td>32064</td>\n      <td>2020-04-30</td>\n      <td>서귀포시</td>\n      <td>표선면</td>\n      <td>228260.005</td>\n      <td>16891.732</td>\n      <td>152832.449</td>\n      <td>397984.186</td>\n      <td>44.514</td>\n      <td>34.054</td>\n      <td>18.1</td>\n      <td>0.0</td>\n      <td>4.70</td>\n    </tr>\n    <tr>\n      <th>9617</th>\n      <td>32065</td>\n      <td>2020-04-30</td>\n      <td>제주시</td>\n      <td>한림읍</td>\n      <td>459959.064</td>\n      <td>26007.122</td>\n      <td>249700.419</td>\n      <td>735666.605</td>\n      <td>48.609</td>\n      <td>61.377</td>\n      <td>18.0</td>\n      <td>0.0</td>\n      <td>4.35</td>\n    </tr>\n    <tr>\n      <th>9618</th>\n      <td>32066</td>\n      <td>2020-04-30</td>\n      <td>제주시</td>\n      <td>도두동</td>\n      <td>28397.481</td>\n      <td>3144.895</td>\n      <td>84052.697</td>\n      <td>115595.073</td>\n      <td>41.053</td>\n      <td>29.421</td>\n      <td>20.3</td>\n      <td>0.0</td>\n      <td>3.00</td>\n    </tr>\n    <tr>\n      <th>9619</th>\n      <td>32067</td>\n      <td>2020-04-30</td>\n      <td>서귀포시</td>\n      <td>안덕면</td>\n      <td>348037.846</td>\n      <td>29106.286</td>\n      <td>251129.660</td>\n      <td>628273.792</td>\n      <td>46.595</td>\n      <td>49.189</td>\n      <td>17.6</td>\n      <td>0.0</td>\n      <td>3.50</td>\n    </tr>\n    <tr>\n      <th>9620</th>\n      <td>32068</td>\n      <td>2020-04-30</td>\n      <td>제주시</td>\n      <td>연동</td>\n      <td>1010643.372</td>\n      <td>65673.477</td>\n      <td>447622.068</td>\n      <td>1523938.917</td>\n      <td>40.863</td>\n      <td>27.765</td>\n      <td>14.1</td>\n      <td>0.0</td>\n      <td>4.80</td>\n    </tr>\n  </tbody>\n</table>\n<p>9621 rows × 13 columns</p>\n</div>"
     },
     "metadata": {},
     "execution_count": 230
    }
   ],
   "source": [
    "# 데이터 로드, 한글 처리 \n",
    "url = 'https://raw.githubusercontent.com/Datamanim/pandas/main/Jeju.csv'\n",
    "df = pd.read_csv(url, encoding='euc-kr')\n",
    "df"
   ]
  },
  {
   "cell_type": "code",
   "execution_count": 231,
   "metadata": {},
   "outputs": [
    {
     "output_type": "execute_result",
     "data": {
      "text/plain": [
       "         id          일자   시도명 읍면동명         거주인구       근무인구        방문인구  \\\n",
       "9618  32066  2020-04-30   제주시  도두동    28397.481   3144.895   84052.697   \n",
       "9619  32067  2020-04-30  서귀포시  안덕면   348037.846  29106.286  251129.660   \n",
       "9620  32068  2020-04-30   제주시   연동  1010643.372  65673.477  447622.068   \n",
       "\n",
       "           총 유동인구   평균 속도  평균 소요 시간  평균 기온  일강수량  평균 풍속  \n",
       "9618   115595.073  41.053    29.421   20.3   0.0    3.0  \n",
       "9619   628273.792  46.595    49.189   17.6   0.0    3.5  \n",
       "9620  1523938.917  40.863    27.765   14.1   0.0    4.8  "
      ],
      "text/html": "<div>\n<style scoped>\n    .dataframe tbody tr th:only-of-type {\n        vertical-align: middle;\n    }\n\n    .dataframe tbody tr th {\n        vertical-align: top;\n    }\n\n    .dataframe thead th {\n        text-align: right;\n    }\n</style>\n<table border=\"1\" class=\"dataframe\">\n  <thead>\n    <tr style=\"text-align: right;\">\n      <th></th>\n      <th>id</th>\n      <th>일자</th>\n      <th>시도명</th>\n      <th>읍면동명</th>\n      <th>거주인구</th>\n      <th>근무인구</th>\n      <th>방문인구</th>\n      <th>총 유동인구</th>\n      <th>평균 속도</th>\n      <th>평균 소요 시간</th>\n      <th>평균 기온</th>\n      <th>일강수량</th>\n      <th>평균 풍속</th>\n    </tr>\n  </thead>\n  <tbody>\n    <tr>\n      <th>9618</th>\n      <td>32066</td>\n      <td>2020-04-30</td>\n      <td>제주시</td>\n      <td>도두동</td>\n      <td>28397.481</td>\n      <td>3144.895</td>\n      <td>84052.697</td>\n      <td>115595.073</td>\n      <td>41.053</td>\n      <td>29.421</td>\n      <td>20.3</td>\n      <td>0.0</td>\n      <td>3.0</td>\n    </tr>\n    <tr>\n      <th>9619</th>\n      <td>32067</td>\n      <td>2020-04-30</td>\n      <td>서귀포시</td>\n      <td>안덕면</td>\n      <td>348037.846</td>\n      <td>29106.286</td>\n      <td>251129.660</td>\n      <td>628273.792</td>\n      <td>46.595</td>\n      <td>49.189</td>\n      <td>17.6</td>\n      <td>0.0</td>\n      <td>3.5</td>\n    </tr>\n    <tr>\n      <th>9620</th>\n      <td>32068</td>\n      <td>2020-04-30</td>\n      <td>제주시</td>\n      <td>연동</td>\n      <td>1010643.372</td>\n      <td>65673.477</td>\n      <td>447622.068</td>\n      <td>1523938.917</td>\n      <td>40.863</td>\n      <td>27.765</td>\n      <td>14.1</td>\n      <td>0.0</td>\n      <td>4.8</td>\n    </tr>\n  </tbody>\n</table>\n</div>"
     },
     "metadata": {},
     "execution_count": 231
    }
   ],
   "source": [
    "# 마지막 3개행\n",
    "df.tail(3)"
   ]
  },
  {
   "cell_type": "code",
   "execution_count": 232,
   "metadata": {},
   "outputs": [
    {
     "output_type": "execute_result",
     "data": {
      "text/plain": [
       "Index(['id', '거주인구', '근무인구', '방문인구', '총 유동인구', '평균 속도', '평균 소요 시간', '평균 기온',\n",
       "       '일강수량', '평균 풍속'],\n",
       "      dtype='object')"
      ]
     },
     "metadata": {},
     "execution_count": 232
    }
   ],
   "source": [
    "# 수치형 변수를 가진 컬럼\n",
    "ans = df.select_dtypes(exclude=object).columns\n",
    "ans"
   ]
  },
  {
   "cell_type": "code",
   "execution_count": 233,
   "metadata": {},
   "outputs": [
    {
     "output_type": "execute_result",
     "data": {
      "text/plain": [
       "Index(['일자', '시도명', '읍면동명'], dtype='object')"
      ]
     },
     "metadata": {},
     "execution_count": 233
    }
   ],
   "source": [
    "# 범주형 변수\n",
    "ans=df.select_dtypes(include=object).columns\n",
    "ans"
   ]
  },
  {
   "cell_type": "code",
   "execution_count": 234,
   "metadata": {},
   "outputs": [
    {
     "output_type": "execute_result",
     "data": {
      "text/plain": [
       "id          0\n",
       "일자          0\n",
       "시도명         0\n",
       "읍면동명        0\n",
       "거주인구        0\n",
       "근무인구        0\n",
       "방문인구        0\n",
       "총 유동인구      0\n",
       "평균 속도       0\n",
       "평균 소요 시간    0\n",
       "평균 기온       0\n",
       "일강수량        0\n",
       "평균 풍속       0\n",
       "dtype: int64"
      ]
     },
     "metadata": {},
     "execution_count": 234
    }
   ],
   "source": [
    "# 각 컬럼의 결측치 숫자 파악\n",
    "ans = df.isnull().sum()\n",
    "ans"
   ]
  },
  {
   "cell_type": "code",
   "execution_count": 235,
   "metadata": {},
   "outputs": [
    {
     "output_type": "stream",
     "name": "stdout",
     "text": [
      "<class 'pandas.core.frame.DataFrame'>\nRangeIndex: 9621 entries, 0 to 9620\nData columns (total 13 columns):\n #   Column    Non-Null Count  Dtype  \n---  ------    --------------  -----  \n 0   id        9621 non-null   int64  \n 1   일자        9621 non-null   object \n 2   시도명       9621 non-null   object \n 3   읍면동명      9621 non-null   object \n 4   거주인구      9621 non-null   float64\n 5   근무인구      9621 non-null   float64\n 6   방문인구      9621 non-null   float64\n 7   총 유동인구    9621 non-null   float64\n 8   평균 속도     9621 non-null   float64\n 9   평균 소요 시간  9621 non-null   float64\n 10  평균 기온     9621 non-null   float64\n 11  일강수량      9621 non-null   float64\n 12  평균 풍속     9621 non-null   float64\ndtypes: float64(9), int64(1), object(3)\nmemory usage: 977.3+ KB\n"
     ]
    }
   ],
   "source": [
    "# 각 컬럼의 데이터수, 데이터 타입 한번에 확인\n",
    "ans = df.info()\n",
    "ans"
   ]
  },
  {
   "cell_type": "code",
   "execution_count": 236,
   "metadata": {},
   "outputs": [
    {
     "output_type": "execute_result",
     "data": {
      "text/plain": [
       "                 id          거주인구           근무인구           방문인구        총 유동인구  \\\n",
       "count   9621.000000  9.621000e+03    9621.000000    9621.000000  9.621000e+03   \n",
       "mean   27258.000000  3.174315e+05   35471.201510  195889.561802  5.487922e+05   \n",
       "std     2777.487804  2.982079e+05   40381.214775  140706.090325  4.608802e+05   \n",
       "min    22448.000000  9.305552e+03    1407.936000   11538.322000  2.225181e+04   \n",
       "25%    24853.000000  9.539939e+04   12074.498000   99632.153000  2.216910e+05   \n",
       "50%    27258.000000  2.221105e+05   21960.928000  152805.335000  3.866935e+05   \n",
       "75%    29663.000000  4.106671e+05   40192.032000  236325.109000  6.406918e+05   \n",
       "max    32068.000000  1.364504e+06  263476.965000  723459.209000  2.066484e+06   \n",
       "\n",
       "             평균 속도     평균 소요 시간        평균 기온         일강수량        평균 풍속  \n",
       "count  9621.000000  9621.000000  9621.000000  9621.000000  9621.000000  \n",
       "mean     41.109084    37.215873    13.550828     6.972426     2.753171  \n",
       "std       8.758631    12.993786     7.745515    27.617260     1.498538  \n",
       "min      24.333000    12.667000    -9.600000     0.000000     0.000000  \n",
       "25%      34.250000    27.889000     7.600000     0.000000     1.700000  \n",
       "50%      39.640000    34.500000    13.400000     0.000000     2.400000  \n",
       "75%      49.105000    46.176000    19.700000     1.500000     3.400000  \n",
       "max     103.000000   172.200000    30.400000   587.500000    13.333000  "
      ],
      "text/html": "<div>\n<style scoped>\n    .dataframe tbody tr th:only-of-type {\n        vertical-align: middle;\n    }\n\n    .dataframe tbody tr th {\n        vertical-align: top;\n    }\n\n    .dataframe thead th {\n        text-align: right;\n    }\n</style>\n<table border=\"1\" class=\"dataframe\">\n  <thead>\n    <tr style=\"text-align: right;\">\n      <th></th>\n      <th>id</th>\n      <th>거주인구</th>\n      <th>근무인구</th>\n      <th>방문인구</th>\n      <th>총 유동인구</th>\n      <th>평균 속도</th>\n      <th>평균 소요 시간</th>\n      <th>평균 기온</th>\n      <th>일강수량</th>\n      <th>평균 풍속</th>\n    </tr>\n  </thead>\n  <tbody>\n    <tr>\n      <th>count</th>\n      <td>9621.000000</td>\n      <td>9.621000e+03</td>\n      <td>9621.000000</td>\n      <td>9621.000000</td>\n      <td>9.621000e+03</td>\n      <td>9621.000000</td>\n      <td>9621.000000</td>\n      <td>9621.000000</td>\n      <td>9621.000000</td>\n      <td>9621.000000</td>\n    </tr>\n    <tr>\n      <th>mean</th>\n      <td>27258.000000</td>\n      <td>3.174315e+05</td>\n      <td>35471.201510</td>\n      <td>195889.561802</td>\n      <td>5.487922e+05</td>\n      <td>41.109084</td>\n      <td>37.215873</td>\n      <td>13.550828</td>\n      <td>6.972426</td>\n      <td>2.753171</td>\n    </tr>\n    <tr>\n      <th>std</th>\n      <td>2777.487804</td>\n      <td>2.982079e+05</td>\n      <td>40381.214775</td>\n      <td>140706.090325</td>\n      <td>4.608802e+05</td>\n      <td>8.758631</td>\n      <td>12.993786</td>\n      <td>7.745515</td>\n      <td>27.617260</td>\n      <td>1.498538</td>\n    </tr>\n    <tr>\n      <th>min</th>\n      <td>22448.000000</td>\n      <td>9.305552e+03</td>\n      <td>1407.936000</td>\n      <td>11538.322000</td>\n      <td>2.225181e+04</td>\n      <td>24.333000</td>\n      <td>12.667000</td>\n      <td>-9.600000</td>\n      <td>0.000000</td>\n      <td>0.000000</td>\n    </tr>\n    <tr>\n      <th>25%</th>\n      <td>24853.000000</td>\n      <td>9.539939e+04</td>\n      <td>12074.498000</td>\n      <td>99632.153000</td>\n      <td>2.216910e+05</td>\n      <td>34.250000</td>\n      <td>27.889000</td>\n      <td>7.600000</td>\n      <td>0.000000</td>\n      <td>1.700000</td>\n    </tr>\n    <tr>\n      <th>50%</th>\n      <td>27258.000000</td>\n      <td>2.221105e+05</td>\n      <td>21960.928000</td>\n      <td>152805.335000</td>\n      <td>3.866935e+05</td>\n      <td>39.640000</td>\n      <td>34.500000</td>\n      <td>13.400000</td>\n      <td>0.000000</td>\n      <td>2.400000</td>\n    </tr>\n    <tr>\n      <th>75%</th>\n      <td>29663.000000</td>\n      <td>4.106671e+05</td>\n      <td>40192.032000</td>\n      <td>236325.109000</td>\n      <td>6.406918e+05</td>\n      <td>49.105000</td>\n      <td>46.176000</td>\n      <td>19.700000</td>\n      <td>1.500000</td>\n      <td>3.400000</td>\n    </tr>\n    <tr>\n      <th>max</th>\n      <td>32068.000000</td>\n      <td>1.364504e+06</td>\n      <td>263476.965000</td>\n      <td>723459.209000</td>\n      <td>2.066484e+06</td>\n      <td>103.000000</td>\n      <td>172.200000</td>\n      <td>30.400000</td>\n      <td>587.500000</td>\n      <td>13.333000</td>\n    </tr>\n  </tbody>\n</table>\n</div>"
     },
     "metadata": {},
     "execution_count": 236
    }
   ],
   "source": [
    "# 각 수치형 변수의 분포(사분위, 평균, 표준편차, 최대, 최소)\n",
    "# 표준편차 : 분산의 제곱근 \n",
    "ans = df.describe()\n",
    "ans"
   ]
  },
  {
   "cell_type": "code",
   "execution_count": 237,
   "metadata": {},
   "outputs": [
    {
     "output_type": "execute_result",
     "data": {
      "text/plain": [
       "0         32249.987\n",
       "1        213500.997\n",
       "2       1212382.218\n",
       "3         33991.653\n",
       "4        155036.925\n",
       "           ...     \n",
       "9616     228260.005\n",
       "9617     459959.064\n",
       "9618      28397.481\n",
       "9619     348037.846\n",
       "9620    1010643.372\n",
       "Name: 거주인구, Length: 9621, dtype: float64"
      ]
     },
     "metadata": {},
     "execution_count": 237
    }
   ],
   "source": [
    "# 거주인구 컬럼의 값 출력\n",
    "ans = df['거주인구']\n",
    "ans"
   ]
  },
  {
   "cell_type": "code",
   "execution_count": 238,
   "metadata": {},
   "outputs": [
    {
     "output_type": "execute_result",
     "data": {
      "text/plain": [
       "14.854999999999997"
      ]
     },
     "metadata": {},
     "execution_count": 238
    }
   ],
   "source": [
    "# 평균 속도 컬럼의 4분위 범위(IQR) 값\n",
    "# 사분위수 범위 Q3 - Q1\n",
    "# 최소값 | 1사분위수 | 2사분위수(중앙값) | 3사분위수 | 최대값 \n",
    "ans = df['평균 속도'].quantile(0.75) - df['평균 속도'].quantile(0.25)\n",
    "ans"
   ]
  },
  {
   "cell_type": "code",
   "execution_count": 239,
   "metadata": {},
   "outputs": [
    {
     "output_type": "execute_result",
     "data": {
      "text/plain": [
       "14.854999999999997"
      ]
     },
     "metadata": {},
     "execution_count": 239
    }
   ],
   "source": [
    "# 읍면동명 컬럼의 유일값 갯수 \n",
    "answ = df['읍면동명'].nunique()\n",
    "ans"
   ]
  },
  {
   "cell_type": "code",
   "execution_count": 240,
   "metadata": {},
   "outputs": [
    {
     "output_type": "execute_result",
     "data": {
      "text/plain": [
       "array(['도두동', '외도동', '이도2동', '일도1동', '대천동', '서홍동', '한경면', '송산동', '조천읍',\n",
       "       '일도2동', '영천동', '예래동', '대륜동', '삼도1동', '이호동', '건입동', '중앙동', '삼양동',\n",
       "       '삼도2동', '이도1동', '남원읍', '대정읍', '정방동', '효돈동', '아라동', '한림읍', '구좌읍',\n",
       "       '용담1동', '오라동', '화북동', '연동', '표선면', '중문동', '성산읍', '안덕면', '천지동',\n",
       "       '노형동', '동홍동', '용담2동', '봉개동', '애월읍'], dtype=object)"
      ]
     },
     "metadata": {},
     "execution_count": 240
    }
   ],
   "source": [
    "# 읍면동명 컬럼의 유일값 모두 출력\n",
    "ans = df['읍면동명'].unique()\n",
    "ans"
   ]
  },
  {
   "source": [
    "## 02. Filtering & Sorting"
   ],
   "cell_type": "markdown",
   "metadata": {}
  },
  {
   "cell_type": "code",
   "execution_count": 241,
   "metadata": {},
   "outputs": [
    {
     "output_type": "stream",
     "name": "stdout",
     "text": [
      "<class 'pandas.core.frame.DataFrame'>\nRangeIndex: 4622 entries, 0 to 4621\nData columns (total 5 columns):\n #   Column              Non-Null Count  Dtype \n---  ------              --------------  ----- \n 0   order_id            4622 non-null   int64 \n 1   quantity            4622 non-null   int64 \n 2   item_name           4622 non-null   object\n 3   choice_description  3376 non-null   object\n 4   item_price          4622 non-null   object\ndtypes: int64(2), object(3)\nmemory usage: 180.7+ KB\n"
     ]
    }
   ],
   "source": [
    "url = \"https://raw.githubusercontent.com/Datamanim/pandas/main/chipo.csv\"\n",
    "df = pd.read_csv(url)\n",
    "df.info()"
   ]
  },
  {
   "cell_type": "code",
   "execution_count": 242,
   "metadata": {},
   "outputs": [
    {
     "output_type": "execute_result",
     "data": {
      "text/plain": [
       "     order_id  quantity          item_name  \\\n",
       "409       178         3       Chicken Bowl   \n",
       "445       193         3               Bowl   \n",
       "689       284         3  Canned Soft Drink   \n",
       "818       338         3      Bottled Water   \n",
       "850       350         3  Canned Soft Drink   \n",
       "\n",
       "                                    choice_description item_price  \n",
       "409  [[Fresh Tomato Salsa (Mild), Tomatillo-Green C...    $32.94   \n",
       "445  [Braised Carnitas, Pinto Beans, [Sour Cream, C...    $22.20   \n",
       "689                                        [Diet Coke]     $3.75   \n",
       "818                                                NaN     $3.27   \n",
       "850                                           [Sprite]     $3.75   "
      ],
      "text/html": "<div>\n<style scoped>\n    .dataframe tbody tr th:only-of-type {\n        vertical-align: middle;\n    }\n\n    .dataframe tbody tr th {\n        vertical-align: top;\n    }\n\n    .dataframe thead th {\n        text-align: right;\n    }\n</style>\n<table border=\"1\" class=\"dataframe\">\n  <thead>\n    <tr style=\"text-align: right;\">\n      <th></th>\n      <th>order_id</th>\n      <th>quantity</th>\n      <th>item_name</th>\n      <th>choice_description</th>\n      <th>item_price</th>\n    </tr>\n  </thead>\n  <tbody>\n    <tr>\n      <th>409</th>\n      <td>178</td>\n      <td>3</td>\n      <td>Chicken Bowl</td>\n      <td>[[Fresh Tomato Salsa (Mild), Tomatillo-Green C...</td>\n      <td>$32.94</td>\n    </tr>\n    <tr>\n      <th>445</th>\n      <td>193</td>\n      <td>3</td>\n      <td>Bowl</td>\n      <td>[Braised Carnitas, Pinto Beans, [Sour Cream, C...</td>\n      <td>$22.20</td>\n    </tr>\n    <tr>\n      <th>689</th>\n      <td>284</td>\n      <td>3</td>\n      <td>Canned Soft Drink</td>\n      <td>[Diet Coke]</td>\n      <td>$3.75</td>\n    </tr>\n    <tr>\n      <th>818</th>\n      <td>338</td>\n      <td>3</td>\n      <td>Bottled Water</td>\n      <td>NaN</td>\n      <td>$3.27</td>\n    </tr>\n    <tr>\n      <th>850</th>\n      <td>350</td>\n      <td>3</td>\n      <td>Canned Soft Drink</td>\n      <td>[Sprite]</td>\n      <td>$3.75</td>\n    </tr>\n  </tbody>\n</table>\n</div>"
     },
     "metadata": {},
     "execution_count": 242
    }
   ],
   "source": [
    "# quantitiy 컬럼 값이 3인 데이터를 추출하여 첫 5행 출력\n",
    "# loc[행에 대한 정보, 열에 대한 정보]\n",
    "# 참고 https://m.blog.naver.com/wideeyed/221964700554\n",
    "ans = df[df['quantity'] == 3].head(5)\n",
    "ans"
   ]
  },
  {
   "cell_type": "code",
   "execution_count": 243,
   "metadata": {},
   "outputs": [
    {
     "output_type": "execute_result",
     "data": {
      "text/plain": [
       "pandas.core.frame.DataFrame"
      ]
     },
     "metadata": {},
     "execution_count": 243
    }
   ],
   "source": [
    "type(ans)"
   ]
  },
  {
   "cell_type": "code",
   "execution_count": 244,
   "metadata": {},
   "outputs": [
    {
     "output_type": "execute_result",
     "data": {
      "text/plain": [
       "     order_id  quantity          item_name  \\\n",
       "409       178         3       Chicken Bowl   \n",
       "445       193         3               Bowl   \n",
       "689       284         3  Canned Soft Drink   \n",
       "818       338         3      Bottled Water   \n",
       "850       350         3  Canned Soft Drink   \n",
       "\n",
       "                                    choice_description item_price  \n",
       "409  [[Fresh Tomato Salsa (Mild), Tomatillo-Green C...    $32.94   \n",
       "445  [Braised Carnitas, Pinto Beans, [Sour Cream, C...    $22.20   \n",
       "689                                        [Diet Coke]     $3.75   \n",
       "818                                                NaN     $3.27   \n",
       "850                                           [Sprite]     $3.75   "
      ],
      "text/html": "<div>\n<style scoped>\n    .dataframe tbody tr th:only-of-type {\n        vertical-align: middle;\n    }\n\n    .dataframe tbody tr th {\n        vertical-align: top;\n    }\n\n    .dataframe thead th {\n        text-align: right;\n    }\n</style>\n<table border=\"1\" class=\"dataframe\">\n  <thead>\n    <tr style=\"text-align: right;\">\n      <th></th>\n      <th>order_id</th>\n      <th>quantity</th>\n      <th>item_name</th>\n      <th>choice_description</th>\n      <th>item_price</th>\n    </tr>\n  </thead>\n  <tbody>\n    <tr>\n      <th>409</th>\n      <td>178</td>\n      <td>3</td>\n      <td>Chicken Bowl</td>\n      <td>[[Fresh Tomato Salsa (Mild), Tomatillo-Green C...</td>\n      <td>$32.94</td>\n    </tr>\n    <tr>\n      <th>445</th>\n      <td>193</td>\n      <td>3</td>\n      <td>Bowl</td>\n      <td>[Braised Carnitas, Pinto Beans, [Sour Cream, C...</td>\n      <td>$22.20</td>\n    </tr>\n    <tr>\n      <th>689</th>\n      <td>284</td>\n      <td>3</td>\n      <td>Canned Soft Drink</td>\n      <td>[Diet Coke]</td>\n      <td>$3.75</td>\n    </tr>\n    <tr>\n      <th>818</th>\n      <td>338</td>\n      <td>3</td>\n      <td>Bottled Water</td>\n      <td>NaN</td>\n      <td>$3.27</td>\n    </tr>\n    <tr>\n      <th>850</th>\n      <td>350</td>\n      <td>3</td>\n      <td>Canned Soft Drink</td>\n      <td>[Sprite]</td>\n      <td>$3.75</td>\n    </tr>\n  </tbody>\n</table>\n</div>"
     },
     "metadata": {},
     "execution_count": 244
    }
   ],
   "source": [
    "ans = df.loc[df['quantity'] == 3].head(5)\n",
    "ans"
   ]
  },
  {
   "cell_type": "code",
   "execution_count": 245,
   "metadata": {},
   "outputs": [
    {
     "output_type": "execute_result",
     "data": {
      "text/plain": [
       "pandas.core.frame.DataFrame"
      ]
     },
     "metadata": {},
     "execution_count": 245
    }
   ],
   "source": [
    "type(ans)"
   ]
  },
  {
   "cell_type": "code",
   "execution_count": 246,
   "metadata": {},
   "outputs": [
    {
     "output_type": "execute_result",
     "data": {
      "text/plain": [
       "   order_id  quantity          item_name  \\\n",
       "0       178         3       Chicken Bowl   \n",
       "1       193         3               Bowl   \n",
       "2       284         3  Canned Soft Drink   \n",
       "3       338         3      Bottled Water   \n",
       "4       350         3  Canned Soft Drink   \n",
       "\n",
       "                                  choice_description item_price  \n",
       "0  [[Fresh Tomato Salsa (Mild), Tomatillo-Green C...    $32.94   \n",
       "1  [Braised Carnitas, Pinto Beans, [Sour Cream, C...    $22.20   \n",
       "2                                        [Diet Coke]     $3.75   \n",
       "3                                                NaN     $3.27   \n",
       "4                                           [Sprite]     $3.75   "
      ],
      "text/html": "<div>\n<style scoped>\n    .dataframe tbody tr th:only-of-type {\n        vertical-align: middle;\n    }\n\n    .dataframe tbody tr th {\n        vertical-align: top;\n    }\n\n    .dataframe thead th {\n        text-align: right;\n    }\n</style>\n<table border=\"1\" class=\"dataframe\">\n  <thead>\n    <tr style=\"text-align: right;\">\n      <th></th>\n      <th>order_id</th>\n      <th>quantity</th>\n      <th>item_name</th>\n      <th>choice_description</th>\n      <th>item_price</th>\n    </tr>\n  </thead>\n  <tbody>\n    <tr>\n      <th>0</th>\n      <td>178</td>\n      <td>3</td>\n      <td>Chicken Bowl</td>\n      <td>[[Fresh Tomato Salsa (Mild), Tomatillo-Green C...</td>\n      <td>$32.94</td>\n    </tr>\n    <tr>\n      <th>1</th>\n      <td>193</td>\n      <td>3</td>\n      <td>Bowl</td>\n      <td>[Braised Carnitas, Pinto Beans, [Sour Cream, C...</td>\n      <td>$22.20</td>\n    </tr>\n    <tr>\n      <th>2</th>\n      <td>284</td>\n      <td>3</td>\n      <td>Canned Soft Drink</td>\n      <td>[Diet Coke]</td>\n      <td>$3.75</td>\n    </tr>\n    <tr>\n      <th>3</th>\n      <td>338</td>\n      <td>3</td>\n      <td>Bottled Water</td>\n      <td>NaN</td>\n      <td>$3.27</td>\n    </tr>\n    <tr>\n      <th>4</th>\n      <td>350</td>\n      <td>3</td>\n      <td>Canned Soft Drink</td>\n      <td>[Sprite]</td>\n      <td>$3.75</td>\n    </tr>\n  </tbody>\n</table>\n</div>"
     },
     "metadata": {},
     "execution_count": 246
    }
   ],
   "source": [
    "# quantity 컬럼 값이 3인 데이터를 추출하여 index를 0 부터 정렬하고 첫 5행 출력\n",
    "ans = df.loc[df['quantity'] == 3].reset_index(drop=True).head()\n",
    "ans"
   ]
  },
  {
   "cell_type": "code",
   "execution_count": 247,
   "metadata": {},
   "outputs": [
    {
     "output_type": "execute_result",
     "data": {
      "text/plain": [
       "   order_id  quantity          item_name  \\\n",
       "0       178         3       Chicken Bowl   \n",
       "1       193         3               Bowl   \n",
       "2       284         3  Canned Soft Drink   \n",
       "3       338         3      Bottled Water   \n",
       "4       350         3  Canned Soft Drink   \n",
       "\n",
       "                                  choice_description item_price  \n",
       "0  [[Fresh Tomato Salsa (Mild), Tomatillo-Green C...    $32.94   \n",
       "1  [Braised Carnitas, Pinto Beans, [Sour Cream, C...    $22.20   \n",
       "2                                        [Diet Coke]     $3.75   \n",
       "3                                                NaN     $3.27   \n",
       "4                                           [Sprite]     $3.75   "
      ],
      "text/html": "<div>\n<style scoped>\n    .dataframe tbody tr th:only-of-type {\n        vertical-align: middle;\n    }\n\n    .dataframe tbody tr th {\n        vertical-align: top;\n    }\n\n    .dataframe thead th {\n        text-align: right;\n    }\n</style>\n<table border=\"1\" class=\"dataframe\">\n  <thead>\n    <tr style=\"text-align: right;\">\n      <th></th>\n      <th>order_id</th>\n      <th>quantity</th>\n      <th>item_name</th>\n      <th>choice_description</th>\n      <th>item_price</th>\n    </tr>\n  </thead>\n  <tbody>\n    <tr>\n      <th>0</th>\n      <td>178</td>\n      <td>3</td>\n      <td>Chicken Bowl</td>\n      <td>[[Fresh Tomato Salsa (Mild), Tomatillo-Green C...</td>\n      <td>$32.94</td>\n    </tr>\n    <tr>\n      <th>1</th>\n      <td>193</td>\n      <td>3</td>\n      <td>Bowl</td>\n      <td>[Braised Carnitas, Pinto Beans, [Sour Cream, C...</td>\n      <td>$22.20</td>\n    </tr>\n    <tr>\n      <th>2</th>\n      <td>284</td>\n      <td>3</td>\n      <td>Canned Soft Drink</td>\n      <td>[Diet Coke]</td>\n      <td>$3.75</td>\n    </tr>\n    <tr>\n      <th>3</th>\n      <td>338</td>\n      <td>3</td>\n      <td>Bottled Water</td>\n      <td>NaN</td>\n      <td>$3.27</td>\n    </tr>\n    <tr>\n      <th>4</th>\n      <td>350</td>\n      <td>3</td>\n      <td>Canned Soft Drink</td>\n      <td>[Sprite]</td>\n      <td>$3.75</td>\n    </tr>\n  </tbody>\n</table>\n</div>"
     },
     "metadata": {},
     "execution_count": 247
    }
   ],
   "source": [
    "ans = df.loc[df['quantity'] == 3].head().reset_index(drop=True)\n",
    "ans"
   ]
  },
  {
   "cell_type": "code",
   "execution_count": 248,
   "metadata": {},
   "outputs": [
    {
     "output_type": "execute_result",
     "data": {
      "text/plain": [
       "      quantity item_price\n",
       "0            1     $2.39 \n",
       "1            1     $3.39 \n",
       "2            1     $3.39 \n",
       "3            1     $2.39 \n",
       "4            2    $16.98 \n",
       "...        ...        ...\n",
       "4617         1    $11.75 \n",
       "4618         1    $11.75 \n",
       "4619         1    $11.25 \n",
       "4620         1     $8.75 \n",
       "4621         1     $8.75 \n",
       "\n",
       "[4622 rows x 2 columns]"
      ],
      "text/html": "<div>\n<style scoped>\n    .dataframe tbody tr th:only-of-type {\n        vertical-align: middle;\n    }\n\n    .dataframe tbody tr th {\n        vertical-align: top;\n    }\n\n    .dataframe thead th {\n        text-align: right;\n    }\n</style>\n<table border=\"1\" class=\"dataframe\">\n  <thead>\n    <tr style=\"text-align: right;\">\n      <th></th>\n      <th>quantity</th>\n      <th>item_price</th>\n    </tr>\n  </thead>\n  <tbody>\n    <tr>\n      <th>0</th>\n      <td>1</td>\n      <td>$2.39</td>\n    </tr>\n    <tr>\n      <th>1</th>\n      <td>1</td>\n      <td>$3.39</td>\n    </tr>\n    <tr>\n      <th>2</th>\n      <td>1</td>\n      <td>$3.39</td>\n    </tr>\n    <tr>\n      <th>3</th>\n      <td>1</td>\n      <td>$2.39</td>\n    </tr>\n    <tr>\n      <th>4</th>\n      <td>2</td>\n      <td>$16.98</td>\n    </tr>\n    <tr>\n      <th>...</th>\n      <td>...</td>\n      <td>...</td>\n    </tr>\n    <tr>\n      <th>4617</th>\n      <td>1</td>\n      <td>$11.75</td>\n    </tr>\n    <tr>\n      <th>4618</th>\n      <td>1</td>\n      <td>$11.75</td>\n    </tr>\n    <tr>\n      <th>4619</th>\n      <td>1</td>\n      <td>$11.25</td>\n    </tr>\n    <tr>\n      <th>4620</th>\n      <td>1</td>\n      <td>$8.75</td>\n    </tr>\n    <tr>\n      <th>4621</th>\n      <td>1</td>\n      <td>$8.75</td>\n    </tr>\n  </tbody>\n</table>\n<p>4622 rows × 2 columns</p>\n</div>"
     },
     "metadata": {},
     "execution_count": 248
    }
   ],
   "source": [
    "# quantity, itemp_price 두개의 컬럼으로 구성된 새로운 데이터 프레임을 정의\n",
    "ans = df[['quantity', 'item_price']]\n",
    "ans"
   ]
  },
  {
   "cell_type": "code",
   "execution_count": 249,
   "metadata": {},
   "outputs": [
    {
     "output_type": "execute_result",
     "data": {
      "text/plain": [
       "      quantity item_price\n",
       "0            1     $2.39 \n",
       "1            1     $3.39 \n",
       "2            1     $3.39 \n",
       "3            1     $2.39 \n",
       "4            2    $16.98 \n",
       "...        ...        ...\n",
       "4617         1    $11.75 \n",
       "4618         1    $11.75 \n",
       "4619         1    $11.25 \n",
       "4620         1     $8.75 \n",
       "4621         1     $8.75 \n",
       "\n",
       "[4622 rows x 2 columns]"
      ],
      "text/html": "<div>\n<style scoped>\n    .dataframe tbody tr th:only-of-type {\n        vertical-align: middle;\n    }\n\n    .dataframe tbody tr th {\n        vertical-align: top;\n    }\n\n    .dataframe thead th {\n        text-align: right;\n    }\n</style>\n<table border=\"1\" class=\"dataframe\">\n  <thead>\n    <tr style=\"text-align: right;\">\n      <th></th>\n      <th>quantity</th>\n      <th>item_price</th>\n    </tr>\n  </thead>\n  <tbody>\n    <tr>\n      <th>0</th>\n      <td>1</td>\n      <td>$2.39</td>\n    </tr>\n    <tr>\n      <th>1</th>\n      <td>1</td>\n      <td>$3.39</td>\n    </tr>\n    <tr>\n      <th>2</th>\n      <td>1</td>\n      <td>$3.39</td>\n    </tr>\n    <tr>\n      <th>3</th>\n      <td>1</td>\n      <td>$2.39</td>\n    </tr>\n    <tr>\n      <th>4</th>\n      <td>2</td>\n      <td>$16.98</td>\n    </tr>\n    <tr>\n      <th>...</th>\n      <td>...</td>\n      <td>...</td>\n    </tr>\n    <tr>\n      <th>4617</th>\n      <td>1</td>\n      <td>$11.75</td>\n    </tr>\n    <tr>\n      <th>4618</th>\n      <td>1</td>\n      <td>$11.75</td>\n    </tr>\n    <tr>\n      <th>4619</th>\n      <td>1</td>\n      <td>$11.25</td>\n    </tr>\n    <tr>\n      <th>4620</th>\n      <td>1</td>\n      <td>$8.75</td>\n    </tr>\n    <tr>\n      <th>4621</th>\n      <td>1</td>\n      <td>$8.75</td>\n    </tr>\n  </tbody>\n</table>\n<p>4622 rows × 2 columns</p>\n</div>"
     },
     "metadata": {},
     "execution_count": 249
    }
   ],
   "source": [
    "ans = df.loc[:,['quantity', 'item_price']]\n",
    "ans"
   ]
  },
  {
   "cell_type": "code",
   "execution_count": 250,
   "metadata": {},
   "outputs": [
    {
     "output_type": "execute_result",
     "data": {
      "text/plain": [
       "   order_id  quantity                              item_name  \\\n",
       "0         1         1           Chips and Fresh Tomato Salsa   \n",
       "1         1         1                                   Izze   \n",
       "2         1         1                       Nantucket Nectar   \n",
       "3         1         1  Chips and Tomatillo-Green Chili Salsa   \n",
       "4         2         2                           Chicken Bowl   \n",
       "\n",
       "                                  choice_description item_price  new_price  \n",
       "0                                                NaN     $2.39        2.39  \n",
       "1                                       [Clementine]     $3.39        3.39  \n",
       "2                                            [Apple]     $3.39        3.39  \n",
       "3                                                NaN     $2.39        2.39  \n",
       "4  [Tomatillo-Red Chili Salsa (Hot), [Black Beans...    $16.98       16.98  "
      ],
      "text/html": "<div>\n<style scoped>\n    .dataframe tbody tr th:only-of-type {\n        vertical-align: middle;\n    }\n\n    .dataframe tbody tr th {\n        vertical-align: top;\n    }\n\n    .dataframe thead th {\n        text-align: right;\n    }\n</style>\n<table border=\"1\" class=\"dataframe\">\n  <thead>\n    <tr style=\"text-align: right;\">\n      <th></th>\n      <th>order_id</th>\n      <th>quantity</th>\n      <th>item_name</th>\n      <th>choice_description</th>\n      <th>item_price</th>\n      <th>new_price</th>\n    </tr>\n  </thead>\n  <tbody>\n    <tr>\n      <th>0</th>\n      <td>1</td>\n      <td>1</td>\n      <td>Chips and Fresh Tomato Salsa</td>\n      <td>NaN</td>\n      <td>$2.39</td>\n      <td>2.39</td>\n    </tr>\n    <tr>\n      <th>1</th>\n      <td>1</td>\n      <td>1</td>\n      <td>Izze</td>\n      <td>[Clementine]</td>\n      <td>$3.39</td>\n      <td>3.39</td>\n    </tr>\n    <tr>\n      <th>2</th>\n      <td>1</td>\n      <td>1</td>\n      <td>Nantucket Nectar</td>\n      <td>[Apple]</td>\n      <td>$3.39</td>\n      <td>3.39</td>\n    </tr>\n    <tr>\n      <th>3</th>\n      <td>1</td>\n      <td>1</td>\n      <td>Chips and Tomatillo-Green Chili Salsa</td>\n      <td>NaN</td>\n      <td>$2.39</td>\n      <td>2.39</td>\n    </tr>\n    <tr>\n      <th>4</th>\n      <td>2</td>\n      <td>2</td>\n      <td>Chicken Bowl</td>\n      <td>[Tomatillo-Red Chili Salsa (Hot), [Black Beans...</td>\n      <td>$16.98</td>\n      <td>16.98</td>\n    </tr>\n  </tbody>\n</table>\n</div>"
     },
     "metadata": {},
     "execution_count": 250
    }
   ],
   "source": [
    "# item_price 컬럼의 달러표시 문자를 제거하고 float 타입으로 저장하여 new_price 컬럼에 저장\n",
    "df['new_price'] = df['item_price'].str[1:].astype('float')\n",
    "ans = df.head(5)\n",
    "ans"
   ]
  },
  {
   "cell_type": "code",
   "execution_count": 251,
   "metadata": {},
   "outputs": [
    {
     "output_type": "stream",
     "name": "stdout",
     "text": [
      "<class 'pandas.core.frame.DataFrame'>\nRangeIndex: 4622 entries, 0 to 4621\nData columns (total 6 columns):\n #   Column              Non-Null Count  Dtype  \n---  ------              --------------  -----  \n 0   order_id            4622 non-null   int64  \n 1   quantity            4622 non-null   int64  \n 2   item_name           4622 non-null   object \n 3   choice_description  3376 non-null   object \n 4   item_price          4622 non-null   object \n 5   new_price           4622 non-null   float64\ndtypes: float64(1), int64(2), object(3)\nmemory usage: 216.8+ KB\n"
     ]
    }
   ],
   "source": [
    "df.info()"
   ]
  },
  {
   "cell_type": "code",
   "execution_count": 252,
   "metadata": {},
   "outputs": [
    {
     "output_type": "execute_result",
     "data": {
      "text/plain": [
       "1652"
      ]
     },
     "metadata": {},
     "execution_count": 252
    }
   ],
   "source": [
    "# new_price 컬럼이 5이하의 값을 가지는 데이터프레임을 추출하고, 전체 갯수를 구해라\n",
    "ans = len(df.loc[df['new_price'] <= 5])\n",
    "ans"
   ]
  },
  {
   "cell_type": "code",
   "execution_count": 253,
   "metadata": {},
   "outputs": [
    {
     "output_type": "execute_result",
     "data": {
      "text/plain": [
       "   order_id  quantity           item_name  \\\n",
       "0        20         1  Chicken Salad Bowl   \n",
       "1        60         2  Chicken Salad Bowl   \n",
       "2        94         2  Chicken Salad Bowl   \n",
       "3       111         1  Chicken Salad Bowl   \n",
       "4       137         2  Chicken Salad Bowl   \n",
       "\n",
       "                                  choice_description item_price  new_price  \n",
       "0  [Fresh Tomato Salsa, [Fajita Vegetables, Pinto...     $8.75        8.75  \n",
       "1  [Tomatillo Green Chili Salsa, [Sour Cream, Che...    $22.50       22.50  \n",
       "2  [Fresh Tomato Salsa, [Fajita Vegetables, Pinto...    $22.50       22.50  \n",
       "3  [Fresh Tomato Salsa, [Fajita Vegetables, Rice,...     $8.75        8.75  \n",
       "4            [Fresh Tomato Salsa, Fajita Vegetables]    $17.50       17.50  "
      ],
      "text/html": "<div>\n<style scoped>\n    .dataframe tbody tr th:only-of-type {\n        vertical-align: middle;\n    }\n\n    .dataframe tbody tr th {\n        vertical-align: top;\n    }\n\n    .dataframe thead th {\n        text-align: right;\n    }\n</style>\n<table border=\"1\" class=\"dataframe\">\n  <thead>\n    <tr style=\"text-align: right;\">\n      <th></th>\n      <th>order_id</th>\n      <th>quantity</th>\n      <th>item_name</th>\n      <th>choice_description</th>\n      <th>item_price</th>\n      <th>new_price</th>\n    </tr>\n  </thead>\n  <tbody>\n    <tr>\n      <th>0</th>\n      <td>20</td>\n      <td>1</td>\n      <td>Chicken Salad Bowl</td>\n      <td>[Fresh Tomato Salsa, [Fajita Vegetables, Pinto...</td>\n      <td>$8.75</td>\n      <td>8.75</td>\n    </tr>\n    <tr>\n      <th>1</th>\n      <td>60</td>\n      <td>2</td>\n      <td>Chicken Salad Bowl</td>\n      <td>[Tomatillo Green Chili Salsa, [Sour Cream, Che...</td>\n      <td>$22.50</td>\n      <td>22.50</td>\n    </tr>\n    <tr>\n      <th>2</th>\n      <td>94</td>\n      <td>2</td>\n      <td>Chicken Salad Bowl</td>\n      <td>[Fresh Tomato Salsa, [Fajita Vegetables, Pinto...</td>\n      <td>$22.50</td>\n      <td>22.50</td>\n    </tr>\n    <tr>\n      <th>3</th>\n      <td>111</td>\n      <td>1</td>\n      <td>Chicken Salad Bowl</td>\n      <td>[Fresh Tomato Salsa, [Fajita Vegetables, Rice,...</td>\n      <td>$8.75</td>\n      <td>8.75</td>\n    </tr>\n    <tr>\n      <th>4</th>\n      <td>137</td>\n      <td>2</td>\n      <td>Chicken Salad Bowl</td>\n      <td>[Fresh Tomato Salsa, Fajita Vegetables]</td>\n      <td>$17.50</td>\n      <td>17.50</td>\n    </tr>\n  </tbody>\n</table>\n</div>"
     },
     "metadata": {},
     "execution_count": 253
    }
   ],
   "source": [
    "# item_name 명이 Chicken Salad Bowl인 데이터 프레임을 추출하고 index 값을 초기화\n",
    "# 기존 index 컬럼 삭제하려면 drop=True 인자 주기 \n",
    "ans = df.loc[df['item_name']=='Chicken Salad Bowl'].reset_index(drop=True).head()\n",
    "ans"
   ]
  },
  {
   "cell_type": "code",
   "execution_count": 254,
   "metadata": {
    "tags": []
   },
   "outputs": [
    {
     "output_type": "execute_result",
     "data": {
      "text/plain": [
       "     order_id  quantity           item_name  \\\n",
       "44         20         1  Chicken Salad Bowl   \n",
       "256       111         1  Chicken Salad Bowl   \n",
       "526       220         1  Chicken Salad Bowl   \n",
       "528       221         1  Chicken Salad Bowl   \n",
       "529       221         1  Chicken Salad Bowl   \n",
       "\n",
       "                                    choice_description item_price  new_price  \n",
       "44   [Fresh Tomato Salsa, [Fajita Vegetables, Pinto...     $8.75        8.75  \n",
       "256  [Fresh Tomato Salsa, [Fajita Vegetables, Rice,...     $8.75        8.75  \n",
       "526  [Roasted Chili Corn Salsa, [Black Beans, Sour ...     $8.75        8.75  \n",
       "528  [Tomatillo Green Chili Salsa, [Fajita Vegetabl...     $8.75        8.75  \n",
       "529  [Tomatillo Green Chili Salsa, [Fajita Vegetabl...     $8.75        8.75  "
      ],
      "text/html": "<div>\n<style scoped>\n    .dataframe tbody tr th:only-of-type {\n        vertical-align: middle;\n    }\n\n    .dataframe tbody tr th {\n        vertical-align: top;\n    }\n\n    .dataframe thead th {\n        text-align: right;\n    }\n</style>\n<table border=\"1\" class=\"dataframe\">\n  <thead>\n    <tr style=\"text-align: right;\">\n      <th></th>\n      <th>order_id</th>\n      <th>quantity</th>\n      <th>item_name</th>\n      <th>choice_description</th>\n      <th>item_price</th>\n      <th>new_price</th>\n    </tr>\n  </thead>\n  <tbody>\n    <tr>\n      <th>44</th>\n      <td>20</td>\n      <td>1</td>\n      <td>Chicken Salad Bowl</td>\n      <td>[Fresh Tomato Salsa, [Fajita Vegetables, Pinto...</td>\n      <td>$8.75</td>\n      <td>8.75</td>\n    </tr>\n    <tr>\n      <th>256</th>\n      <td>111</td>\n      <td>1</td>\n      <td>Chicken Salad Bowl</td>\n      <td>[Fresh Tomato Salsa, [Fajita Vegetables, Rice,...</td>\n      <td>$8.75</td>\n      <td>8.75</td>\n    </tr>\n    <tr>\n      <th>526</th>\n      <td>220</td>\n      <td>1</td>\n      <td>Chicken Salad Bowl</td>\n      <td>[Roasted Chili Corn Salsa, [Black Beans, Sour ...</td>\n      <td>$8.75</td>\n      <td>8.75</td>\n    </tr>\n    <tr>\n      <th>528</th>\n      <td>221</td>\n      <td>1</td>\n      <td>Chicken Salad Bowl</td>\n      <td>[Tomatillo Green Chili Salsa, [Fajita Vegetabl...</td>\n      <td>$8.75</td>\n      <td>8.75</td>\n    </tr>\n    <tr>\n      <th>529</th>\n      <td>221</td>\n      <td>1</td>\n      <td>Chicken Salad Bowl</td>\n      <td>[Tomatillo Green Chili Salsa, [Fajita Vegetabl...</td>\n      <td>$8.75</td>\n      <td>8.75</td>\n    </tr>\n  </tbody>\n</table>\n</div>"
     },
     "metadata": {},
     "execution_count": 254
    }
   ],
   "source": [
    "# new_price값이 9 이하이고 item_name 값이 Chicken Salad Bowl인 데이터 프레임 추출\n",
    "# 조건 여러개 넣을 땐 '&'로\n",
    "ans = df.loc[(df.new_price <= 9) & (df.item_name == 'Chicken Salad Bowl')]\n",
    "ans.head()"
   ]
  },
  {
   "cell_type": "code",
   "execution_count": 255,
   "metadata": {},
   "outputs": [
    {
     "output_type": "execute_result",
     "data": {
      "text/plain": [
       "   order_id  quantity      item_name choice_description item_price  new_price\n",
       "0       471         1  Bottled Water                NaN     $1.09        1.09\n",
       "1       338         1    Canned Soda        [Coca Cola]     $1.09        1.09\n",
       "2      1575         1    Canned Soda       [Dr. Pepper]     $1.09        1.09\n",
       "3        47         1    Canned Soda       [Dr. Pepper]     $1.09        1.09\n",
       "4      1014         1    Canned Soda        [Coca Cola]     $1.09        1.09"
      ],
      "text/html": "<div>\n<style scoped>\n    .dataframe tbody tr th:only-of-type {\n        vertical-align: middle;\n    }\n\n    .dataframe tbody tr th {\n        vertical-align: top;\n    }\n\n    .dataframe thead th {\n        text-align: right;\n    }\n</style>\n<table border=\"1\" class=\"dataframe\">\n  <thead>\n    <tr style=\"text-align: right;\">\n      <th></th>\n      <th>order_id</th>\n      <th>quantity</th>\n      <th>item_name</th>\n      <th>choice_description</th>\n      <th>item_price</th>\n      <th>new_price</th>\n    </tr>\n  </thead>\n  <tbody>\n    <tr>\n      <th>0</th>\n      <td>471</td>\n      <td>1</td>\n      <td>Bottled Water</td>\n      <td>NaN</td>\n      <td>$1.09</td>\n      <td>1.09</td>\n    </tr>\n    <tr>\n      <th>1</th>\n      <td>338</td>\n      <td>1</td>\n      <td>Canned Soda</td>\n      <td>[Coca Cola]</td>\n      <td>$1.09</td>\n      <td>1.09</td>\n    </tr>\n    <tr>\n      <th>2</th>\n      <td>1575</td>\n      <td>1</td>\n      <td>Canned Soda</td>\n      <td>[Dr. Pepper]</td>\n      <td>$1.09</td>\n      <td>1.09</td>\n    </tr>\n    <tr>\n      <th>3</th>\n      <td>47</td>\n      <td>1</td>\n      <td>Canned Soda</td>\n      <td>[Dr. Pepper]</td>\n      <td>$1.09</td>\n      <td>1.09</td>\n    </tr>\n    <tr>\n      <th>4</th>\n      <td>1014</td>\n      <td>1</td>\n      <td>Canned Soda</td>\n      <td>[Coca Cola]</td>\n      <td>$1.09</td>\n      <td>1.09</td>\n    </tr>\n  </tbody>\n</table>\n</div>"
     },
     "metadata": {},
     "execution_count": 255
    }
   ],
   "source": [
    "# df의 new_price 컬럼 값에 따라 오름차순으로 정리하고 index 초기화 \n",
    "ans = df.sort_values('new_price').reset_index(drop=True).head()\n",
    "ans"
   ]
  },
  {
   "cell_type": "code",
   "execution_count": 256,
   "metadata": {},
   "outputs": [
    {
     "output_type": "execute_result",
     "data": {
      "text/plain": [
       "    order_id  quantity                              item_name  \\\n",
       "0          1         1           Chips and Fresh Tomato Salsa   \n",
       "3          1         1  Chips and Tomatillo-Green Chili Salsa   \n",
       "6          3         1                          Side of Chips   \n",
       "10         5         1                    Chips and Guacamole   \n",
       "14         7         1                    Chips and Guacamole   \n",
       "\n",
       "   choice_description item_price  new_price  \n",
       "0                 NaN     $2.39        2.39  \n",
       "3                 NaN     $2.39        2.39  \n",
       "6                 NaN     $1.69        1.69  \n",
       "10                NaN     $4.45        4.45  \n",
       "14                NaN     $4.45        4.45  "
      ],
      "text/html": "<div>\n<style scoped>\n    .dataframe tbody tr th:only-of-type {\n        vertical-align: middle;\n    }\n\n    .dataframe tbody tr th {\n        vertical-align: top;\n    }\n\n    .dataframe thead th {\n        text-align: right;\n    }\n</style>\n<table border=\"1\" class=\"dataframe\">\n  <thead>\n    <tr style=\"text-align: right;\">\n      <th></th>\n      <th>order_id</th>\n      <th>quantity</th>\n      <th>item_name</th>\n      <th>choice_description</th>\n      <th>item_price</th>\n      <th>new_price</th>\n    </tr>\n  </thead>\n  <tbody>\n    <tr>\n      <th>0</th>\n      <td>1</td>\n      <td>1</td>\n      <td>Chips and Fresh Tomato Salsa</td>\n      <td>NaN</td>\n      <td>$2.39</td>\n      <td>2.39</td>\n    </tr>\n    <tr>\n      <th>3</th>\n      <td>1</td>\n      <td>1</td>\n      <td>Chips and Tomatillo-Green Chili Salsa</td>\n      <td>NaN</td>\n      <td>$2.39</td>\n      <td>2.39</td>\n    </tr>\n    <tr>\n      <th>6</th>\n      <td>3</td>\n      <td>1</td>\n      <td>Side of Chips</td>\n      <td>NaN</td>\n      <td>$1.69</td>\n      <td>1.69</td>\n    </tr>\n    <tr>\n      <th>10</th>\n      <td>5</td>\n      <td>1</td>\n      <td>Chips and Guacamole</td>\n      <td>NaN</td>\n      <td>$4.45</td>\n      <td>4.45</td>\n    </tr>\n    <tr>\n      <th>14</th>\n      <td>7</td>\n      <td>1</td>\n      <td>Chips and Guacamole</td>\n      <td>NaN</td>\n      <td>$4.45</td>\n      <td>4.45</td>\n    </tr>\n  </tbody>\n</table>\n</div>"
     },
     "metadata": {},
     "execution_count": 256
    }
   ],
   "source": [
    "# df의 item_name 컬럼 값 중 Chips 포함하는 경우의 데이터 출력\n",
    "# 문자열 메소드 쓰려면 중간에 .str 추가 \n",
    "# df.loc[df.item_name.contains('Chips')]  -> (x)\n",
    "ans = df.loc[df.item_name.str.contains('Chips')]\n",
    "ans.head()"
   ]
  },
  {
   "cell_type": "code",
   "execution_count": 257,
   "metadata": {},
   "outputs": [
    {
     "output_type": "execute_result",
     "data": {
      "text/plain": [
       "   order_id                              item_name item_price\n",
       "0         1           Chips and Fresh Tomato Salsa     $2.39 \n",
       "1         1                                   Izze     $3.39 \n",
       "2         1                       Nantucket Nectar     $3.39 \n",
       "3         1  Chips and Tomatillo-Green Chili Salsa     $2.39 \n",
       "4         2                           Chicken Bowl    $16.98 "
      ],
      "text/html": "<div>\n<style scoped>\n    .dataframe tbody tr th:only-of-type {\n        vertical-align: middle;\n    }\n\n    .dataframe tbody tr th {\n        vertical-align: top;\n    }\n\n    .dataframe thead th {\n        text-align: right;\n    }\n</style>\n<table border=\"1\" class=\"dataframe\">\n  <thead>\n    <tr style=\"text-align: right;\">\n      <th></th>\n      <th>order_id</th>\n      <th>item_name</th>\n      <th>item_price</th>\n    </tr>\n  </thead>\n  <tbody>\n    <tr>\n      <th>0</th>\n      <td>1</td>\n      <td>Chips and Fresh Tomato Salsa</td>\n      <td>$2.39</td>\n    </tr>\n    <tr>\n      <th>1</th>\n      <td>1</td>\n      <td>Izze</td>\n      <td>$3.39</td>\n    </tr>\n    <tr>\n      <th>2</th>\n      <td>1</td>\n      <td>Nantucket Nectar</td>\n      <td>$3.39</td>\n    </tr>\n    <tr>\n      <th>3</th>\n      <td>1</td>\n      <td>Chips and Tomatillo-Green Chili Salsa</td>\n      <td>$2.39</td>\n    </tr>\n    <tr>\n      <th>4</th>\n      <td>2</td>\n      <td>Chicken Bowl</td>\n      <td>$16.98</td>\n    </tr>\n  </tbody>\n</table>\n</div>"
     },
     "metadata": {},
     "execution_count": 257
    }
   ],
   "source": [
    "# df의 짝수번째 컬럼만을 포함하는 데이터 프레임 출력\n",
    "# Series -> dataFrame : to_frame()\n",
    "ans = df.iloc[:,::2]\n",
    "ans.head()"
   ]
  },
  {
   "cell_type": "code",
   "execution_count": 258,
   "metadata": {},
   "outputs": [
    {
     "output_type": "execute_result",
     "data": {
      "text/plain": [
       "   order_id  quantity                     item_name  \\\n",
       "0      1443        15  Chips and Fresh Tomato Salsa   \n",
       "1      1398         3                 Carnitas Bowl   \n",
       "2       511         4               Chicken Burrito   \n",
       "3      1443         4               Chicken Burrito   \n",
       "4      1443         3                Veggie Burrito   \n",
       "\n",
       "                                  choice_description item_price  new_price  \n",
       "0                                                NaN    $44.25       44.25  \n",
       "1  [Roasted Chili Corn Salsa, [Fajita Vegetables,...    $35.25       35.25  \n",
       "2  [Fresh Tomato Salsa, [Fajita Vegetables, Rice,...    $35.00       35.00  \n",
       "3  [Fresh Tomato Salsa, [Rice, Black Beans, Chees...    $35.00       35.00  \n",
       "4  [Fresh Tomato Salsa, [Fajita Vegetables, Rice,...    $33.75       33.75  "
      ],
      "text/html": "<div>\n<style scoped>\n    .dataframe tbody tr th:only-of-type {\n        vertical-align: middle;\n    }\n\n    .dataframe tbody tr th {\n        vertical-align: top;\n    }\n\n    .dataframe thead th {\n        text-align: right;\n    }\n</style>\n<table border=\"1\" class=\"dataframe\">\n  <thead>\n    <tr style=\"text-align: right;\">\n      <th></th>\n      <th>order_id</th>\n      <th>quantity</th>\n      <th>item_name</th>\n      <th>choice_description</th>\n      <th>item_price</th>\n      <th>new_price</th>\n    </tr>\n  </thead>\n  <tbody>\n    <tr>\n      <th>0</th>\n      <td>1443</td>\n      <td>15</td>\n      <td>Chips and Fresh Tomato Salsa</td>\n      <td>NaN</td>\n      <td>$44.25</td>\n      <td>44.25</td>\n    </tr>\n    <tr>\n      <th>1</th>\n      <td>1398</td>\n      <td>3</td>\n      <td>Carnitas Bowl</td>\n      <td>[Roasted Chili Corn Salsa, [Fajita Vegetables,...</td>\n      <td>$35.25</td>\n      <td>35.25</td>\n    </tr>\n    <tr>\n      <th>2</th>\n      <td>511</td>\n      <td>4</td>\n      <td>Chicken Burrito</td>\n      <td>[Fresh Tomato Salsa, [Fajita Vegetables, Rice,...</td>\n      <td>$35.00</td>\n      <td>35.00</td>\n    </tr>\n    <tr>\n      <th>3</th>\n      <td>1443</td>\n      <td>4</td>\n      <td>Chicken Burrito</td>\n      <td>[Fresh Tomato Salsa, [Rice, Black Beans, Chees...</td>\n      <td>$35.00</td>\n      <td>35.00</td>\n    </tr>\n    <tr>\n      <th>4</th>\n      <td>1443</td>\n      <td>3</td>\n      <td>Veggie Burrito</td>\n      <td>[Fresh Tomato Salsa, [Fajita Vegetables, Rice,...</td>\n      <td>$33.75</td>\n      <td>33.75</td>\n    </tr>\n  </tbody>\n</table>\n</div>"
     },
     "metadata": {},
     "execution_count": 258
    }
   ],
   "source": [
    "# df의 new_price 컬럼 값에 따라 내림차순으로 정렬하고 index를 초기화 해라\n",
    "ans = df.sort_values('new_price', ascending=False).reset_index(drop=True)\n",
    "ans.head()"
   ]
  },
  {
   "cell_type": "code",
   "execution_count": 259,
   "metadata": {},
   "outputs": [
    {
     "output_type": "execute_result",
     "data": {
      "text/plain": [
       "      order_id  quantity    item_name  \\\n",
       "445        193         3         Bowl   \n",
       "664        276         1  Steak Salad   \n",
       "673        279         1         Bowl   \n",
       "752        311         1  Steak Salad   \n",
       "893        369         1  Steak Salad   \n",
       "3502      1406         1  Steak Salad   \n",
       "\n",
       "                                     choice_description item_price  new_price  \n",
       "445   [Braised Carnitas, Pinto Beans, [Sour Cream, C...    $22.20       22.20  \n",
       "664   [Tomatillo-Red Chili Salsa (Hot), [Black Beans...     $8.99        8.99  \n",
       "673   [Adobo-Marinated and Grilled Steak, [Sour Crea...     $7.40        7.40  \n",
       "752   [Tomatillo-Red Chili Salsa (Hot), [Black Beans...     $8.99        8.99  \n",
       "893   [Fresh Tomato Salsa (Mild), [Rice, Cheese, Sou...     $8.99        8.99  \n",
       "3502                        [[Lettuce, Fajita Veggies]]     $8.69        8.69  "
      ],
      "text/html": "<div>\n<style scoped>\n    .dataframe tbody tr th:only-of-type {\n        vertical-align: middle;\n    }\n\n    .dataframe tbody tr th {\n        vertical-align: top;\n    }\n\n    .dataframe thead th {\n        text-align: right;\n    }\n</style>\n<table border=\"1\" class=\"dataframe\">\n  <thead>\n    <tr style=\"text-align: right;\">\n      <th></th>\n      <th>order_id</th>\n      <th>quantity</th>\n      <th>item_name</th>\n      <th>choice_description</th>\n      <th>item_price</th>\n      <th>new_price</th>\n    </tr>\n  </thead>\n  <tbody>\n    <tr>\n      <th>445</th>\n      <td>193</td>\n      <td>3</td>\n      <td>Bowl</td>\n      <td>[Braised Carnitas, Pinto Beans, [Sour Cream, C...</td>\n      <td>$22.20</td>\n      <td>22.20</td>\n    </tr>\n    <tr>\n      <th>664</th>\n      <td>276</td>\n      <td>1</td>\n      <td>Steak Salad</td>\n      <td>[Tomatillo-Red Chili Salsa (Hot), [Black Beans...</td>\n      <td>$8.99</td>\n      <td>8.99</td>\n    </tr>\n    <tr>\n      <th>673</th>\n      <td>279</td>\n      <td>1</td>\n      <td>Bowl</td>\n      <td>[Adobo-Marinated and Grilled Steak, [Sour Crea...</td>\n      <td>$7.40</td>\n      <td>7.40</td>\n    </tr>\n    <tr>\n      <th>752</th>\n      <td>311</td>\n      <td>1</td>\n      <td>Steak Salad</td>\n      <td>[Tomatillo-Red Chili Salsa (Hot), [Black Beans...</td>\n      <td>$8.99</td>\n      <td>8.99</td>\n    </tr>\n    <tr>\n      <th>893</th>\n      <td>369</td>\n      <td>1</td>\n      <td>Steak Salad</td>\n      <td>[Fresh Tomato Salsa (Mild), [Rice, Cheese, Sou...</td>\n      <td>$8.99</td>\n      <td>8.99</td>\n    </tr>\n    <tr>\n      <th>3502</th>\n      <td>1406</td>\n      <td>1</td>\n      <td>Steak Salad</td>\n      <td>[[Lettuce, Fajita Veggies]]</td>\n      <td>$8.69</td>\n      <td>8.69</td>\n    </tr>\n  </tbody>\n</table>\n</div>"
     },
     "metadata": {},
     "execution_count": 259
    }
   ],
   "source": [
    "# df의 item_name 컬럼 값이 Steak Salad 또는 Bowl 인 데이터를 인덱싱하라\n",
    "ans = df.loc[(df.item_name=='Steak Salad') | (df.item_name=='Bowl')]\n",
    "ans"
   ]
  },
  {
   "cell_type": "code",
   "execution_count": 260,
   "metadata": {},
   "outputs": [
    {
     "output_type": "execute_result",
     "data": {
      "text/plain": [
       "     order_id  quantity    item_name  \\\n",
       "445       193         3         Bowl   \n",
       "664       276         1  Steak Salad   \n",
       "\n",
       "                                    choice_description item_price  new_price  \n",
       "445  [Braised Carnitas, Pinto Beans, [Sour Cream, C...    $22.20       22.20  \n",
       "664  [Tomatillo-Red Chili Salsa (Hot), [Black Beans...     $8.99        8.99  "
      ],
      "text/html": "<div>\n<style scoped>\n    .dataframe tbody tr th:only-of-type {\n        vertical-align: middle;\n    }\n\n    .dataframe tbody tr th {\n        vertical-align: top;\n    }\n\n    .dataframe thead th {\n        text-align: right;\n    }\n</style>\n<table border=\"1\" class=\"dataframe\">\n  <thead>\n    <tr style=\"text-align: right;\">\n      <th></th>\n      <th>order_id</th>\n      <th>quantity</th>\n      <th>item_name</th>\n      <th>choice_description</th>\n      <th>item_price</th>\n      <th>new_price</th>\n    </tr>\n  </thead>\n  <tbody>\n    <tr>\n      <th>445</th>\n      <td>193</td>\n      <td>3</td>\n      <td>Bowl</td>\n      <td>[Braised Carnitas, Pinto Beans, [Sour Cream, C...</td>\n      <td>$22.20</td>\n      <td>22.20</td>\n    </tr>\n    <tr>\n      <th>664</th>\n      <td>276</td>\n      <td>1</td>\n      <td>Steak Salad</td>\n      <td>[Tomatillo-Red Chili Salsa (Hot), [Black Beans...</td>\n      <td>$8.99</td>\n      <td>8.99</td>\n    </tr>\n  </tbody>\n</table>\n</div>"
     },
     "metadata": {},
     "execution_count": 260
    }
   ],
   "source": [
    "# df의 item_name 컬럼 값이 Steak Salad 또는 Bowl인 데이터를 프레임화 한 후, \n",
    "# item_name을 기준으로 중복행이 있으면 제거하되 첫번째 케이스만 남겨라\n",
    "ans = df.loc[(df.item_name=='Steak Salad') | (df.item_name=='Bowl')]\n",
    "ans = ans.drop_duplicates('item_name')\n",
    "ans"
   ]
  },
  {
   "cell_type": "code",
   "execution_count": 261,
   "metadata": {},
   "outputs": [
    {
     "output_type": "execute_result",
     "data": {
      "text/plain": [
       "      order_id  quantity    item_name  \\\n",
       "673        279         1         Bowl   \n",
       "3502      1406         1  Steak Salad   \n",
       "\n",
       "                                     choice_description item_price  new_price  \n",
       "673   [Adobo-Marinated and Grilled Steak, [Sour Crea...     $7.40        7.40  \n",
       "3502                        [[Lettuce, Fajita Veggies]]     $8.69        8.69  "
      ],
      "text/html": "<div>\n<style scoped>\n    .dataframe tbody tr th:only-of-type {\n        vertical-align: middle;\n    }\n\n    .dataframe tbody tr th {\n        vertical-align: top;\n    }\n\n    .dataframe thead th {\n        text-align: right;\n    }\n</style>\n<table border=\"1\" class=\"dataframe\">\n  <thead>\n    <tr style=\"text-align: right;\">\n      <th></th>\n      <th>order_id</th>\n      <th>quantity</th>\n      <th>item_name</th>\n      <th>choice_description</th>\n      <th>item_price</th>\n      <th>new_price</th>\n    </tr>\n  </thead>\n  <tbody>\n    <tr>\n      <th>673</th>\n      <td>279</td>\n      <td>1</td>\n      <td>Bowl</td>\n      <td>[Adobo-Marinated and Grilled Steak, [Sour Crea...</td>\n      <td>$7.40</td>\n      <td>7.40</td>\n    </tr>\n    <tr>\n      <th>3502</th>\n      <td>1406</td>\n      <td>1</td>\n      <td>Steak Salad</td>\n      <td>[[Lettuce, Fajita Veggies]]</td>\n      <td>$8.69</td>\n      <td>8.69</td>\n    </tr>\n  </tbody>\n</table>\n</div>"
     },
     "metadata": {},
     "execution_count": 261
    }
   ],
   "source": [
    "# df의 item_name 컬럼 값이 Steak Salad 또는 Bowl인 데이터를 데이터프레임화 한 후, \n",
    "# item_name을 기준으로 중복행이 있으면 제거하되 마지막 케이스만 남겨라 \n",
    "\n",
    "# drop_duplicates(keep='last') : 중복되는 것들 중 마지막 인자만 남기고 삭제 \n",
    "\n",
    "ans = df.loc[(df.item_name=='Steak Salad')|(df.item_name=='Bowl')]\n",
    "ans = ans.drop_duplicates('item_name', keep='last')\n",
    "ans"
   ]
  },
  {
   "cell_type": "code",
   "execution_count": 262,
   "metadata": {
    "tags": []
   },
   "outputs": [],
   "source": [
    "# 객체의 메소드 보기 \n",
    "# dir(df)\n",
    "\n",
    "# 메소드의 인자 보기 \n",
    "# shift + tab 인데 vscode에선 왜 안먹지 ..."
   ]
  },
  {
   "cell_type": "code",
   "execution_count": 263,
   "metadata": {},
   "outputs": [
    {
     "output_type": "execute_result",
     "data": {
      "text/plain": [
       "7.464335785374297"
      ]
     },
     "metadata": {},
     "execution_count": 263
    }
   ],
   "source": [
    "# df의 데이터 중 new_pricer값이 new_price값의 평균값 이상을 가지는 데이터를 인덱싱\n",
    "mean = df['new_price'].mean()\n",
    "mean"
   ]
  },
  {
   "cell_type": "code",
   "execution_count": 264,
   "metadata": {},
   "outputs": [
    {
     "output_type": "execute_result",
     "data": {
      "text/plain": [
       "   order_id  quantity         item_name  \\\n",
       "4         2         2      Chicken Bowl   \n",
       "5         3         1      Chicken Bowl   \n",
       "7         4         1     Steak Burrito   \n",
       "8         4         1  Steak Soft Tacos   \n",
       "9         5         1     Steak Burrito   \n",
       "\n",
       "                                  choice_description item_price  new_price  \n",
       "4  [Tomatillo-Red Chili Salsa (Hot), [Black Beans...    $16.98       16.98  \n",
       "5  [Fresh Tomato Salsa (Mild), [Rice, Cheese, Sou...    $10.98       10.98  \n",
       "7  [Tomatillo Red Chili Salsa, [Fajita Vegetables...    $11.75       11.75  \n",
       "8  [Tomatillo Green Chili Salsa, [Pinto Beans, Ch...     $9.25        9.25  \n",
       "9  [Fresh Tomato Salsa, [Rice, Black Beans, Pinto...     $9.25        9.25  "
      ],
      "text/html": "<div>\n<style scoped>\n    .dataframe tbody tr th:only-of-type {\n        vertical-align: middle;\n    }\n\n    .dataframe tbody tr th {\n        vertical-align: top;\n    }\n\n    .dataframe thead th {\n        text-align: right;\n    }\n</style>\n<table border=\"1\" class=\"dataframe\">\n  <thead>\n    <tr style=\"text-align: right;\">\n      <th></th>\n      <th>order_id</th>\n      <th>quantity</th>\n      <th>item_name</th>\n      <th>choice_description</th>\n      <th>item_price</th>\n      <th>new_price</th>\n    </tr>\n  </thead>\n  <tbody>\n    <tr>\n      <th>4</th>\n      <td>2</td>\n      <td>2</td>\n      <td>Chicken Bowl</td>\n      <td>[Tomatillo-Red Chili Salsa (Hot), [Black Beans...</td>\n      <td>$16.98</td>\n      <td>16.98</td>\n    </tr>\n    <tr>\n      <th>5</th>\n      <td>3</td>\n      <td>1</td>\n      <td>Chicken Bowl</td>\n      <td>[Fresh Tomato Salsa (Mild), [Rice, Cheese, Sou...</td>\n      <td>$10.98</td>\n      <td>10.98</td>\n    </tr>\n    <tr>\n      <th>7</th>\n      <td>4</td>\n      <td>1</td>\n      <td>Steak Burrito</td>\n      <td>[Tomatillo Red Chili Salsa, [Fajita Vegetables...</td>\n      <td>$11.75</td>\n      <td>11.75</td>\n    </tr>\n    <tr>\n      <th>8</th>\n      <td>4</td>\n      <td>1</td>\n      <td>Steak Soft Tacos</td>\n      <td>[Tomatillo Green Chili Salsa, [Pinto Beans, Ch...</td>\n      <td>$9.25</td>\n      <td>9.25</td>\n    </tr>\n    <tr>\n      <th>9</th>\n      <td>5</td>\n      <td>1</td>\n      <td>Steak Burrito</td>\n      <td>[Fresh Tomato Salsa, [Rice, Black Beans, Pinto...</td>\n      <td>$9.25</td>\n      <td>9.25</td>\n    </tr>\n  </tbody>\n</table>\n</div>"
     },
     "metadata": {},
     "execution_count": 264
    }
   ],
   "source": [
    "ans = df.loc[df.new_price >= mean]\n",
    "ans.head()"
   ]
  },
  {
   "cell_type": "code",
   "execution_count": 265,
   "metadata": {},
   "outputs": [
    {
     "output_type": "execute_result",
     "data": {
      "text/plain": [
       "   order_id  quantity                              item_name  \\\n",
       "0         1         1           Chips and Fresh Tomato Salsa   \n",
       "1         1         1                            Fizzy Lizzy   \n",
       "2         1         1                       Nantucket Nectar   \n",
       "3         1         1  Chips and Tomatillo-Green Chili Salsa   \n",
       "4         2         2                           Chicken Bowl   \n",
       "\n",
       "                                  choice_description item_price  new_price  \n",
       "0                                                NaN     $2.39        2.39  \n",
       "1                                       [Clementine]     $3.39        3.39  \n",
       "2                                            [Apple]     $3.39        3.39  \n",
       "3                                                NaN     $2.39        2.39  \n",
       "4  [Tomatillo-Red Chili Salsa (Hot), [Black Beans...    $16.98       16.98  "
      ],
      "text/html": "<div>\n<style scoped>\n    .dataframe tbody tr th:only-of-type {\n        vertical-align: middle;\n    }\n\n    .dataframe tbody tr th {\n        vertical-align: top;\n    }\n\n    .dataframe thead th {\n        text-align: right;\n    }\n</style>\n<table border=\"1\" class=\"dataframe\">\n  <thead>\n    <tr style=\"text-align: right;\">\n      <th></th>\n      <th>order_id</th>\n      <th>quantity</th>\n      <th>item_name</th>\n      <th>choice_description</th>\n      <th>item_price</th>\n      <th>new_price</th>\n    </tr>\n  </thead>\n  <tbody>\n    <tr>\n      <th>0</th>\n      <td>1</td>\n      <td>1</td>\n      <td>Chips and Fresh Tomato Salsa</td>\n      <td>NaN</td>\n      <td>$2.39</td>\n      <td>2.39</td>\n    </tr>\n    <tr>\n      <th>1</th>\n      <td>1</td>\n      <td>1</td>\n      <td>Fizzy Lizzy</td>\n      <td>[Clementine]</td>\n      <td>$3.39</td>\n      <td>3.39</td>\n    </tr>\n    <tr>\n      <th>2</th>\n      <td>1</td>\n      <td>1</td>\n      <td>Nantucket Nectar</td>\n      <td>[Apple]</td>\n      <td>$3.39</td>\n      <td>3.39</td>\n    </tr>\n    <tr>\n      <th>3</th>\n      <td>1</td>\n      <td>1</td>\n      <td>Chips and Tomatillo-Green Chili Salsa</td>\n      <td>NaN</td>\n      <td>$2.39</td>\n      <td>2.39</td>\n    </tr>\n    <tr>\n      <th>4</th>\n      <td>2</td>\n      <td>2</td>\n      <td>Chicken Bowl</td>\n      <td>[Tomatillo-Red Chili Salsa (Hot), [Black Beans...</td>\n      <td>$16.98</td>\n      <td>16.98</td>\n    </tr>\n  </tbody>\n</table>\n</div>"
     },
     "metadata": {},
     "execution_count": 265
    }
   ],
   "source": [
    "# df의 데이터 중 item_name의 값이 Izze 데이터를 Fizzy Lizzy로 수정\n",
    "df.loc[df.item_name=='Izze', 'item_name'] = 'Fizzy Lizzy'\n",
    "ans = df\n",
    "ans.head()"
   ]
  },
  {
   "cell_type": "code",
   "execution_count": 266,
   "metadata": {},
   "outputs": [
    {
     "output_type": "execute_result",
     "data": {
      "text/plain": [
       "1246"
      ]
     },
     "metadata": {},
     "execution_count": 266
    }
   ],
   "source": [
    "# df의 데이터 중 choice_description 값이 NaN인 데이터의 갯수를 구하여라 \n",
    "ans = df['choice_description'].isnull().sum()\n",
    "ans"
   ]
  },
  {
   "cell_type": "code",
   "execution_count": 268,
   "metadata": {},
   "outputs": [
    {
     "output_type": "execute_result",
     "data": {
      "text/plain": [
       "   order_id  quantity                              item_name  \\\n",
       "0         1         1           Chips and Fresh Tomato Salsa   \n",
       "1         1         1                            Fizzy Lizzy   \n",
       "2         1         1                       Nantucket Nectar   \n",
       "3         1         1  Chips and Tomatillo-Green Chili Salsa   \n",
       "4         2         2                           Chicken Bowl   \n",
       "\n",
       "                                  choice_description item_price  new_price  \n",
       "0                                             NoData     $2.39        2.39  \n",
       "1                                       [Clementine]     $3.39        3.39  \n",
       "2                                            [Apple]     $3.39        3.39  \n",
       "3                                             NoData     $2.39        2.39  \n",
       "4  [Tomatillo-Red Chili Salsa (Hot), [Black Beans...    $16.98       16.98  "
      ],
      "text/html": "<div>\n<style scoped>\n    .dataframe tbody tr th:only-of-type {\n        vertical-align: middle;\n    }\n\n    .dataframe tbody tr th {\n        vertical-align: top;\n    }\n\n    .dataframe thead th {\n        text-align: right;\n    }\n</style>\n<table border=\"1\" class=\"dataframe\">\n  <thead>\n    <tr style=\"text-align: right;\">\n      <th></th>\n      <th>order_id</th>\n      <th>quantity</th>\n      <th>item_name</th>\n      <th>choice_description</th>\n      <th>item_price</th>\n      <th>new_price</th>\n    </tr>\n  </thead>\n  <tbody>\n    <tr>\n      <th>0</th>\n      <td>1</td>\n      <td>1</td>\n      <td>Chips and Fresh Tomato Salsa</td>\n      <td>NoData</td>\n      <td>$2.39</td>\n      <td>2.39</td>\n    </tr>\n    <tr>\n      <th>1</th>\n      <td>1</td>\n      <td>1</td>\n      <td>Fizzy Lizzy</td>\n      <td>[Clementine]</td>\n      <td>$3.39</td>\n      <td>3.39</td>\n    </tr>\n    <tr>\n      <th>2</th>\n      <td>1</td>\n      <td>1</td>\n      <td>Nantucket Nectar</td>\n      <td>[Apple]</td>\n      <td>$3.39</td>\n      <td>3.39</td>\n    </tr>\n    <tr>\n      <th>3</th>\n      <td>1</td>\n      <td>1</td>\n      <td>Chips and Tomatillo-Green Chili Salsa</td>\n      <td>NoData</td>\n      <td>$2.39</td>\n      <td>2.39</td>\n    </tr>\n    <tr>\n      <th>4</th>\n      <td>2</td>\n      <td>2</td>\n      <td>Chicken Bowl</td>\n      <td>[Tomatillo-Red Chili Salsa (Hot), [Black Beans...</td>\n      <td>$16.98</td>\n      <td>16.98</td>\n    </tr>\n  </tbody>\n</table>\n</div>"
     },
     "metadata": {},
     "execution_count": 268
    }
   ],
   "source": [
    "# df의 데이터 중 choice_description 값이 NaN인 데이터를 NoData 값으로 대체 (loc 이용)\n",
    "df.loc[df.choice_description.isnull(), 'choice_description'] = 'NoData'\n",
    "ans = df\n",
    "ans.head()"
   ]
  },
  {
   "cell_type": "code",
   "execution_count": 270,
   "metadata": {},
   "outputs": [
    {
     "output_type": "execute_result",
     "data": {
      "text/plain": [
       "    order_id  quantity             item_name  \\\n",
       "4          2         2          Chicken Bowl   \n",
       "7          4         1         Steak Burrito   \n",
       "9          5         1         Steak Burrito   \n",
       "11         6         1  Chicken Crispy Tacos   \n",
       "12         6         1    Chicken Soft Tacos   \n",
       "\n",
       "                                   choice_description item_price  new_price  \n",
       "4   [Tomatillo-Red Chili Salsa (Hot), [Black Beans...    $16.98       16.98  \n",
       "7   [Tomatillo Red Chili Salsa, [Fajita Vegetables...    $11.75       11.75  \n",
       "9   [Fresh Tomato Salsa, [Rice, Black Beans, Pinto...     $9.25        9.25  \n",
       "11  [Roasted Chili Corn Salsa, [Fajita Vegetables,...     $8.75        8.75  \n",
       "12  [Roasted Chili Corn Salsa, [Rice, Black Beans,...     $8.75        8.75  "
      ],
      "text/html": "<div>\n<style scoped>\n    .dataframe tbody tr th:only-of-type {\n        vertical-align: middle;\n    }\n\n    .dataframe tbody tr th {\n        vertical-align: top;\n    }\n\n    .dataframe thead th {\n        text-align: right;\n    }\n</style>\n<table border=\"1\" class=\"dataframe\">\n  <thead>\n    <tr style=\"text-align: right;\">\n      <th></th>\n      <th>order_id</th>\n      <th>quantity</th>\n      <th>item_name</th>\n      <th>choice_description</th>\n      <th>item_price</th>\n      <th>new_price</th>\n    </tr>\n  </thead>\n  <tbody>\n    <tr>\n      <th>4</th>\n      <td>2</td>\n      <td>2</td>\n      <td>Chicken Bowl</td>\n      <td>[Tomatillo-Red Chili Salsa (Hot), [Black Beans...</td>\n      <td>$16.98</td>\n      <td>16.98</td>\n    </tr>\n    <tr>\n      <th>7</th>\n      <td>4</td>\n      <td>1</td>\n      <td>Steak Burrito</td>\n      <td>[Tomatillo Red Chili Salsa, [Fajita Vegetables...</td>\n      <td>$11.75</td>\n      <td>11.75</td>\n    </tr>\n    <tr>\n      <th>9</th>\n      <td>5</td>\n      <td>1</td>\n      <td>Steak Burrito</td>\n      <td>[Fresh Tomato Salsa, [Rice, Black Beans, Pinto...</td>\n      <td>$9.25</td>\n      <td>9.25</td>\n    </tr>\n    <tr>\n      <th>11</th>\n      <td>6</td>\n      <td>1</td>\n      <td>Chicken Crispy Tacos</td>\n      <td>[Roasted Chili Corn Salsa, [Fajita Vegetables,...</td>\n      <td>$8.75</td>\n      <td>8.75</td>\n    </tr>\n    <tr>\n      <th>12</th>\n      <td>6</td>\n      <td>1</td>\n      <td>Chicken Soft Tacos</td>\n      <td>[Roasted Chili Corn Salsa, [Rice, Black Beans,...</td>\n      <td>$8.75</td>\n      <td>8.75</td>\n    </tr>\n  </tbody>\n</table>\n</div>"
     },
     "metadata": {},
     "execution_count": 270
    }
   ],
   "source": [
    "# df의 데이터 중 choice_description 값에 Black이 들어가는 경우를 인덱싱 하라\n",
    "ans = df.loc[df.choice_description.str.contains('Black')]\n",
    "ans.head()"
   ]
  },
  {
   "cell_type": "code",
   "execution_count": 283,
   "metadata": {},
   "outputs": [
    {
     "output_type": "execute_result",
     "data": {
      "text/plain": [
       "3900"
      ]
     },
     "metadata": {},
     "execution_count": 283
    }
   ],
   "source": [
    "# df의 데이터 중 choice_descripion 값에 Vegetables 가 들어가지 않는 경우의 갯수를 출력\n",
    "# !가 아니라 ~\n",
    "ans = len(df.loc[~df.choice_description.str.contains('Vegetables')])\n",
    "ans"
   ]
  },
  {
   "cell_type": "code",
   "execution_count": 295,
   "metadata": {},
   "outputs": [
    {
     "output_type": "execute_result",
     "data": {
      "text/plain": [
       "     order_id  quantity         item_name         choice_description  \\\n",
       "2           1         1  Nantucket Nectar                    [Apple]   \n",
       "22         11         1  Nantucket Nectar       [Pomegranate Cherry]   \n",
       "105        46         1  Nantucket Nectar  [Pineapple Orange Banana]   \n",
       "173        77         1  Nantucket Nectar                    [Apple]   \n",
       "205        91         1  Nantucket Nectar             [Peach Orange]   \n",
       "\n",
       "    item_price  new_price  \n",
       "2       $3.39        3.39  \n",
       "22      $3.39        3.39  \n",
       "105     $3.39        3.39  \n",
       "173     $3.39        3.39  \n",
       "205     $3.39        3.39  "
      ],
      "text/html": "<div>\n<style scoped>\n    .dataframe tbody tr th:only-of-type {\n        vertical-align: middle;\n    }\n\n    .dataframe tbody tr th {\n        vertical-align: top;\n    }\n\n    .dataframe thead th {\n        text-align: right;\n    }\n</style>\n<table border=\"1\" class=\"dataframe\">\n  <thead>\n    <tr style=\"text-align: right;\">\n      <th></th>\n      <th>order_id</th>\n      <th>quantity</th>\n      <th>item_name</th>\n      <th>choice_description</th>\n      <th>item_price</th>\n      <th>new_price</th>\n    </tr>\n  </thead>\n  <tbody>\n    <tr>\n      <th>2</th>\n      <td>1</td>\n      <td>1</td>\n      <td>Nantucket Nectar</td>\n      <td>[Apple]</td>\n      <td>$3.39</td>\n      <td>3.39</td>\n    </tr>\n    <tr>\n      <th>22</th>\n      <td>11</td>\n      <td>1</td>\n      <td>Nantucket Nectar</td>\n      <td>[Pomegranate Cherry]</td>\n      <td>$3.39</td>\n      <td>3.39</td>\n    </tr>\n    <tr>\n      <th>105</th>\n      <td>46</td>\n      <td>1</td>\n      <td>Nantucket Nectar</td>\n      <td>[Pineapple Orange Banana]</td>\n      <td>$3.39</td>\n      <td>3.39</td>\n    </tr>\n    <tr>\n      <th>173</th>\n      <td>77</td>\n      <td>1</td>\n      <td>Nantucket Nectar</td>\n      <td>[Apple]</td>\n      <td>$3.39</td>\n      <td>3.39</td>\n    </tr>\n    <tr>\n      <th>205</th>\n      <td>91</td>\n      <td>1</td>\n      <td>Nantucket Nectar</td>\n      <td>[Peach Orange]</td>\n      <td>$3.39</td>\n      <td>3.39</td>\n    </tr>\n  </tbody>\n</table>\n</div>"
     },
     "metadata": {},
     "execution_count": 295
    }
   ],
   "source": [
    "# df의 데이터 중 item_name 값이 N으로 시작하는 데이터를 모두 추출\n",
    "ans = df[df.item_name.str.startswith('N')]\n",
    "ans.head()"
   ]
  },
  {
   "cell_type": "code",
   "execution_count": 312,
   "metadata": {},
   "outputs": [
    {
     "output_type": "execute_result",
     "data": {
      "text/plain": [
       "    order_id  quantity                              item_name  \\\n",
       "0          1         1           Chips and Fresh Tomato Salsa   \n",
       "2          1         1                       Nantucket Nectar   \n",
       "3          1         1  Chips and Tomatillo-Green Chili Salsa   \n",
       "8          4         1                       Steak Soft Tacos   \n",
       "10         5         1                    Chips and Guacamole   \n",
       "\n",
       "                                   choice_description item_price  new_price  \n",
       "0                                              NoData     $2.39        2.39  \n",
       "2                                             [Apple]     $3.39        3.39  \n",
       "3                                              NoData     $2.39        2.39  \n",
       "8   [Tomatillo Green Chili Salsa, [Pinto Beans, Ch...     $9.25        9.25  \n",
       "10                                             NoData     $4.45        4.45  "
      ],
      "text/html": "<div>\n<style scoped>\n    .dataframe tbody tr th:only-of-type {\n        vertical-align: middle;\n    }\n\n    .dataframe tbody tr th {\n        vertical-align: top;\n    }\n\n    .dataframe thead th {\n        text-align: right;\n    }\n</style>\n<table border=\"1\" class=\"dataframe\">\n  <thead>\n    <tr style=\"text-align: right;\">\n      <th></th>\n      <th>order_id</th>\n      <th>quantity</th>\n      <th>item_name</th>\n      <th>choice_description</th>\n      <th>item_price</th>\n      <th>new_price</th>\n    </tr>\n  </thead>\n  <tbody>\n    <tr>\n      <th>0</th>\n      <td>1</td>\n      <td>1</td>\n      <td>Chips and Fresh Tomato Salsa</td>\n      <td>NoData</td>\n      <td>$2.39</td>\n      <td>2.39</td>\n    </tr>\n    <tr>\n      <th>2</th>\n      <td>1</td>\n      <td>1</td>\n      <td>Nantucket Nectar</td>\n      <td>[Apple]</td>\n      <td>$3.39</td>\n      <td>3.39</td>\n    </tr>\n    <tr>\n      <th>3</th>\n      <td>1</td>\n      <td>1</td>\n      <td>Chips and Tomatillo-Green Chili Salsa</td>\n      <td>NoData</td>\n      <td>$2.39</td>\n      <td>2.39</td>\n    </tr>\n    <tr>\n      <th>8</th>\n      <td>4</td>\n      <td>1</td>\n      <td>Steak Soft Tacos</td>\n      <td>[Tomatillo Green Chili Salsa, [Pinto Beans, Ch...</td>\n      <td>$9.25</td>\n      <td>9.25</td>\n    </tr>\n    <tr>\n      <th>10</th>\n      <td>5</td>\n      <td>1</td>\n      <td>Chips and Guacamole</td>\n      <td>NoData</td>\n      <td>$4.45</td>\n      <td>4.45</td>\n    </tr>\n  </tbody>\n</table>\n</div>"
     },
     "metadata": {},
     "execution_count": 312
    }
   ],
   "source": [
    "# df의 데이터 중 item_name 값의 단어 갯수가 15개 이상인 데이터를 인덱싱\n",
    "ans = df[df.item_name.str.len() >= 15]\n",
    "ans.head()"
   ]
  },
  {
   "cell_type": "code",
   "execution_count": 318,
   "metadata": {},
   "outputs": [
    {
     "output_type": "display_data",
     "data": {
      "text/plain": "   order_id  quantity                              item_name  \\\n0         1         1           Chips and Fresh Tomato Salsa   \n1         1         1                            Fizzy Lizzy   \n2         1         1                       Nantucket Nectar   \n3         1         1  Chips and Tomatillo-Green Chili Salsa   \n4         2         2                           Chicken Bowl   \n\n                                  choice_description item_price  new_price  \n0                                             NoData     $2.39        2.39  \n1                                       [Clementine]     $3.39        3.39  \n2                                            [Apple]     $3.39        3.39  \n3                                             NoData     $2.39        2.39  \n4  [Tomatillo-Red Chili Salsa (Hot), [Black Beans...    $16.98       16.98  ",
      "text/html": "<div>\n<style scoped>\n    .dataframe tbody tr th:only-of-type {\n        vertical-align: middle;\n    }\n\n    .dataframe tbody tr th {\n        vertical-align: top;\n    }\n\n    .dataframe thead th {\n        text-align: right;\n    }\n</style>\n<table border=\"1\" class=\"dataframe\">\n  <thead>\n    <tr style=\"text-align: right;\">\n      <th></th>\n      <th>order_id</th>\n      <th>quantity</th>\n      <th>item_name</th>\n      <th>choice_description</th>\n      <th>item_price</th>\n      <th>new_price</th>\n    </tr>\n  </thead>\n  <tbody>\n    <tr>\n      <th>0</th>\n      <td>1</td>\n      <td>1</td>\n      <td>Chips and Fresh Tomato Salsa</td>\n      <td>NoData</td>\n      <td>$2.39</td>\n      <td>2.39</td>\n    </tr>\n    <tr>\n      <th>1</th>\n      <td>1</td>\n      <td>1</td>\n      <td>Fizzy Lizzy</td>\n      <td>[Clementine]</td>\n      <td>$3.39</td>\n      <td>3.39</td>\n    </tr>\n    <tr>\n      <th>2</th>\n      <td>1</td>\n      <td>1</td>\n      <td>Nantucket Nectar</td>\n      <td>[Apple]</td>\n      <td>$3.39</td>\n      <td>3.39</td>\n    </tr>\n    <tr>\n      <th>3</th>\n      <td>1</td>\n      <td>1</td>\n      <td>Chips and Tomatillo-Green Chili Salsa</td>\n      <td>NoData</td>\n      <td>$2.39</td>\n      <td>2.39</td>\n    </tr>\n    <tr>\n      <th>4</th>\n      <td>2</td>\n      <td>2</td>\n      <td>Chicken Bowl</td>\n      <td>[Tomatillo-Red Chili Salsa (Hot), [Black Beans...</td>\n      <td>$16.98</td>\n      <td>16.98</td>\n    </tr>\n  </tbody>\n</table>\n</div>"
     },
     "metadata": {}
    },
    {
     "output_type": "stream",
     "name": "stdout",
     "text": [
      "1393\n"
     ]
    }
   ],
   "source": [
    "# df의 데이터 중 new_price 값이 lst에 해당하는 경우의 데이터 프레임을 구하고 그 갯수를 출력하라 \n",
    "# lst = [1.69, 2.39, 3.39, 4.45, 9.25, 10.98, 11.75, 16.98]\n",
    "lst = [1.69, 2.39, 3.39, 4.45, 9.25, 10.98, 11.75, 16.98]\n",
    "ans = df[df.new_price.isin(lst)]\n",
    "display(ans.head())\n",
    "print(len(ans))"
   ]
  },
  {
   "cell_type": "code",
   "execution_count": null,
   "metadata": {},
   "outputs": [],
   "source": []
  }
 ]
}