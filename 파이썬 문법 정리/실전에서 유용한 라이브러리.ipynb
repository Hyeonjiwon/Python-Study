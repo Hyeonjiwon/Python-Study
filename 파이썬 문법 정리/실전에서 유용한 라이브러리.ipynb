{
 "cells": [
  {
   "cell_type": "markdown",
   "id": "88dde71f",
   "metadata": {},
   "source": [
    "#### 내장함수 \n",
    "- 기본 입출력 함수부터 정렬 함수 까지 기본적인 함수 제공\n",
    "- 파이썬 프로그램을 작성할 때 없어서는 안 되는 필수적인 기능을 포함\n",
    "\n",
    "#### itertools \n",
    "- 파이썬에서 반복되는 형태의 데이터를 처리하기 위한 유용한 기능을 제공\n",
    "- 특히 순열과 조합 라이브러리는 코딩 테스트에서 자주 사용 -> 완전탐색 유형 문제\n",
    "\n",
    "#### heapq\n",
    "- 힙(Heap) 자료구조를 제공\n",
    "- 일반적으로 우선순위 큐 기능을 구현하기 위해 사용 -> 다익스트라, 최단경로 알고리즘\n",
    "\n",
    "#### bisect \n",
    "- 이진 탐색(Binary Search) 기능 제공\n",
    "\n",
    "#### collections\n",
    "- 덱(deque), 카운터(Counter) 등의 유용한 자료구조를 포함\n",
    "\n",
    "#### math\n",
    "- 필수적인 수학적 기능을 제공\n",
    "- 팩토리얼, 제곱근, 최대공약수(GDC), 삼각함수 관련 함수부터 파이(pi)와 같은 상수 포함"
   ]
  },
  {
   "cell_type": "code",
   "execution_count": null,
   "id": "bc1aa3b6",
   "metadata": {},
   "outputs": [],
   "source": []
  },
  {
   "cell_type": "markdown",
   "id": "00c630f6",
   "metadata": {},
   "source": [
    "### 자주 사용되는 내장 함수"
   ]
  },
  {
   "cell_type": "code",
   "execution_count": 11,
   "id": "c7375a73",
   "metadata": {},
   "outputs": [
    {
     "name": "stdout",
     "output_type": "stream",
     "text": [
      "15\n",
      "2 7\n",
      "56\n",
      "[1, 4, 5, 8, 9]\n",
      "[9, 8, 5, 4, 1]\n",
      "[('이순신', 75), ('아무개', 50), ('홍길동', 35)]\n"
     ]
    }
   ],
   "source": [
    "# sum()\n",
    "result = sum([1, 2, 3, 4, 5])\n",
    "print(result)\n",
    "\n",
    "# min(), max()\n",
    "min_result = min(7, 3, 5, 2)\n",
    "max_result = max(7, 3, 5, 2)\n",
    "print(min_result, max_result)\n",
    "\n",
    "# eval() : 수식 계산한 결과 반환\n",
    "result = eval(\"(3+5)*7\")\n",
    "print(result)\n",
    "\n",
    "# sorted() : 각 원소를 정렬한 결과 반환\n",
    "result = sorted([9, 1, 8, 5, 4]) # 오름차순\n",
    "reverse_result = sorted([9, 1, 8, 5, 4], reverse = True) # 내림차순\n",
    "print(result)\n",
    "print(reverse_result)\n",
    "\n",
    "# sorted() with key\n",
    "array = [('홍길동', 35), ('이순신', 75), ('아무개', 50)]\n",
    "\n",
    "# key 옵션으로 정렬 기준 2번째 원소를 기준으로 오름차순 정렬\n",
    "result = sorted(array, key = lambda x : x[1], reverse = True)\n",
    "print(result)"
   ]
  },
  {
   "cell_type": "code",
   "execution_count": null,
   "id": "3eb6eb75",
   "metadata": {},
   "outputs": [],
   "source": []
  },
  {
   "cell_type": "markdown",
   "id": "f3d9665e",
   "metadata": {},
   "source": [
    "### 순열과 조합\n",
    "- 모든 경우의 수를 고려해야 할 때 어떤 라이브러리를 효과적으로 사용할 수 있을까\n",
    "\n",
    "- **순열** : 서로 다른 n개에서 서로 다른 r개를 선택하여 일렬로 나열하는 것\n",
    "- {'A', 'B', 'C'} 에서 세 개를 선택하여 나열하는 경우 : 'ABC', 'ACB', 'BAC', 'BCA', 'CAB', 'CBA'\n",
    "\n",
    "\n",
    "- **조합** : 서로 다른 n개에서 순서 상관 없이 서로 다른 r개를 선택하는 것\n",
    "- {'A', 'B', 'C'} 에서 순서를 고려하지 않고 두 개를 뽑는 경우 : 'AB', 'AC', 'BC' == 'BA', 'CA', 'CB'"
   ]
  },
  {
   "cell_type": "code",
   "execution_count": 35,
   "id": "dfd874da",
   "metadata": {},
   "outputs": [
    {
     "name": "stdout",
     "output_type": "stream",
     "text": [
      "[(1, 2, 3), (1, 3, 2), (2, 1, 3), (2, 3, 1), (3, 1, 2), (3, 2, 1)]\n"
     ]
    }
   ],
   "source": [
    "# 순열\n",
    "from itertools import permutations\n",
    "\n",
    "data = ['A', 'B', 'C']\n",
    "data1 = [1, 2, 3]\n",
    "result = list(permutations(data1, 3)) # 모든 순열 구하기 \n",
    "print(result)"
   ]
  },
  {
   "cell_type": "code",
   "execution_count": 36,
   "id": "c9b00842",
   "metadata": {},
   "outputs": [
    {
     "name": "stdout",
     "output_type": "stream",
     "text": [
      "[(1, 2), (1, 3), (2, 3)]\n"
     ]
    }
   ],
   "source": [
    "# 순열\n",
    "from itertools import combinations\n",
    "\n",
    "data = ['A', 'B', 'C']\n",
    "data1 = [1, 2, 3]\n",
    "result = list(combinations(data1, 2)) # 모든 순열 구하기 \n",
    "print(result)"
   ]
  },
  {
   "cell_type": "code",
   "execution_count": 37,
   "id": "272d9fcd",
   "metadata": {},
   "outputs": [
    {
     "name": "stdout",
     "output_type": "stream",
     "text": [
      "[(1, 1), (1, 2), (1, 3), (2, 1), (2, 2), (2, 3), (3, 1), (3, 2), (3, 3)]\n"
     ]
    }
   ],
   "source": [
    "# 중복 순열\n",
    "from itertools import product\n",
    "\n",
    "data = ['A', 'B', 'C']\n",
    "data1 = [1, 2, 3]\n",
    "result = list(product(data1, repeat=2)) # 2개를 뽑는 모든 순열 구하기(중복 허용) \n",
    "print(result)"
   ]
  },
  {
   "cell_type": "code",
   "execution_count": 38,
   "id": "1dd54275",
   "metadata": {},
   "outputs": [
    {
     "name": "stdout",
     "output_type": "stream",
     "text": [
      "[(1, 1), (1, 2), (1, 3), (2, 2), (2, 3), (3, 3)]\n"
     ]
    }
   ],
   "source": [
    "# 중복 조합\n",
    "from itertools import combinations_with_replacement\n",
    "\n",
    "data = ['A', 'B', 'C']\n",
    "data1 = [1, 2, 3]\n",
    "result = list(combinations_with_replacement(data1, 2)) # 2개를 뽑는 모든 조합 구하기(중복 허용) \n",
    "print(result)"
   ]
  },
  {
   "cell_type": "code",
   "execution_count": null,
   "id": "fb8ca84e",
   "metadata": {},
   "outputs": [],
   "source": []
  },
  {
   "cell_type": "markdown",
   "id": "c51e10ee",
   "metadata": {},
   "source": [
    "### Counter\n",
    "- collections 라이브러리의 Counter는 등장 횟수를 세는 기능 제공\n",
    "- 리스트와 같은 반복 가능한(iterable) 객체가 주어졌을 때, 내부의 원소가 몇 번씩 등장 했는지 알려줌"
   ]
  },
  {
   "cell_type": "code",
   "execution_count": 39,
   "id": "c45f1e2f",
   "metadata": {},
   "outputs": [
    {
     "name": "stdout",
     "output_type": "stream",
     "text": [
      "3\n",
      "1\n",
      "{'red': 2, 'blue': 3, 'green': 1}\n"
     ]
    }
   ],
   "source": [
    "from collections import Counter\n",
    "\n",
    "counter = Counter(['red', 'blue', 'red', 'green', 'blue', 'blue'])\n",
    "\n",
    "print(counter['blue']) # 'blue'가 등장한 횟수 출력\n",
    "print(counter['green']) # 'green'이 등장한 횟수 출력\n",
    "print(dict(counter)) # 사전 자료형으로 반환"
   ]
  },
  {
   "cell_type": "code",
   "execution_count": null,
   "id": "0cafa349",
   "metadata": {},
   "outputs": [],
   "source": []
  },
  {
   "cell_type": "markdown",
   "id": "9b6c7fc8",
   "metadata": {},
   "source": [
    "### 최대 공약수와 최소 공배수"
   ]
  },
  {
   "cell_type": "code",
   "execution_count": 46,
   "id": "5b2107ca",
   "metadata": {},
   "outputs": [
    {
     "name": "stdout",
     "output_type": "stream",
     "text": [
      "7\n",
      "42\n"
     ]
    }
   ],
   "source": [
    "# 최대 공약수 : gcd()\n",
    "import math\n",
    "\n",
    "# 최소 공배수(LCM)을 구하는 함수\n",
    "def lcm(a, b):\n",
    "    return a * b // math.gcd(a, b)\n",
    "\n",
    "a = 21\n",
    "b = 14\n",
    "\n",
    "print(math.gcd(21, 14)) # 최대 공약수(GCD) 계산\n",
    "print(lcm(21, 14)) # 최소 공배수(LCM) 계산"
   ]
  },
  {
   "cell_type": "code",
   "execution_count": null,
   "id": "c6a94994",
   "metadata": {},
   "outputs": [],
   "source": []
  }
 ],
 "metadata": {
  "kernelspec": {
   "display_name": "Python 3",
   "language": "python",
   "name": "python3"
  },
  "language_info": {
   "codemirror_mode": {
    "name": "ipython",
    "version": 3
   },
   "file_extension": ".py",
   "mimetype": "text/x-python",
   "name": "python",
   "nbconvert_exporter": "python",
   "pygments_lexer": "ipython3",
   "version": "3.8.10"
  }
 },
 "nbformat": 4,
 "nbformat_minor": 5
}
