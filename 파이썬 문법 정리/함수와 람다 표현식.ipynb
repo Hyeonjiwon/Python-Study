{
 "cells": [
  {
   "cell_type": "markdown",
   "id": "59b09cb1",
   "metadata": {},
   "source": [
    "## 함수\n",
    "\n",
    "- 함수(Function)란 특정 작업을 하나의 단위로 묶어 놓은 것을 의미 \n",
    "- 불필요한 소스코드의 반복을 줄일 수 있음\n",
    "\n",
    "\n",
    "##### 종류\n",
    "- 내장 함수 : 파이썬이 기본적으로 제공하는 함수\n",
    "- 사용자 정의 함수 : 개발자가 직접 정의하여 사용할 수 있는 함수"
   ]
  },
  {
   "cell_type": "markdown",
   "id": "5b70cf02",
   "metadata": {},
   "source": [
    "### 함수 정의하기\n",
    "\n",
    "- 매개변수 : 함수 내부에서 사용할 변수\n",
    "- 반환 값 : 함수에서 처리 된 결과를 반환\n",
    "\n",
    "```python\n",
    "def 함수명(매개변수):\n",
    "    실행할 소스코드\n",
    "    return 반환값\n",
    "```"
   ]
  },
  {
   "cell_type": "code",
   "execution_count": 3,
   "id": "6bda37d9",
   "metadata": {},
   "outputs": [
    {
     "data": {
      "text/plain": [
       "10"
      ]
     },
     "execution_count": 3,
     "metadata": {},
     "output_type": "execute_result"
    }
   ],
   "source": [
    "# 더하기 \n",
    "def add(a, b):\n",
    "    return a + b\n",
    "\n",
    "result = add(3, 7)\n",
    "result"
   ]
  },
  {
   "cell_type": "code",
   "execution_count": 4,
   "id": "f23153fb",
   "metadata": {},
   "outputs": [
    {
     "name": "stdout",
     "output_type": "stream",
     "text": [
      "결과 10\n"
     ]
    }
   ],
   "source": [
    "# 더하기 \n",
    "def add(a, b):\n",
    "    print(\"결과\", a + b)\n",
    "\n",
    "add(3, 7)"
   ]
  },
  {
   "cell_type": "markdown",
   "id": "53d5fa33",
   "metadata": {},
   "source": [
    "### 파라미터 지정하기 "
   ]
  },
  {
   "cell_type": "code",
   "execution_count": 5,
   "id": "659f94c8",
   "metadata": {},
   "outputs": [
    {
     "name": "stdout",
     "output_type": "stream",
     "text": [
      "결과 10\n"
     ]
    }
   ],
   "source": [
    "# 더하기 \n",
    "def add(a, b):\n",
    "    print(\"결과\", a + b)\n",
    "\n",
    "add(b = 3, a = 7)"
   ]
  },
  {
   "cell_type": "markdown",
   "id": "480e60d9",
   "metadata": {},
   "source": [
    "### global\n",
    "\n",
    "- global 키워드로 변수를 지정하면 해당 함수에서는 지역 변수를 만들지 않고, 함수 바깥에 선언된 변수를 바로 참조"
   ]
  },
  {
   "cell_type": "code",
   "execution_count": 18,
   "id": "e5f41dc7",
   "metadata": {},
   "outputs": [
    {
     "name": "stdout",
     "output_type": "stream",
     "text": [
      "20\n"
     ]
    }
   ],
   "source": [
    "a = 10\n",
    "\n",
    "def func():\n",
    "    global a\n",
    "    \n",
    "    a += 1\n",
    "    \n",
    "for i in range(10):\n",
    "    func()\n",
    "    \n",
    "print(a)"
   ]
  },
  {
   "cell_type": "code",
   "execution_count": 23,
   "id": "402524aa",
   "metadata": {},
   "outputs": [
    {
     "name": "stdout",
     "output_type": "stream",
     "text": [
      "[3, 4, 5, 6]\n",
      "[1, 2, 3, 4, 5]\n"
     ]
    }
   ],
   "source": [
    "array = [i for i in range(1, 6)]\n",
    "\n",
    "def func():\n",
    "    array = [3, 4, 5]\n",
    "    array.append(6)\n",
    "    print(array)\n",
    "    \n",
    "func()\n",
    "print(array)"
   ]
  },
  {
   "cell_type": "code",
   "execution_count": 22,
   "id": "da3f01d0",
   "metadata": {},
   "outputs": [
    {
     "name": "stdout",
     "output_type": "stream",
     "text": [
      "[3, 4, 5, 6]\n",
      "[3, 4, 5, 6]\n"
     ]
    }
   ],
   "source": [
    "array = [i for i in range(1, 6)]\n",
    "\n",
    "def func():\n",
    "    global array\n",
    "    array = [3, 4, 5]\n",
    "    array.append(6)\n",
    "    print(array)\n",
    "    \n",
    "func()\n",
    "print(array)"
   ]
  },
  {
   "cell_type": "markdown",
   "id": "fe3917cb",
   "metadata": {},
   "source": [
    "### 여러 개의 반환 값"
   ]
  },
  {
   "cell_type": "code",
   "execution_count": 24,
   "id": "45ee1ec2",
   "metadata": {},
   "outputs": [
    {
     "name": "stdout",
     "output_type": "stream",
     "text": [
      "10 4 21 2.3333333333333335\n"
     ]
    }
   ],
   "source": [
    "def operator(a, b):\n",
    "    add = a + b\n",
    "    subtract = a - b\n",
    "    multiply = a * b\n",
    "    divide = a / b\n",
    "    \n",
    "    return add, subtract, multiply, divide\n",
    "\n",
    "a, b, c, d = operator(7, 3)\n",
    "print(a, b, c, d)"
   ]
  },
  {
   "cell_type": "code",
   "execution_count": null,
   "id": "4f6e5eec",
   "metadata": {},
   "outputs": [],
   "source": []
  },
  {
   "cell_type": "markdown",
   "id": "851b8f36",
   "metadata": {},
   "source": [
    "## 람다 표현식\n",
    "\n",
    "- 함수를 간단하게 작성할 수 있음\n",
    "- 특정 기능을 수행하는 함수를 한 줄에 작성 가능\n"
   ]
  },
  {
   "cell_type": "code",
   "execution_count": 26,
   "id": "bb89394a",
   "metadata": {},
   "outputs": [
    {
     "name": "stdout",
     "output_type": "stream",
     "text": [
      "10\n"
     ]
    }
   ],
   "source": [
    "# 일반적인 함수\n",
    "def add(a, b):\n",
    "    return a + b\n",
    "\n",
    "print(add(3, 7))"
   ]
  },
  {
   "cell_type": "code",
   "execution_count": 29,
   "id": "30dba34d",
   "metadata": {},
   "outputs": [
    {
     "data": {
      "text/plain": [
       "10"
      ]
     },
     "execution_count": 29,
     "metadata": {},
     "output_type": "execute_result"
    }
   ],
   "source": [
    "# 람다 표현식으로 구현한 add()\n",
    "(lambda a, b : a+b)(3, 7)"
   ]
  },
  {
   "cell_type": "markdown",
   "id": "0537b4f4",
   "metadata": {},
   "source": [
    "### 내장 함수에서 자주 사용되는 람다 함수"
   ]
  },
  {
   "cell_type": "code",
   "execution_count": 46,
   "id": "bbf6b4e3",
   "metadata": {},
   "outputs": [
    {
     "name": "stdout",
     "output_type": "stream",
     "text": [
      "[('이순신', 32), ('홍길동', 50), ('아무개', 74)]\n"
     ]
    }
   ],
   "source": [
    "array = [('홍길동', 50), ('이순신', 32), ('아무개', 74)]\n",
    "\n",
    "def my_key(x):\n",
    "    return x[1]\n",
    "\n",
    "print(sorted(array, key = my_key))"
   ]
  },
  {
   "cell_type": "code",
   "execution_count": 49,
   "id": "f77aba28",
   "metadata": {},
   "outputs": [
    {
     "data": {
      "text/plain": [
       "('이순신', 32)"
      ]
     },
     "execution_count": 49,
     "metadata": {},
     "output_type": "execute_result"
    }
   ],
   "source": [
    "array[1]"
   ]
  },
  {
   "cell_type": "code",
   "execution_count": 48,
   "id": "0b615966",
   "metadata": {},
   "outputs": [
    {
     "data": {
      "text/plain": [
       "[('이순신', 32), ('홍길동', 50), ('아무개', 74)]"
      ]
     },
     "execution_count": 48,
     "metadata": {},
     "output_type": "execute_result"
    }
   ],
   "source": [
    "sorted(array, key = lambda x : x[1])"
   ]
  },
  {
   "cell_type": "code",
   "execution_count": 52,
   "id": "f5777440",
   "metadata": {},
   "outputs": [
    {
     "name": "stdout",
     "output_type": "stream",
     "text": [
      "[7, 9, 11, 13, 15]\n"
     ]
    }
   ],
   "source": [
    "# 여러 개의 리스트에 적용\n",
    "\n",
    "list1 = [1, 2, 3, 4, 5]\n",
    "list2 = [6, 7, 8, 9, 10]\n",
    "\n",
    "result = map(lambda a, b: a + b, list1, list2)\n",
    "\n",
    "print(list(result))"
   ]
  },
  {
   "cell_type": "code",
   "execution_count": null,
   "id": "1b61f5f5",
   "metadata": {},
   "outputs": [],
   "source": []
  }
 ],
 "metadata": {
  "kernelspec": {
   "display_name": "Python 3",
   "language": "python",
   "name": "python3"
  },
  "language_info": {
   "codemirror_mode": {
    "name": "ipython",
    "version": 3
   },
   "file_extension": ".py",
   "mimetype": "text/x-python",
   "name": "python",
   "nbconvert_exporter": "python",
   "pygments_lexer": "ipython3",
   "version": "3.8.10"
  }
 },
 "nbformat": 4,
 "nbformat_minor": 5
}
