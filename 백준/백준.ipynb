{
 "cells": [
  {
   "cell_type": "code",
   "execution_count": 183,
   "id": "73724767",
   "metadata": {},
   "outputs": [],
   "source": [
    "def t(n):\n",
    "    if n == 0: return 0\n",
    "    elif n == 1: return 1\n",
    "    if n % 2: return 1 - t(n//2)\n",
    "    else: return t(n//2)"
   ]
  },
  {
   "cell_type": "code",
   "execution_count": 184,
   "id": "959c5353",
   "metadata": {},
   "outputs": [
    {
     "name": "stdout",
     "output_type": "stream",
     "text": [
      "2\n"
     ]
    }
   ],
   "source": [
    "k = int(input())"
   ]
  },
  {
   "cell_type": "code",
   "execution_count": 185,
   "id": "f81c3cd2",
   "metadata": {},
   "outputs": [
    {
     "name": "stdout",
     "output_type": "stream",
     "text": [
      "1\n"
     ]
    }
   ],
   "source": [
    "print(t(k-1))"
   ]
  },
  {
   "cell_type": "code",
   "execution_count": null,
   "id": "41923e1f",
   "metadata": {},
   "outputs": [],
   "source": [
    "from collections import deque\n",
    "\n",
    "def solution(n, computers):\n",
    "    answer = 0\n",
    "    visited = [0] * n    \n",
    "\n",
    "    while 0 in visited:\n",
    "        x = visited.index(0)\n",
    "        queue = deque([x])\n",
    "        visited[x] = 1\n",
    "        \n",
    "        while queue:\n",
    "            v = queue.popleft()\n",
    "            \n",
    "            for i in range(n):\n",
    "                if visited[i] == 0 and computers[v][i] == 1:\n",
    "                    queue.append(i)\n",
    "                    visited[i] = 1\n",
    "        answer += 1  \n",
    "        \n",
    "    return answer"
   ]
  },
  {
   "cell_type": "code",
   "execution_count": null,
   "id": "79c41cb5",
   "metadata": {},
   "outputs": [],
   "source": [
    "\n",
    "def solution(n, computers):    \n",
    "    def BFS(node, visit):\n",
    "        que = [node]\n",
    "        visit[node] = 1\n",
    "        while que:\n",
    "            v = que.pop(0)\n",
    "            for i in range(n):\n",
    "                if computers[v][i] == 1 and visit[i] == 0:\n",
    "                    visit[i] = 1\n",
    "                    que.append(i)\n",
    "        return visit\n",
    "    visit = [0 for i in range(n)]\n",
    "    answer = 0\n",
    "    for i in range(n):\n",
    "        try:\n",
    "            visit = BFS(visit.index(0), visit)\n",
    "            answer += 1\n",
    "        except:\n",
    "            break\n",
    "    return answer\n"
   ]
  },
  {
   "cell_type": "code",
   "execution_count": null,
   "id": "94984323",
   "metadata": {},
   "outputs": [],
   "source": [
    "def solution(phone_book):\n",
    "    answer = True\n",
    "    hash_map = {}\n",
    "    for phone_number in phone_book:\n",
    "        hash_map[phone_number] = 1\n",
    "    for phone_number in phone_book:\n",
    "        temp = \"\"\n",
    "        for number in phone_number:\n",
    "            temp += number\n",
    "            if temp in hash_map and temp != phone_number:\n",
    "                answer = False\n",
    "    return answer"
   ]
  }
 ],
 "metadata": {
  "kernelspec": {
   "display_name": "Python 3",
   "language": "python",
   "name": "python3"
  },
  "language_info": {
   "codemirror_mode": {
    "name": "ipython",
    "version": 3
   },
   "file_extension": ".py",
   "mimetype": "text/x-python",
   "name": "python",
   "nbconvert_exporter": "python",
   "pygments_lexer": "ipython3",
   "version": "3.8.10"
  }
 },
 "nbformat": 4,
 "nbformat_minor": 5
}
