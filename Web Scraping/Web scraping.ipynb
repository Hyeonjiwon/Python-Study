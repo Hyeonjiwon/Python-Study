{
 "cells": [
  {
   "cell_type": "markdown",
   "id": "6b843404",
   "metadata": {},
   "source": [
    "# 도서관 정보나루 웹 스크래핑\n",
    "\n",
    "\n",
    "- 웹 스크래핑을 통해 원하는 도서관의 대출 데이터를 다운로드 하기"
   ]
  },
  {
   "cell_type": "code",
   "execution_count": 7,
   "id": "1642a3a1",
   "metadata": {},
   "outputs": [],
   "source": [
    "# 로그 메시지 숨기기\n",
    "from requests.packages.urllib3.exceptions import InsecureRequestWarning\n",
    "requests.packages.urllib3.disable_warnings(InsecureRequestWarning)"
   ]
  },
  {
   "cell_type": "code",
   "execution_count": 15,
   "id": "c68107db",
   "metadata": {},
   "outputs": [],
   "source": [
    "import requests\n",
    "from bs4 import BeautifulSoup\n",
    "\n",
    "url = \"https://www.data4library.kr/openDataL\"\n",
    "response = requests.get(url, verify = False) # SSLError"
   ]
  },
  {
   "cell_type": "code",
   "execution_count": 16,
   "id": "3d11e654",
   "metadata": {},
   "outputs": [],
   "source": [
    "# SSLError \n",
    "# https://blog.naver.com/PostView.nhn?blogId=dsz08082&logNo=222093530720&parentCategoryNo=&categoryNo=55&viewDate=&isShowPopularPosts=true&from=search"
   ]
  },
  {
   "cell_type": "code",
   "execution_count": 18,
   "id": "40256e6a",
   "metadata": {},
   "outputs": [],
   "source": [
    "html = response.text"
   ]
  },
  {
   "cell_type": "code",
   "execution_count": 19,
   "id": "43c856b3",
   "metadata": {},
   "outputs": [],
   "source": [
    "soup = BeautifulSoup(html, \"html5lib\")"
   ]
  },
  {
   "cell_type": "code",
   "execution_count": 24,
   "id": "47fde4e9",
   "metadata": {},
   "outputs": [
    {
     "data": {
      "text/plain": [
       "[<input id=\"srchText\" name=\"srchText\" placeholder=\"Search\" title=\"검색\" type=\"text\" value=\"\"/>]"
      ]
     },
     "execution_count": 24,
     "metadata": {},
     "output_type": "execute_result"
    }
   ],
   "source": [
    "tags = soup.select(\"#srchText\")\n",
    "tags"
   ]
  },
  {
   "cell_type": "code",
   "execution_count": 27,
   "id": "c3b4ac0c",
   "metadata": {},
   "outputs": [
    {
     "data": {
      "text/plain": [
       "''"
      ]
     },
     "execution_count": 27,
     "metadata": {},
     "output_type": "execute_result"
    }
   ],
   "source": [
    "tag= tags[0]\n",
    "tag.text"
   ]
  },
  {
   "cell_type": "code",
   "execution_count": null,
   "id": "46ab0e6a",
   "metadata": {},
   "outputs": [],
   "source": []
  }
 ],
 "metadata": {
  "kernelspec": {
   "display_name": "Python 3",
   "language": "python",
   "name": "python3"
  },
  "language_info": {
   "codemirror_mode": {
    "name": "ipython",
    "version": 3
   },
   "file_extension": ".py",
   "mimetype": "text/x-python",
   "name": "python",
   "nbconvert_exporter": "python",
   "pygments_lexer": "ipython3",
   "version": "3.8.8"
  }
 },
 "nbformat": 4,
 "nbformat_minor": 5
}
