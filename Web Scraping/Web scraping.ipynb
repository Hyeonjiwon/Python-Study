{
 "cells": [
  {
   "cell_type": "markdown",
   "id": "5b2c84f1",
   "metadata": {},
   "source": [
    "# Python Scraping\n",
    "\n",
    "- 도서관 정보나루 \n",
    "- 웹 스크래핑을 통해 원하는 도서관의 대출 데이터를 다운로드 하기\n",
    "\n",
    "- https://dsc-sookmyung.tistory.com/85\n"
   ]
  },
  {
   "cell_type": "code",
   "execution_count": 7,
   "id": "92805fc0",
   "metadata": {},
   "outputs": [],
   "source": [
    "# 로그 메시지 숨기기\n",
    "from requests.packages.urllib3.exceptions import InsecureRequestWarning\n",
    "requests.packages.urllib3.disable_warnings(InsecureRequestWarning)"
   ]
  },
  {
   "cell_type": "code",
   "execution_count": 15,
   "id": "58b537bd",
   "metadata": {},
   "outputs": [],
   "source": [
    "import requests\n",
    "from bs4 import BeautifulSoup\n",
    "\n",
    "url = \"https://www.data4library.kr/openDataL\"\n",
    "response = requests.get(url, verify = False) # SSLError"
   ]
  },
  {
   "cell_type": "code",
   "execution_count": 16,
   "id": "d3c633cf",
   "metadata": {},
   "outputs": [],
   "source": [
    "# SSLError \n",
    "# https://blog.naver.com/PostView.nhn?blogId=dsz08082&logNo=222093530720&parentCategoryNo=&categoryNo=55&viewDate=&isShowPopularPosts=true&from=search"
   ]
  },
  {
   "cell_type": "code",
   "execution_count": 18,
   "id": "9b1bc2e2",
   "metadata": {},
   "outputs": [],
   "source": [
    "html = response.text"
   ]
  },
  {
   "cell_type": "code",
   "execution_count": 19,
   "id": "7d8987e8",
   "metadata": {},
   "outputs": [],
   "source": [
    "soup = BeautifulSoup(html, \"html5lib\")"
   ]
  },
  {
   "cell_type": "code",
   "execution_count": 24,
   "id": "ccaba75c",
   "metadata": {},
   "outputs": [
    {
     "data": {
      "text/plain": [
       "[<input id=\"srchText\" name=\"srchText\" placeholder=\"Search\" title=\"검색\" type=\"text\" value=\"\"/>]"
      ]
     },
     "execution_count": 24,
     "metadata": {},
     "output_type": "execute_result"
    }
   ],
   "source": [
    "# CSS 셀렉터 : id 셀렉터로 검색 칸 select\n",
    "tags = soup.select(\"#srchText\") \n",
    "tags"
   ]
  },
  {
   "cell_type": "code",
   "execution_count": 27,
   "id": "39876cac",
   "metadata": {},
   "outputs": [
    {
     "data": {
      "text/plain": [
       "''"
      ]
     },
     "execution_count": 27,
     "metadata": {},
     "output_type": "execute_result"
    }
   ],
   "source": [
    "tag= tags[0]\n",
    "tag.text"
   ]
  },
  {
   "cell_type": "code",
   "execution_count": 43,
   "id": "cd55fcbe",
   "metadata": {},
   "outputs": [],
   "source": [
    "# 다중 셀렉터로 text select \n",
    "tags = soup.select(\".link_td a \") \n",
    "# text에서 도서관명만 추출\n",
    "lib_name = tags[0].text.split(' ')[0] \n",
    "\n",
    "# 특수문자 제거\n",
    "# lib_name = ''.join(filter(str.isalnum, tags[0].text))"
   ]
  },
  {
   "cell_type": "code",
   "execution_count": null,
   "id": "e5e8cd34",
   "metadata": {},
   "outputs": [],
   "source": []
  },
  {
   "cell_type": "markdown",
   "id": "f855034b",
   "metadata": {},
   "source": [
    "# Python Selenium \n",
    "\n",
    "- https://sites.google.com/a/chromium.org/chromedriver/downloads \n",
    "\n",
    "1. \n",
    "- https://www.data4library.kr/openDataL\n",
    "- ~~검색 입력 칸 클릭 > 검색 도서관명 입력 > 검색 버튼 클릭~~\n",
    "- ~~검색 결과 첫번째 도서관 클릭 > 첫번째 엑셀버튼 클릭~~\n",
    "\n",
    "2.\n",
    "- https://www.data4library.kr/libDataL 참여도서관 목록 \n",
    "- 검색 입력 칸 클릭 > 검색 도서관명 입력 > 검색 버튼 클릭 \n",
    "- 검색 결과 첫번째 도서관 클릭 > 도서관 코드 크롤링 \n",
    "- 도서관명 + 도서관 코드 저장"
   ]
  },
  {
   "cell_type": "code",
   "execution_count": 64,
   "id": "a36c58cd",
   "metadata": {},
   "outputs": [],
   "source": [
    "import selenium\n",
    "from selenium import webdriver\n",
    "\n",
    "options = webdriver.ChromeOptions()\n",
    "options.binary_location = 'C:/Program Files/Google/Chrome/Application/chrome.exe'\n",
    "\n",
    "browser = webdriver.Chrome('chromedriver.exe', options = options)"
   ]
  },
  {
   "cell_type": "code",
   "execution_count": 72,
   "id": "f9ba0a48",
   "metadata": {},
   "outputs": [],
   "source": [
    "URL = \"https://www.data4library.kr/libDataL\"\n",
    "\n",
    "driver = webdriver.Chrome(executable_path='chromedriver')\n",
    "driver.get(url=URL)"
   ]
  },
  {
   "cell_type": "code",
   "execution_count": 73,
   "id": "f09cfe02",
   "metadata": {},
   "outputs": [],
   "source": [
    "# 검색 창에 도서관명 입력\n",
    "search_box = driver.find_element_by_xpath('//*[@id=\"srchText\"]')\n",
    "search_box.send_keys('한밭도서관')"
   ]
  },
  {
   "cell_type": "code",
   "execution_count": 75,
   "id": "238f547c",
   "metadata": {},
   "outputs": [],
   "source": [
    "# 검색 버튼 클릭\n",
    "search_btn = driver.find_element_by_xpath('//*[@id=\"pagef\"]/div[3]/div[1]/div/a')\n",
    "search_btn.click()"
   ]
  },
  {
   "cell_type": "code",
   "execution_count": 77,
   "id": "e3d40aed",
   "metadata": {},
   "outputs": [],
   "source": [
    "# 첫번째 도서관 클릭\n",
    "driver.find_element_by_xpath('//*[@id=\"pagef\"]/div[4]/table/tbody/tr/td[2]/a').click()"
   ]
  },
  {
   "cell_type": "code",
   "execution_count": 82,
   "id": "af07c855",
   "metadata": {},
   "outputs": [],
   "source": [
    "lib_code_list = []"
   ]
  },
  {
   "cell_type": "code",
   "execution_count": 84,
   "id": "98064934",
   "metadata": {},
   "outputs": [],
   "source": [
    "lib_code = driver.find_element_by_xpath('//*[@id=\"sb-site\"]/section/div[5]/div/table/tbody/tr[1]/td[2]')\n",
    "lib_code_list.append(lib_code.text)"
   ]
  },
  {
   "cell_type": "code",
   "execution_count": 85,
   "id": "1160e926",
   "metadata": {},
   "outputs": [
    {
     "data": {
      "text/plain": [
       "['125003']"
      ]
     },
     "execution_count": 85,
     "metadata": {},
     "output_type": "execute_result"
    }
   ],
   "source": [
    "lib_code_list"
   ]
  },
  {
   "cell_type": "code",
   "execution_count": null,
   "id": "399d5d4c",
   "metadata": {},
   "outputs": [],
   "source": []
  }
 ],
 "metadata": {
  "kernelspec": {
   "display_name": "Python 3",
   "language": "python",
   "name": "python3"
  },
  "language_info": {
   "codemirror_mode": {
    "name": "ipython",
    "version": 3
   },
   "file_extension": ".py",
   "mimetype": "text/x-python",
   "name": "python",
   "nbconvert_exporter": "python",
   "pygments_lexer": "ipython3",
   "version": "3.8.8"
  }
 },
 "nbformat": 4,
 "nbformat_minor": 5
}
