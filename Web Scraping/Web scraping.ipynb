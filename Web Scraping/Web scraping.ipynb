{
 "cells": [
  {
   "cell_type": "markdown",
   "id": "22f0b742",
   "metadata": {},
   "source": [
    "# Python Scraping\n",
    "\n",
    "- 도서관 정보나루 \n",
    "- 웹 스크래핑을 통해 원하는 도서관의 대출 데이터를 다운로드 하기\n",
    "\n",
    "- https://dsc-sookmyung.tistory.com/85\n"
   ]
  },
  {
   "cell_type": "code",
   "execution_count": 1,
   "id": "d719eb76",
   "metadata": {},
   "outputs": [],
   "source": [
    "import requests\n",
    "from bs4 import BeautifulSoup\n",
    "\n",
    "# 로그 메시지 숨기기\n",
    "from requests.packages.urllib3.exceptions import InsecureRequestWarning\n",
    "requests.packages.urllib3.disable_warnings(InsecureRequestWarning)"
   ]
  },
  {
   "cell_type": "code",
   "execution_count": 3,
   "id": "ebf440fd",
   "metadata": {},
   "outputs": [],
   "source": [
    "url = \"https://www.data4library.kr/openDataL\"\n",
    "response = requests.get(url, verify = False) # SSLError"
   ]
  },
  {
   "cell_type": "code",
   "execution_count": 4,
   "id": "365d9fca",
   "metadata": {},
   "outputs": [],
   "source": [
    "# SSLError \n",
    "# https://blog.naver.com/PostView.nhn?blogId=dsz08082&logNo=222093530720&parentCategoryNo=&categoryNo=55&viewDate=&isShowPopularPosts=true&from=search"
   ]
  },
  {
   "cell_type": "code",
   "execution_count": 5,
   "id": "ccada939",
   "metadata": {},
   "outputs": [],
   "source": [
    "html = response.text"
   ]
  },
  {
   "cell_type": "code",
   "execution_count": 6,
   "id": "560d8bc5",
   "metadata": {},
   "outputs": [],
   "source": [
    "soup = BeautifulSoup(html, \"html5lib\")"
   ]
  },
  {
   "cell_type": "code",
   "execution_count": 7,
   "id": "a563397d",
   "metadata": {},
   "outputs": [
    {
     "data": {
      "text/plain": [
       "[<input id=\"srchText\" name=\"srchText\" placeholder=\"Search\" title=\"검색\" type=\"text\" value=\"\"/>]"
      ]
     },
     "execution_count": 7,
     "metadata": {},
     "output_type": "execute_result"
    }
   ],
   "source": [
    "# CSS 셀렉터 : id 셀렉터로 검색 칸 select\n",
    "tags = soup.select(\"#srchText\") \n",
    "tags"
   ]
  },
  {
   "cell_type": "code",
   "execution_count": 8,
   "id": "81253cfd",
   "metadata": {},
   "outputs": [
    {
     "data": {
      "text/plain": [
       "''"
      ]
     },
     "execution_count": 8,
     "metadata": {},
     "output_type": "execute_result"
    }
   ],
   "source": [
    "tag= tags[0]\n",
    "tag.text"
   ]
  },
  {
   "cell_type": "code",
   "execution_count": 9,
   "id": "60fca577",
   "metadata": {},
   "outputs": [],
   "source": [
    "# 다중 셀렉터로 text select \n",
    "tags = soup.select(\".link_td a \") \n",
    "# text에서 도서관명만 추출\n",
    "lib_name = tags[0].text.split(' ')[0] \n",
    "\n",
    "# 특수문자 제거\n",
    "# lib_name = ''.join(filter(str.isalnum, tags[0].text))"
   ]
  },
  {
   "cell_type": "code",
   "execution_count": null,
   "id": "ebe5396a",
   "metadata": {},
   "outputs": [],
   "source": []
  },
  {
   "cell_type": "markdown",
   "id": "7ad9a353",
   "metadata": {},
   "source": [
    "# Python Selenium \n",
    "\n",
    "- https://sites.google.com/a/chromium.org/chromedriver/downloads \n",
    "\n",
    "1. \n",
    "\n",
    "1-1.\n",
    "- 도서관 목록 엑셀 파일 불러오기\n",
    "- 도서관명을 리스트로 저장\n",
    "- 리스트의 모든 도서관명을 검색  \n",
    "\n",
    "1-2.\n",
    "- https://www.data4library.kr/openDataL\n",
    "- 검색 입력 칸 클릭 > 검색 도서관명 입력 > 검색 버튼 클릭\n",
    "- 검색 결과 첫번째 도서관 클릭 > 첫번째 엑셀버튼 클릭\n",
    "\n",
    "\n",
    "2.\n",
    "- https://www.data4library.kr/libDataL 참여도서관 목록 \n",
    "- ~~검색 입력 칸 클릭 > 검색 도서관명 입력 > 검색 버튼 클릭~~ \n",
    "- ~~검색 결과 첫번째 도서관 클릭 > 도서관 코드 크롤링~~\n",
    "- ~~도서관명 + 도서관 코드 저장~~"
   ]
  },
  {
   "cell_type": "markdown",
   "id": "878b9fb6",
   "metadata": {},
   "source": [
    "## 1-1"
   ]
  },
  {
   "cell_type": "code",
   "execution_count": 64,
   "id": "0555462c",
   "metadata": {
    "scrolled": true
   },
   "outputs": [
    {
     "data": {
      "text/html": [
       "<div>\n",
       "<style scoped>\n",
       "    .dataframe tbody tr th:only-of-type {\n",
       "        vertical-align: middle;\n",
       "    }\n",
       "\n",
       "    .dataframe tbody tr th {\n",
       "        vertical-align: top;\n",
       "    }\n",
       "\n",
       "    .dataframe thead th {\n",
       "        text-align: right;\n",
       "    }\n",
       "</style>\n",
       "<table border=\"1\" class=\"dataframe\">\n",
       "  <thead>\n",
       "    <tr style=\"text-align: right;\">\n",
       "      <th></th>\n",
       "      <th>주소1</th>\n",
       "      <th>도서관명</th>\n",
       "      <th>정보나루_도서관명</th>\n",
       "      <th>주소</th>\n",
       "      <th>정보나루_주소</th>\n",
       "      <th>비도서(점)</th>\n",
       "      <th>연간증가 비도서(점)</th>\n",
       "      <th>건물면적</th>\n",
       "      <th>규모</th>\n",
       "    </tr>\n",
       "  </thead>\n",
       "  <tbody>\n",
       "    <tr>\n",
       "      <th>0</th>\n",
       "      <td>대전광역시</td>\n",
       "      <td>대전광역시한밭도서관</td>\n",
       "      <td>한밭도서관</td>\n",
       "      <td>대전광역시 중구 서문로 10 문화동한밭도서관</td>\n",
       "      <td>대전광역시 중구 서문로 10</td>\n",
       "      <td>62628</td>\n",
       "      <td>587</td>\n",
       "      <td>22485.39</td>\n",
       "      <td>5</td>\n",
       "    </tr>\n",
       "    <tr>\n",
       "      <th>1</th>\n",
       "      <td>광주광역시</td>\n",
       "      <td>광주학생교육문화회관</td>\n",
       "      <td>광주학생교육문화회관</td>\n",
       "      <td>광주광역시 서구 상무민주로 61 쌍촌동61 광주학생교육문화회관</td>\n",
       "      <td>광주광역시 서구 상무민주로 61</td>\n",
       "      <td>4312</td>\n",
       "      <td>251</td>\n",
       "      <td>18350.13</td>\n",
       "      <td>5</td>\n",
       "    </tr>\n",
       "    <tr>\n",
       "      <th>2</th>\n",
       "      <td>울산광역시</td>\n",
       "      <td>울산도서관</td>\n",
       "      <td>울산도서관</td>\n",
       "      <td>울산광역시 남구 꽃대나리로 140 여천동울산도서관</td>\n",
       "      <td>울산광역시 남구 꽃대나리로 140</td>\n",
       "      <td>4072</td>\n",
       "      <td>393</td>\n",
       "      <td>15176.65</td>\n",
       "      <td>5</td>\n",
       "    </tr>\n",
       "    <tr>\n",
       "      <th>3</th>\n",
       "      <td>경기도</td>\n",
       "      <td>경기평생교육학습관</td>\n",
       "      <td>경기평생교육학습관</td>\n",
       "      <td>경기도 수원시 권선구 권중로 55 (권선동)경기평생교육학습관</td>\n",
       "      <td>경기도 수원시 권선구 권중로 55</td>\n",
       "      <td>7325</td>\n",
       "      <td>640</td>\n",
       "      <td>14900.00</td>\n",
       "      <td>5</td>\n",
       "    </tr>\n",
       "    <tr>\n",
       "      <th>4</th>\n",
       "      <td>광주광역시</td>\n",
       "      <td>광주학생독립운동기념회관</td>\n",
       "      <td>광주학생독립운동기념회관</td>\n",
       "      <td>광주광역시 서구 학생독립로30 광주학생독립운동기념회관</td>\n",
       "      <td>광주광역시 서구 학생독립로 30</td>\n",
       "      <td>1758</td>\n",
       "      <td>203</td>\n",
       "      <td>13783.20</td>\n",
       "      <td>5</td>\n",
       "    </tr>\n",
       "    <tr>\n",
       "      <th>...</th>\n",
       "      <td>...</td>\n",
       "      <td>...</td>\n",
       "      <td>...</td>\n",
       "      <td>...</td>\n",
       "      <td>...</td>\n",
       "      <td>...</td>\n",
       "      <td>...</td>\n",
       "      <td>...</td>\n",
       "      <td>...</td>\n",
       "    </tr>\n",
       "    <tr>\n",
       "      <th>696</th>\n",
       "      <td>서울특별시</td>\n",
       "      <td>방배도서관</td>\n",
       "      <td>방배도서관</td>\n",
       "      <td>서울특별시 서초구 방배로 40 (방배동)방배3동 주민센터(신청사) 4층</td>\n",
       "      <td>서울특별시 서초구 방배로 40</td>\n",
       "      <td>0</td>\n",
       "      <td>0</td>\n",
       "      <td>271.00</td>\n",
       "      <td>1</td>\n",
       "    </tr>\n",
       "    <tr>\n",
       "      <th>697</th>\n",
       "      <td>경상남도</td>\n",
       "      <td>상북어린이도서관</td>\n",
       "      <td>양산시립 상북어린이도서관</td>\n",
       "      <td>경상남도 양산시 상북면 반회서7길 14-16상북어린이도서관</td>\n",
       "      <td>경상남도 양산시 상북면 반회서7길 14-16</td>\n",
       "      <td>274</td>\n",
       "      <td>68</td>\n",
       "      <td>265.34</td>\n",
       "      <td>1</td>\n",
       "    </tr>\n",
       "    <tr>\n",
       "      <th>698</th>\n",
       "      <td>서울특별시</td>\n",
       "      <td>돌마리도서관</td>\n",
       "      <td>돌마리도서관</td>\n",
       "      <td>서울특별시 송파구 백제고분로37길 16 석촌동석촌동주민센터 5층</td>\n",
       "      <td>서울특별시 송파구 백제고분로37길 16</td>\n",
       "      <td>0</td>\n",
       "      <td>0</td>\n",
       "      <td>265.00</td>\n",
       "      <td>1</td>\n",
       "    </tr>\n",
       "    <tr>\n",
       "      <th>699</th>\n",
       "      <td>경기도</td>\n",
       "      <td>용인시구갈희망누리도서관</td>\n",
       "      <td>구갈희망누리도서관</td>\n",
       "      <td>경기도 용인시 기흥구 갈곡로12번길 1 (구갈동)근린공원 내</td>\n",
       "      <td>경기도 용인시 기흥구 갈곡로12번길 1</td>\n",
       "      <td>0</td>\n",
       "      <td>0</td>\n",
       "      <td>264.00</td>\n",
       "      <td>1</td>\n",
       "    </tr>\n",
       "    <tr>\n",
       "      <th>700</th>\n",
       "      <td>경상남도</td>\n",
       "      <td>비봉어린이도서관</td>\n",
       "      <td>진주시립비봉어린이도서관</td>\n",
       "      <td>경상남도 진주시 향교로 86 (옥봉동)86 (비봉어린이도서관)</td>\n",
       "      <td>경상남도 진주시 향교로 86</td>\n",
       "      <td>348</td>\n",
       "      <td>0</td>\n",
       "      <td>201.00</td>\n",
       "      <td>1</td>\n",
       "    </tr>\n",
       "  </tbody>\n",
       "</table>\n",
       "<p>701 rows × 9 columns</p>\n",
       "</div>"
      ],
      "text/plain": [
       "       주소1          도서관명      정보나루_도서관명  \\\n",
       "0    대전광역시    대전광역시한밭도서관          한밭도서관   \n",
       "1    광주광역시    광주학생교육문화회관     광주학생교육문화회관   \n",
       "2    울산광역시         울산도서관          울산도서관   \n",
       "3      경기도     경기평생교육학습관      경기평생교육학습관   \n",
       "4    광주광역시  광주학생독립운동기념회관   광주학생독립운동기념회관   \n",
       "..     ...           ...            ...   \n",
       "696  서울특별시         방배도서관          방배도서관   \n",
       "697   경상남도      상북어린이도서관  양산시립 상북어린이도서관   \n",
       "698  서울특별시        돌마리도서관         돌마리도서관   \n",
       "699    경기도  용인시구갈희망누리도서관      구갈희망누리도서관   \n",
       "700   경상남도      비봉어린이도서관   진주시립비봉어린이도서관   \n",
       "\n",
       "                                          주소                   정보나루_주소  \\\n",
       "0                   대전광역시 중구 서문로 10 문화동한밭도서관           대전광역시 중구 서문로 10   \n",
       "1         광주광역시 서구 상무민주로 61 쌍촌동61 광주학생교육문화회관         광주광역시 서구 상무민주로 61   \n",
       "2                울산광역시 남구 꽃대나리로 140 여천동울산도서관        울산광역시 남구 꽃대나리로 140   \n",
       "3          경기도 수원시 권선구 권중로 55 (권선동)경기평생교육학습관        경기도 수원시 권선구 권중로 55   \n",
       "4              광주광역시 서구 학생독립로30 광주학생독립운동기념회관         광주광역시 서구 학생독립로 30   \n",
       "..                                       ...                       ...   \n",
       "696  서울특별시 서초구 방배로 40 (방배동)방배3동 주민센터(신청사) 4층          서울특별시 서초구 방배로 40   \n",
       "697         경상남도 양산시 상북면 반회서7길 14-16상북어린이도서관  경상남도 양산시 상북면 반회서7길 14-16   \n",
       "698      서울특별시 송파구 백제고분로37길 16 석촌동석촌동주민센터 5층     서울특별시 송파구 백제고분로37길 16   \n",
       "699        경기도 용인시 기흥구 갈곡로12번길 1 (구갈동)근린공원 내     경기도 용인시 기흥구 갈곡로12번길 1   \n",
       "700       경상남도 진주시 향교로 86 (옥봉동)86 (비봉어린이도서관)           경상남도 진주시 향교로 86   \n",
       "\n",
       "     비도서(점)  연간증가 비도서(점)      건물면적  규모  \n",
       "0     62628          587  22485.39   5  \n",
       "1      4312          251  18350.13   5  \n",
       "2      4072          393  15176.65   5  \n",
       "3      7325          640  14900.00   5  \n",
       "4      1758          203  13783.20   5  \n",
       "..      ...          ...       ...  ..  \n",
       "696       0            0    271.00   1  \n",
       "697     274           68    265.34   1  \n",
       "698       0            0    265.00   1  \n",
       "699       0            0    264.00   1  \n",
       "700     348            0    201.00   1  \n",
       "\n",
       "[701 rows x 9 columns]"
      ]
     },
     "execution_count": 64,
     "metadata": {},
     "output_type": "execute_result"
    }
   ],
   "source": [
    "import pandas as pd\n",
    "import openpyxl\n",
    "import xlsxwriter\n",
    "\n",
    "df = pd.read_excel('총람_도서관_목록(정보나루)_1101.xlsx', engine = 'openpyxl', sheet_name = 1)\n",
    "df"
   ]
  },
  {
   "cell_type": "code",
   "execution_count": 65,
   "id": "938d0a98",
   "metadata": {},
   "outputs": [
    {
     "data": {
      "text/plain": [
       "array([5, 4, 3, 2, 1], dtype=int64)"
      ]
     },
     "execution_count": 65,
     "metadata": {},
     "output_type": "execute_result"
    }
   ],
   "source": [
    "df['규모'].unique()"
   ]
  },
  {
   "cell_type": "code",
   "execution_count": 75,
   "id": "38aa6af0",
   "metadata": {
    "scrolled": true
   },
   "outputs": [
    {
     "data": {
      "text/html": [
       "<div>\n",
       "<style scoped>\n",
       "    .dataframe tbody tr th:only-of-type {\n",
       "        vertical-align: middle;\n",
       "    }\n",
       "\n",
       "    .dataframe tbody tr th {\n",
       "        vertical-align: top;\n",
       "    }\n",
       "\n",
       "    .dataframe thead th {\n",
       "        text-align: right;\n",
       "    }\n",
       "</style>\n",
       "<table border=\"1\" class=\"dataframe\">\n",
       "  <thead>\n",
       "    <tr style=\"text-align: right;\">\n",
       "      <th></th>\n",
       "      <th>주소1</th>\n",
       "      <th>도서관명</th>\n",
       "      <th>정보나루_도서관명</th>\n",
       "      <th>주소</th>\n",
       "      <th>정보나루_주소</th>\n",
       "      <th>비도서(점)</th>\n",
       "      <th>연간증가 비도서(점)</th>\n",
       "      <th>건물면적</th>\n",
       "      <th>규모</th>\n",
       "    </tr>\n",
       "  </thead>\n",
       "  <tbody>\n",
       "    <tr>\n",
       "      <th>0</th>\n",
       "      <td>대전광역시</td>\n",
       "      <td>대전광역시한밭도서관</td>\n",
       "      <td>한밭도서관</td>\n",
       "      <td>대전광역시 중구 서문로 10 문화동한밭도서관</td>\n",
       "      <td>대전광역시 중구 서문로 10</td>\n",
       "      <td>62628</td>\n",
       "      <td>587</td>\n",
       "      <td>22485.39</td>\n",
       "      <td>5</td>\n",
       "    </tr>\n",
       "    <tr>\n",
       "      <th>1</th>\n",
       "      <td>광주광역시</td>\n",
       "      <td>광주학생교육문화회관</td>\n",
       "      <td>광주학생교육문화회관</td>\n",
       "      <td>광주광역시 서구 상무민주로 61 쌍촌동61 광주학생교육문화회관</td>\n",
       "      <td>광주광역시 서구 상무민주로 61</td>\n",
       "      <td>4312</td>\n",
       "      <td>251</td>\n",
       "      <td>18350.13</td>\n",
       "      <td>5</td>\n",
       "    </tr>\n",
       "    <tr>\n",
       "      <th>2</th>\n",
       "      <td>울산광역시</td>\n",
       "      <td>울산도서관</td>\n",
       "      <td>울산도서관</td>\n",
       "      <td>울산광역시 남구 꽃대나리로 140 여천동울산도서관</td>\n",
       "      <td>울산광역시 남구 꽃대나리로 140</td>\n",
       "      <td>4072</td>\n",
       "      <td>393</td>\n",
       "      <td>15176.65</td>\n",
       "      <td>5</td>\n",
       "    </tr>\n",
       "    <tr>\n",
       "      <th>101</th>\n",
       "      <td>경기도</td>\n",
       "      <td>남양주시오남도서관</td>\n",
       "      <td>남양주시 오남도서관</td>\n",
       "      <td>경기도 남양주시 오남읍 양지로240번길 12오남도서관</td>\n",
       "      <td>경기도 남양주시 오남읍 양지로240번길 12</td>\n",
       "      <td>2877</td>\n",
       "      <td>290</td>\n",
       "      <td>5454.00</td>\n",
       "      <td>4</td>\n",
       "    </tr>\n",
       "    <tr>\n",
       "      <th>102</th>\n",
       "      <td>서울특별시</td>\n",
       "      <td>서울특별시교육청고척도서관</td>\n",
       "      <td>고척도서관</td>\n",
       "      <td>서울특별시 구로구 고척로45길 31 (고척동)고척로45길 31  (고척동)</td>\n",
       "      <td>서울특별시 구로구 고척로45길 31</td>\n",
       "      <td>11423</td>\n",
       "      <td>595</td>\n",
       "      <td>5437.66</td>\n",
       "      <td>4</td>\n",
       "    </tr>\n",
       "    <tr>\n",
       "      <th>103</th>\n",
       "      <td>경기도</td>\n",
       "      <td>부천시립상동도서관</td>\n",
       "      <td>부천시립상동도서관</td>\n",
       "      <td>경기도 부천시 상이로 12 (상동)상이로 12(상동도서관)</td>\n",
       "      <td>경기도 부천시 상이로 12</td>\n",
       "      <td>4723</td>\n",
       "      <td>41</td>\n",
       "      <td>5426.00</td>\n",
       "      <td>4</td>\n",
       "    </tr>\n",
       "    <tr>\n",
       "      <th>216</th>\n",
       "      <td>대구광역시</td>\n",
       "      <td>대구광역시립두류도서관</td>\n",
       "      <td>대구광역시립두류도서관</td>\n",
       "      <td>대구광역시 달서구 공원순환로 8 두류동8 두류도서관</td>\n",
       "      <td>대구광역시 달서구 공원순환로 8</td>\n",
       "      <td>6145</td>\n",
       "      <td>140</td>\n",
       "      <td>3461.00</td>\n",
       "      <td>3</td>\n",
       "    </tr>\n",
       "    <tr>\n",
       "      <th>217</th>\n",
       "      <td>경상남도</td>\n",
       "      <td>김해지혜의바다</td>\n",
       "      <td>경상남도교육청 김해지혜의바다도서관</td>\n",
       "      <td>경상남도 김해시 주촌면 서부로1541번길 8김해지혜의바다</td>\n",
       "      <td>경상남도 김해시 주촌면 서부로1541번길 8</td>\n",
       "      <td>0</td>\n",
       "      <td>0</td>\n",
       "      <td>3449.19</td>\n",
       "      <td>3</td>\n",
       "    </tr>\n",
       "    <tr>\n",
       "      <th>218</th>\n",
       "      <td>충청남도</td>\n",
       "      <td>충청남도교육청학생교육문화원</td>\n",
       "      <td>충청남도교육청 학생교육문화원</td>\n",
       "      <td>충청남도 천안시 동남구 옛농고1길 41 원성동충청남도교육청학생교육문화원</td>\n",
       "      <td>충청남도 천안시 동남구 옛농고1길 41</td>\n",
       "      <td>3419</td>\n",
       "      <td>305</td>\n",
       "      <td>3421.00</td>\n",
       "      <td>3</td>\n",
       "    </tr>\n",
       "    <tr>\n",
       "      <th>306</th>\n",
       "      <td>경기도</td>\n",
       "      <td>가평군립청평도서관</td>\n",
       "      <td>가평군 청평도서관</td>\n",
       "      <td>경기도 가평군 청평면 은고개로 3131</td>\n",
       "      <td>경기도 가평군 청평면 은고개로 31</td>\n",
       "      <td>1545</td>\n",
       "      <td>17</td>\n",
       "      <td>2485.23</td>\n",
       "      <td>2</td>\n",
       "    </tr>\n",
       "    <tr>\n",
       "      <th>307</th>\n",
       "      <td>충청북도</td>\n",
       "      <td>청주흥덕도서관</td>\n",
       "      <td>청주흥덕도서관</td>\n",
       "      <td>충청북도 청주시 흥덕구 증안로90번길 34 복대동34 청주흥덕도서관</td>\n",
       "      <td>충청북도 청주시 흥덕구 증안로90번길 34</td>\n",
       "      <td>573</td>\n",
       "      <td>0</td>\n",
       "      <td>2480.00</td>\n",
       "      <td>2</td>\n",
       "    </tr>\n",
       "    <tr>\n",
       "      <th>308</th>\n",
       "      <td>대구광역시</td>\n",
       "      <td>동구구립 안심도서관</td>\n",
       "      <td>대구 동구 안심도서관</td>\n",
       "      <td>대구광역시 동구 금호강변로 360(율하동 1627번지)</td>\n",
       "      <td>대구광역시 동구 금호강변로 360</td>\n",
       "      <td>2616</td>\n",
       "      <td>152</td>\n",
       "      <td>2469.00</td>\n",
       "      <td>2</td>\n",
       "    </tr>\n",
       "    <tr>\n",
       "      <th>444</th>\n",
       "      <td>경기도</td>\n",
       "      <td>시흥시군자도서관</td>\n",
       "      <td>시흥시 군자도서관</td>\n",
       "      <td>경기도 시흥시 군자로 499 거모동군자로 499</td>\n",
       "      <td>경기도 시흥시 군자로 499</td>\n",
       "      <td>1639</td>\n",
       "      <td>59</td>\n",
       "      <td>1499.00</td>\n",
       "      <td>1</td>\n",
       "    </tr>\n",
       "    <tr>\n",
       "      <th>445</th>\n",
       "      <td>서울특별시</td>\n",
       "      <td>도봉아이나라도서관</td>\n",
       "      <td>도봉아이나라도서관</td>\n",
       "      <td>서울특별시 도봉구 노해로69길 151 (창동)서울특별시 도봉구 창동 808-1 도봉...</td>\n",
       "      <td>서울특별시 도봉구 노해로69길 151</td>\n",
       "      <td>1601</td>\n",
       "      <td>23</td>\n",
       "      <td>1497.59</td>\n",
       "      <td>1</td>\n",
       "    </tr>\n",
       "    <tr>\n",
       "      <th>446</th>\n",
       "      <td>경기도</td>\n",
       "      <td>경기평택교육도서관</td>\n",
       "      <td>경기평택교육도서관</td>\n",
       "      <td>경기도 평택시 서정북로 125번길 103 (서정동 770번지)서정북로 125번길 1...</td>\n",
       "      <td>경기도 평택시 서정북로125번길 103</td>\n",
       "      <td>6628</td>\n",
       "      <td>113</td>\n",
       "      <td>1497.00</td>\n",
       "      <td>1</td>\n",
       "    </tr>\n",
       "  </tbody>\n",
       "</table>\n",
       "</div>"
      ],
      "text/plain": [
       "       주소1            도서관명           정보나루_도서관명  \\\n",
       "0    대전광역시      대전광역시한밭도서관               한밭도서관   \n",
       "1    광주광역시      광주학생교육문화회관          광주학생교육문화회관   \n",
       "2    울산광역시           울산도서관               울산도서관   \n",
       "101    경기도       남양주시오남도서관          남양주시 오남도서관   \n",
       "102  서울특별시   서울특별시교육청고척도서관               고척도서관   \n",
       "103    경기도       부천시립상동도서관           부천시립상동도서관   \n",
       "216  대구광역시     대구광역시립두류도서관         대구광역시립두류도서관   \n",
       "217   경상남도         김해지혜의바다  경상남도교육청 김해지혜의바다도서관   \n",
       "218   충청남도  충청남도교육청학생교육문화원     충청남도교육청 학생교육문화원   \n",
       "306    경기도       가평군립청평도서관           가평군 청평도서관   \n",
       "307   충청북도         청주흥덕도서관             청주흥덕도서관   \n",
       "308  대구광역시      동구구립 안심도서관         대구 동구 안심도서관   \n",
       "444    경기도        시흥시군자도서관           시흥시 군자도서관   \n",
       "445  서울특별시       도봉아이나라도서관           도봉아이나라도서관   \n",
       "446    경기도       경기평택교육도서관           경기평택교육도서관   \n",
       "\n",
       "                                                    주소  \\\n",
       "0                             대전광역시 중구 서문로 10 문화동한밭도서관   \n",
       "1                   광주광역시 서구 상무민주로 61 쌍촌동61 광주학생교육문화회관   \n",
       "2                          울산광역시 남구 꽃대나리로 140 여천동울산도서관   \n",
       "101                      경기도 남양주시 오남읍 양지로240번길 12오남도서관   \n",
       "102          서울특별시 구로구 고척로45길 31 (고척동)고척로45길 31  (고척동)   \n",
       "103                   경기도 부천시 상이로 12 (상동)상이로 12(상동도서관)   \n",
       "216                       대구광역시 달서구 공원순환로 8 두류동8 두류도서관   \n",
       "217                    경상남도 김해시 주촌면 서부로1541번길 8김해지혜의바다   \n",
       "218            충청남도 천안시 동남구 옛농고1길 41 원성동충청남도교육청학생교육문화원   \n",
       "306                              경기도 가평군 청평면 은고개로 3131   \n",
       "307              충청북도 청주시 흥덕구 증안로90번길 34 복대동34 청주흥덕도서관   \n",
       "308                     대구광역시 동구 금호강변로 360(율하동 1627번지)   \n",
       "444                         경기도 시흥시 군자로 499 거모동군자로 499   \n",
       "445  서울특별시 도봉구 노해로69길 151 (창동)서울특별시 도봉구 창동 808-1 도봉...   \n",
       "446  경기도 평택시 서정북로 125번길 103 (서정동 770번지)서정북로 125번길 1...   \n",
       "\n",
       "                      정보나루_주소  비도서(점)  연간증가 비도서(점)      건물면적  규모  \n",
       "0             대전광역시 중구 서문로 10   62628          587  22485.39   5  \n",
       "1           광주광역시 서구 상무민주로 61    4312          251  18350.13   5  \n",
       "2          울산광역시 남구 꽃대나리로 140    4072          393  15176.65   5  \n",
       "101  경기도 남양주시 오남읍 양지로240번길 12    2877          290   5454.00   4  \n",
       "102       서울특별시 구로구 고척로45길 31   11423          595   5437.66   4  \n",
       "103            경기도 부천시 상이로 12    4723           41   5426.00   4  \n",
       "216         대구광역시 달서구 공원순환로 8    6145          140   3461.00   3  \n",
       "217  경상남도 김해시 주촌면 서부로1541번길 8       0            0   3449.19   3  \n",
       "218     충청남도 천안시 동남구 옛농고1길 41    3419          305   3421.00   3  \n",
       "306       경기도 가평군 청평면 은고개로 31    1545           17   2485.23   2  \n",
       "307   충청북도 청주시 흥덕구 증안로90번길 34     573            0   2480.00   2  \n",
       "308        대구광역시 동구 금호강변로 360    2616          152   2469.00   2  \n",
       "444           경기도 시흥시 군자로 499    1639           59   1499.00   1  \n",
       "445      서울특별시 도봉구 노해로69길 151    1601           23   1497.59   1  \n",
       "446     경기도 평택시 서정북로125번길 103    6628          113   1497.00   1  "
      ]
     },
     "execution_count": 75,
     "metadata": {},
     "output_type": "execute_result"
    }
   ],
   "source": [
    "# 규모별 건물 면적 순으로 상위 3개 행 선택하기 \n",
    "df_sort_group_top3 = df.sort_values(by=\"건물면적\",ascending=False).groupby(\"규모\").head(3)\n",
    "df_sort_group_top3.head(50)"
   ]
  },
  {
   "cell_type": "code",
   "execution_count": 78,
   "id": "c6cb1415",
   "metadata": {},
   "outputs": [
    {
     "data": {
      "text/plain": [
       "['한밭도서관',\n",
       " '광주학생교육문화회관',\n",
       " '울산도서관',\n",
       " '남양주시 오남도서관',\n",
       " '고척도서관',\n",
       " '부천시립상동도서관',\n",
       " '대구광역시립두류도서관',\n",
       " '경상남도교육청 김해지혜의바다도서관',\n",
       " '충청남도교육청 학생교육문화원',\n",
       " '가평군 청평도서관',\n",
       " '청주흥덕도서관',\n",
       " '대구 동구 안심도서관',\n",
       " '시흥시 군자도서관',\n",
       " '도봉아이나라도서관',\n",
       " '경기평택교육도서관']"
      ]
     },
     "execution_count": 78,
     "metadata": {},
     "output_type": "execute_result"
    }
   ],
   "source": [
    "lib_list = df_sort_group_top3['정보나루_도서관명']\n",
    "lib_list= lib_list.tolist()\n",
    "lib_list"
   ]
  },
  {
   "cell_type": "code",
   "execution_count": 79,
   "id": "73333839",
   "metadata": {},
   "outputs": [
    {
     "data": {
      "text/plain": [
       "15"
      ]
     },
     "execution_count": 79,
     "metadata": {},
     "output_type": "execute_result"
    }
   ],
   "source": [
    "len(lib_list)"
   ]
  },
  {
   "cell_type": "markdown",
   "id": "cec1ceb0",
   "metadata": {},
   "source": [
    "## 1-2"
   ]
  },
  {
   "cell_type": "code",
   "execution_count": 82,
   "id": "06deeb19",
   "metadata": {},
   "outputs": [],
   "source": [
    "import selenium\n",
    "from selenium import webdriver\n",
    "\n",
    "options = webdriver.ChromeOptions()\n",
    "options.binary_location = 'C:/Program Files/Google/Chrome/Application/chrome.exe'\n",
    "\n",
    "browser = webdriver.Chrome('chromedriver.exe', options = options)"
   ]
  },
  {
   "cell_type": "code",
   "execution_count": 83,
   "id": "677605ac",
   "metadata": {},
   "outputs": [],
   "source": [
    "URL = \"https://www.data4library.kr/openDataL\"\n",
    "\n",
    "driver = webdriver.Chrome(executable_path='chromedriver')\n",
    "driver.get(url=URL)"
   ]
  },
  {
   "cell_type": "code",
   "execution_count": 32,
   "id": "e20a4cf0",
   "metadata": {},
   "outputs": [],
   "source": [
    "# 검색 창에 도서관명 입력\n",
    "search_box = driver.find_element_by_xpath('//*[@id=\"srchText\"]')\n",
    "search_box.send_keys('한밭도서관')"
   ]
  },
  {
   "cell_type": "code",
   "execution_count": 35,
   "id": "4af39d19",
   "metadata": {
    "scrolled": true
   },
   "outputs": [],
   "source": [
    "# 검색 버튼 클릭\n",
    "search_btn = driver.find_element_by_xpath('//*[@id=\"pagef\"]/div[3]/div[2]/div/a')\n",
    "search_btn.click()"
   ]
  },
  {
   "cell_type": "code",
   "execution_count": 40,
   "id": "48bf97e8",
   "metadata": {},
   "outputs": [],
   "source": [
    "# 첫번째 도서관 클릭\n",
    "driver.find_element_by_xpath('//*[@id=\"pagef\"]/div[4]/table/tbody/tr/td[1]/a').click()"
   ]
  },
  {
   "cell_type": "code",
   "execution_count": 41,
   "id": "ee124ba4",
   "metadata": {},
   "outputs": [],
   "source": [
    "# 첫번째 엑셀 파일 클릭\n",
    "driver.find_element_by_xpath('//*[@id=\"sb-site\"]/section/div[5]/div[3]/table/tbody/tr[1]/td[4]/a[2]').click()"
   ]
  },
  {
   "cell_type": "code",
   "execution_count": null,
   "id": "587bde06",
   "metadata": {},
   "outputs": [],
   "source": []
  },
  {
   "cell_type": "markdown",
   "id": "8cae3246",
   "metadata": {},
   "source": [
    "# 다운 받은 데이터 정리\n",
    "\n",
    "- 기간 : 2019.01 ~  2021.10 까지만\n",
    "- 월별로 합계 내기 \n",
    "- 한 파일에 저장 "
   ]
  },
  {
   "cell_type": "code",
   "execution_count": null,
   "id": "f72120f3",
   "metadata": {},
   "outputs": [],
   "source": []
  },
  {
   "cell_type": "code",
   "execution_count": null,
   "id": "2a1126c8",
   "metadata": {},
   "outputs": [],
   "source": []
  },
  {
   "cell_type": "code",
   "execution_count": null,
   "id": "1bc48413",
   "metadata": {},
   "outputs": [],
   "source": []
  },
  {
   "cell_type": "code",
   "execution_count": 15,
   "id": "737b10f7",
   "metadata": {},
   "outputs": [],
   "source": [
    "lib_code_list = []"
   ]
  },
  {
   "cell_type": "code",
   "execution_count": 16,
   "id": "b845a6e7",
   "metadata": {},
   "outputs": [],
   "source": [
    "lib_code = driver.find_element_by_xpath('//*[@id=\"sb-site\"]/section/div[5]/div/table/tbody/tr[1]/td[2]')\n",
    "lib_code_list.append(lib_code.text)"
   ]
  },
  {
   "cell_type": "code",
   "execution_count": 17,
   "id": "72795100",
   "metadata": {},
   "outputs": [
    {
     "data": {
      "text/plain": [
       "['125003']"
      ]
     },
     "execution_count": 17,
     "metadata": {},
     "output_type": "execute_result"
    }
   ],
   "source": [
    "lib_code_list"
   ]
  },
  {
   "cell_type": "code",
   "execution_count": null,
   "id": "9aa362f7",
   "metadata": {},
   "outputs": [],
   "source": []
  },
  {
   "cell_type": "code",
   "execution_count": null,
   "id": "75c296ab",
   "metadata": {},
   "outputs": [],
   "source": [
    "# 도서관 API \n",
    "\n",
    "- 도서관 정보나루\n",
    "- https://www.data4library.kr/apiUtilization\n",
    "\n",
    "- 도서관별 통합정보 -> 도서관별 장서/대출 데이터 조회\n",
    "\n",
    "- 도서관정보나루_API_Manual.hwp 를 참고하여 작성\n",
    "\n",
    "- 도서관명 / "
   ]
  },
  {
   "cell_type": "code",
   "execution_count": 27,
   "id": "f8421929",
   "metadata": {},
   "outputs": [
    {
     "data": {
      "text/plain": [
       "'http://data4library.kr/api/itemSrch?libCode=125003&authKey=9e70f846d07f0a8577bf0eec924305c22cec843db920f6ed5c3c0ca4cc871b03&startDt=2019-01-01&endDt=2021-10-31&pageNo=1&pageSize=1000'"
      ]
     },
     "execution_count": 27,
     "metadata": {},
     "output_type": "execute_result"
    }
   ],
   "source": [
    "import urllib.request\n",
    "import json\n",
    "import pandas as pd\n",
    "from datetime import datetime,timedelta\n",
    "import requests\n",
    "import xmltodict\n",
    "\n",
    "\n",
    "key = '9e70f846d07f0a8577bf0eec924305c22cec843db920f6ed5c3c0ca4cc871b03'\n",
    "startDt = '2019-01-01'\n",
    "endDt = '2021-10-31'\n",
    "\n",
    "libCode = lib_code_list[0]\n",
    "\n",
    "# Call Back URL + 인증키 + 날짜\n",
    "\n",
    "url = 'http://data4library.kr/api/itemSrch?libCode=' + libCode + '&authKey=' + key + '&startDt=' + startDt + '&endDt=' + endDt + '&pageNo=1&pageSize=1000'\n",
    "\n",
    "url"
   ]
  },
  {
   "cell_type": "code",
   "execution_count": 28,
   "id": "32e562cc",
   "metadata": {
    "scrolled": true
   },
   "outputs": [
    {
     "ename": "ExpatError",
     "evalue": "mismatched tag: line 6, column 2",
     "output_type": "error",
     "traceback": [
      "\u001b[1;31m---------------------------------------------------------------------------\u001b[0m",
      "\u001b[1;31mExpatError\u001b[0m                                Traceback (most recent call last)",
      "\u001b[1;32m<ipython-input-28-9a1a97e82d20>\u001b[0m in \u001b[0;36m<module>\u001b[1;34m\u001b[0m\n\u001b[0;32m      1\u001b[0m \u001b[0mreq\u001b[0m \u001b[1;33m=\u001b[0m \u001b[0mrequests\u001b[0m\u001b[1;33m.\u001b[0m\u001b[0mget\u001b[0m\u001b[1;33m(\u001b[0m\u001b[0murl\u001b[0m\u001b[1;33m)\u001b[0m\u001b[1;33m.\u001b[0m\u001b[0mcontent\u001b[0m\u001b[1;33m\u001b[0m\u001b[1;33m\u001b[0m\u001b[0m\n\u001b[0;32m      2\u001b[0m \u001b[1;33m\u001b[0m\u001b[0m\n\u001b[1;32m----> 3\u001b[1;33m \u001b[0mxmlObject\u001b[0m \u001b[1;33m=\u001b[0m \u001b[0mxmltodict\u001b[0m\u001b[1;33m.\u001b[0m\u001b[0mparse\u001b[0m\u001b[1;33m(\u001b[0m\u001b[0mreq\u001b[0m\u001b[1;33m)\u001b[0m\u001b[1;33m\u001b[0m\u001b[1;33m\u001b[0m\u001b[0m\n\u001b[0m\u001b[0;32m      4\u001b[0m \u001b[0mxmlObject\u001b[0m\u001b[1;33m\u001b[0m\u001b[1;33m\u001b[0m\u001b[0m\n",
      "\u001b[1;32m~\\anaconda3\\lib\\site-packages\\xmltodict.py\u001b[0m in \u001b[0;36mparse\u001b[1;34m(xml_input, encoding, expat, process_namespaces, namespace_separator, disable_entities, **kwargs)\u001b[0m\n\u001b[0;32m    325\u001b[0m         \u001b[0mparser\u001b[0m\u001b[1;33m.\u001b[0m\u001b[0mParseFile\u001b[0m\u001b[1;33m(\u001b[0m\u001b[0mxml_input\u001b[0m\u001b[1;33m)\u001b[0m\u001b[1;33m\u001b[0m\u001b[1;33m\u001b[0m\u001b[0m\n\u001b[0;32m    326\u001b[0m     \u001b[1;32melse\u001b[0m\u001b[1;33m:\u001b[0m\u001b[1;33m\u001b[0m\u001b[1;33m\u001b[0m\u001b[0m\n\u001b[1;32m--> 327\u001b[1;33m         \u001b[0mparser\u001b[0m\u001b[1;33m.\u001b[0m\u001b[0mParse\u001b[0m\u001b[1;33m(\u001b[0m\u001b[0mxml_input\u001b[0m\u001b[1;33m,\u001b[0m \u001b[1;32mTrue\u001b[0m\u001b[1;33m)\u001b[0m\u001b[1;33m\u001b[0m\u001b[1;33m\u001b[0m\u001b[0m\n\u001b[0m\u001b[0;32m    328\u001b[0m     \u001b[1;32mreturn\u001b[0m \u001b[0mhandler\u001b[0m\u001b[1;33m.\u001b[0m\u001b[0mitem\u001b[0m\u001b[1;33m\u001b[0m\u001b[1;33m\u001b[0m\u001b[0m\n\u001b[0;32m    329\u001b[0m \u001b[1;33m\u001b[0m\u001b[0m\n",
      "\u001b[1;31mExpatError\u001b[0m: mismatched tag: line 6, column 2"
     ]
    }
   ],
   "source": [
    "req = requests.get(url).content\n",
    "\n",
    "xmlObject = xmltodict.parse(req)\n",
    "xmlObject"
   ]
  },
  {
   "cell_type": "code",
   "execution_count": 22,
   "id": "9dda7d9c",
   "metadata": {},
   "outputs": [
    {
     "data": {
      "text/plain": [
       "10"
      ]
     },
     "execution_count": 22,
     "metadata": {},
     "output_type": "execute_result"
    }
   ],
   "source": [
    "len(xmlObject['response']['docs']['doc'])"
   ]
  },
  {
   "cell_type": "code",
   "execution_count": 6,
   "id": "d3dbd8d5",
   "metadata": {},
   "outputs": [],
   "source": [
    "# dict_data = xmlObject['response']['libs']['lib'][0]['loanByhours']['result']\n",
    "dict_data = xmlObject['response']['docs']['doc'][0]\n",
    "\n",
    "df_conf = pd.DataFrame(dict_data)"
   ]
  },
  {
   "cell_type": "code",
   "execution_count": 7,
   "id": "e4ae68f4",
   "metadata": {
    "scrolled": false
   },
   "outputs": [
    {
     "data": {
      "text/html": [
       "<div>\n",
       "<style scoped>\n",
       "    .dataframe tbody tr th:only-of-type {\n",
       "        vertical-align: middle;\n",
       "    }\n",
       "\n",
       "    .dataframe tbody tr th {\n",
       "        vertical-align: top;\n",
       "    }\n",
       "\n",
       "    .dataframe thead th {\n",
       "        text-align: right;\n",
       "    }\n",
       "</style>\n",
       "<table border=\"1\" class=\"dataframe\">\n",
       "  <thead>\n",
       "    <tr style=\"text-align: right;\">\n",
       "      <th></th>\n",
       "      <th>bookname</th>\n",
       "      <th>authors</th>\n",
       "      <th>publisher</th>\n",
       "      <th>publication_year</th>\n",
       "      <th>isbn13</th>\n",
       "      <th>set_isbn13</th>\n",
       "      <th>bookImageURL</th>\n",
       "      <th>addition_symbol</th>\n",
       "      <th>vol</th>\n",
       "      <th>class_no</th>\n",
       "      <th>class_nm</th>\n",
       "      <th>callNumbers</th>\n",
       "      <th>reg_date</th>\n",
       "    </tr>\n",
       "  </thead>\n",
       "  <tbody>\n",
       "    <tr>\n",
       "      <th>callNumber</th>\n",
       "      <td>산다는 건 뭘까?</td>\n",
       "      <td>채인선</td>\n",
       "      <td>미세기</td>\n",
       "      <td>2021</td>\n",
       "      <td>9788980715121</td>\n",
       "      <td>None</td>\n",
       "      <td>https://image.aladin.co.kr/product/27858/76/co...</td>\n",
       "      <td>None</td>\n",
       "      <td>None</td>\n",
       "      <td>126.5</td>\n",
       "      <td>철학 &gt; 인식론, 인과론, 인간학 &gt;</td>\n",
       "      <td>{'separate_shelf_code': '아', 'separate_shelf_n...</td>\n",
       "      <td>2021-10-27</td>\n",
       "    </tr>\n",
       "  </tbody>\n",
       "</table>\n",
       "</div>"
      ],
      "text/plain": [
       "             bookname authors publisher publication_year         isbn13  \\\n",
       "callNumber  산다는 건 뭘까?     채인선       미세기             2021  9788980715121   \n",
       "\n",
       "           set_isbn13                                       bookImageURL  \\\n",
       "callNumber       None  https://image.aladin.co.kr/product/27858/76/co...   \n",
       "\n",
       "           addition_symbol   vol class_no              class_nm  \\\n",
       "callNumber            None  None    126.5  철학 > 인식론, 인과론, 인간학 >   \n",
       "\n",
       "                                                  callNumbers    reg_date  \n",
       "callNumber  {'separate_shelf_code': '아', 'separate_shelf_n...  2021-10-27  "
      ]
     },
     "execution_count": 7,
     "metadata": {},
     "output_type": "execute_result"
    }
   ],
   "source": [
    "df_conf"
   ]
  }
 ],
 "metadata": {
  "kernelspec": {
   "display_name": "Python 3",
   "language": "python",
   "name": "python3"
  },
  "language_info": {
   "codemirror_mode": {
    "name": "ipython",
    "version": 3
   },
   "file_extension": ".py",
   "mimetype": "text/x-python",
   "name": "python",
   "nbconvert_exporter": "python",
   "pygments_lexer": "ipython3",
   "version": "3.8.8"
  }
 },
 "nbformat": 4,
 "nbformat_minor": 5
}
