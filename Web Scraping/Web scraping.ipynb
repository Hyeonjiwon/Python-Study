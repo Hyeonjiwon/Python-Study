{
 "cells": [
  {
   "cell_type": "markdown",
   "id": "a8590c54",
   "metadata": {},
   "source": [
    "# Python Scraping\n",
    "\n",
    "- 도서관 정보나루 \n",
    "- 웹 스크래핑을 통해 원하는 도서관의 대출 데이터를 다운로드 하기\n",
    "\n",
    "- https://dsc-sookmyung.tistory.com/85\n"
   ]
  },
  {
   "cell_type": "code",
   "execution_count": 11,
   "id": "e1872fc6",
   "metadata": {},
   "outputs": [],
   "source": [
    "import requests\n",
    "from bs4 import BeautifulSoup\n",
    "\n",
    "url = \"https://www.data4library.kr/openDataL\"\n",
    "response = requests.get(url, verify = False) # SSLError"
   ]
  },
  {
   "cell_type": "code",
   "execution_count": 12,
   "id": "8e893005",
   "metadata": {},
   "outputs": [],
   "source": [
    "# 로그 메시지 숨기기\n",
    "from requests.packages.urllib3.exceptions import InsecureRequestWarning\n",
    "requests.packages.urllib3.disable_warnings(InsecureRequestWarning)"
   ]
  },
  {
   "cell_type": "code",
   "execution_count": 13,
   "id": "22222999",
   "metadata": {},
   "outputs": [],
   "source": [
    "# SSLError \n",
    "# https://blog.naver.com/PostView.nhn?blogId=dsz08082&logNo=222093530720&parentCategoryNo=&categoryNo=55&viewDate=&isShowPopularPosts=true&from=search"
   ]
  },
  {
   "cell_type": "code",
   "execution_count": 14,
   "id": "99695b2c",
   "metadata": {},
   "outputs": [],
   "source": [
    "html = response.text"
   ]
  },
  {
   "cell_type": "code",
   "execution_count": 17,
   "id": "30c88f4e",
   "metadata": {},
   "outputs": [],
   "source": [
    "soup = BeautifulSoup(html, 'html.parser')"
   ]
  },
  {
   "cell_type": "code",
   "execution_count": 18,
   "id": "dbb3bc54",
   "metadata": {},
   "outputs": [
    {
     "data": {
      "text/plain": [
       "[<input id=\"srchText\" name=\"srchText\" placeholder=\"Search\" title=\"검색\" type=\"text\" value=\"\"/>]"
      ]
     },
     "execution_count": 18,
     "metadata": {},
     "output_type": "execute_result"
    }
   ],
   "source": [
    "# CSS 셀렉터 : id 셀렉터로 검색 칸 select\n",
    "tags = soup.select(\"#srchText\") \n",
    "tags"
   ]
  },
  {
   "cell_type": "code",
   "execution_count": 19,
   "id": "c1ac8f4b",
   "metadata": {},
   "outputs": [
    {
     "data": {
      "text/plain": [
       "''"
      ]
     },
     "execution_count": 19,
     "metadata": {},
     "output_type": "execute_result"
    }
   ],
   "source": [
    "tag= tags[0]\n",
    "tag.text"
   ]
  },
  {
   "cell_type": "code",
   "execution_count": 20,
   "id": "31496fc1",
   "metadata": {},
   "outputs": [],
   "source": [
    "# 다중 셀렉터로 text select \n",
    "tags = soup.select(\".link_td a \") \n",
    "# text에서 도서관명만 추출\n",
    "lib_name = tags[0].text.split(' ')[0] \n",
    "\n",
    "# 특수문자 제거\n",
    "# lib_name = ''.join(filter(str.isalnum, tags[0].text))"
   ]
  },
  {
   "cell_type": "markdown",
   "id": "66455ad3",
   "metadata": {},
   "source": [
    "# Python Selenium \n",
    "\n",
    "- https://sites.google.com/a/chromium.org/chromedriver/downloads \n",
    "\n",
    "1. \n",
    "- https://www.data4library.kr/openDataL\n",
    "- ~~검색 입력 칸 클릭 > 검색 도서관명 입력 > 검색 버튼 클릭~~\n",
    "- ~~검색 결과 첫번째 도서관 클릭 > 첫번째 엑셀버튼 클릭~~\n",
    "\n",
    "2.\n",
    "- https://www.data4library.kr/libDataL 참여도서관 목록 \n",
    "- 검색 입력 칸 클릭 > 검색 도서관명 입력 > 검색 버튼 클릭 \n",
    "- 검색 결과 첫번째 도서관 클릭 > 도서관 코드 크롤링 \n",
    "- 도서관명 + 도서관 코드 저장"
   ]
  },
  {
   "cell_type": "code",
   "execution_count": 23,
   "id": "a3bfd0b6",
   "metadata": {},
   "outputs": [
    {
     "name": "stdout",
     "output_type": "stream",
     "text": [
      "/Users/hyeonjiwon/Documents/Study/Python-Study/Web Scraping\n"
     ]
    }
   ],
   "source": [
    "import os\n",
    "print(os.getcwd())"
   ]
  },
  {
   "cell_type": "code",
   "execution_count": 48,
   "id": "93e2879d",
   "metadata": {},
   "outputs": [
    {
     "ename": "WebDriverException",
     "evalue": "Message: 'Web Scraping' executable may have wrong permissions. Please see https://sites.google.com/a/chromium.org/chromedriver/home\n",
     "output_type": "error",
     "traceback": [
      "\u001b[0;31m---------------------------------------------------------------------------\u001b[0m",
      "\u001b[0;31mPermissionError\u001b[0m                           Traceback (most recent call last)",
      "\u001b[0;32m~/opt/anaconda3/envs/notebook/lib/python3.8/site-packages/selenium/webdriver/common/service.py\u001b[0m in \u001b[0;36mstart\u001b[0;34m(self)\u001b[0m\n\u001b[1;32m     71\u001b[0m             \u001b[0mcmd\u001b[0m\u001b[0;34m.\u001b[0m\u001b[0mextend\u001b[0m\u001b[0;34m(\u001b[0m\u001b[0mself\u001b[0m\u001b[0;34m.\u001b[0m\u001b[0mcommand_line_args\u001b[0m\u001b[0;34m(\u001b[0m\u001b[0;34m)\u001b[0m\u001b[0;34m)\u001b[0m\u001b[0;34m\u001b[0m\u001b[0;34m\u001b[0m\u001b[0m\n\u001b[0;32m---> 72\u001b[0;31m             self.process = subprocess.Popen(cmd, env=self.env,\n\u001b[0m\u001b[1;32m     73\u001b[0m                                             \u001b[0mclose_fds\u001b[0m\u001b[0;34m=\u001b[0m\u001b[0mplatform\u001b[0m\u001b[0;34m.\u001b[0m\u001b[0msystem\u001b[0m\u001b[0;34m(\u001b[0m\u001b[0;34m)\u001b[0m \u001b[0;34m!=\u001b[0m \u001b[0;34m'Windows'\u001b[0m\u001b[0;34m,\u001b[0m\u001b[0;34m\u001b[0m\u001b[0;34m\u001b[0m\u001b[0m\n",
      "\u001b[0;32m~/opt/anaconda3/envs/notebook/lib/python3.8/subprocess.py\u001b[0m in \u001b[0;36m__init__\u001b[0;34m(self, args, bufsize, executable, stdin, stdout, stderr, preexec_fn, close_fds, shell, cwd, env, universal_newlines, startupinfo, creationflags, restore_signals, start_new_session, pass_fds, encoding, errors, text)\u001b[0m\n\u001b[1;32m    857\u001b[0m \u001b[0;34m\u001b[0m\u001b[0m\n\u001b[0;32m--> 858\u001b[0;31m             self._execute_child(args, executable, preexec_fn, close_fds,\n\u001b[0m\u001b[1;32m    859\u001b[0m                                 \u001b[0mpass_fds\u001b[0m\u001b[0;34m,\u001b[0m \u001b[0mcwd\u001b[0m\u001b[0;34m,\u001b[0m \u001b[0menv\u001b[0m\u001b[0;34m,\u001b[0m\u001b[0;34m\u001b[0m\u001b[0;34m\u001b[0m\u001b[0m\n",
      "\u001b[0;32m~/opt/anaconda3/envs/notebook/lib/python3.8/subprocess.py\u001b[0m in \u001b[0;36m_execute_child\u001b[0;34m(self, args, executable, preexec_fn, close_fds, pass_fds, cwd, env, startupinfo, creationflags, shell, p2cread, p2cwrite, c2pread, c2pwrite, errread, errwrite, restore_signals, start_new_session)\u001b[0m\n\u001b[1;32m   1703\u001b[0m                         \u001b[0merr_msg\u001b[0m \u001b[0;34m=\u001b[0m \u001b[0mos\u001b[0m\u001b[0;34m.\u001b[0m\u001b[0mstrerror\u001b[0m\u001b[0;34m(\u001b[0m\u001b[0merrno_num\u001b[0m\u001b[0;34m)\u001b[0m\u001b[0;34m\u001b[0m\u001b[0;34m\u001b[0m\u001b[0m\n\u001b[0;32m-> 1704\u001b[0;31m                     \u001b[0;32mraise\u001b[0m \u001b[0mchild_exception_type\u001b[0m\u001b[0;34m(\u001b[0m\u001b[0merrno_num\u001b[0m\u001b[0;34m,\u001b[0m \u001b[0merr_msg\u001b[0m\u001b[0;34m,\u001b[0m \u001b[0merr_filename\u001b[0m\u001b[0;34m)\u001b[0m\u001b[0;34m\u001b[0m\u001b[0;34m\u001b[0m\u001b[0m\n\u001b[0m\u001b[1;32m   1705\u001b[0m                 \u001b[0;32mraise\u001b[0m \u001b[0mchild_exception_type\u001b[0m\u001b[0;34m(\u001b[0m\u001b[0merr_msg\u001b[0m\u001b[0;34m)\u001b[0m\u001b[0;34m\u001b[0m\u001b[0;34m\u001b[0m\u001b[0m\n",
      "\u001b[0;31mPermissionError\u001b[0m: [Errno 13] Permission denied: '/Users/hyeonjiwon/Documents/Study/Python-Study/Web Scraping'",
      "\nDuring handling of the above exception, another exception occurred:\n",
      "\u001b[0;31mWebDriverException\u001b[0m                        Traceback (most recent call last)",
      "\u001b[0;32m<ipython-input-48-4415cfb63c83>\u001b[0m in \u001b[0;36m<module>\u001b[0;34m\u001b[0m\n\u001b[1;32m      7\u001b[0m \u001b[0;31m# browser = webdriver.Chrome('chromedriver.exe', options = options)\u001b[0m\u001b[0;34m\u001b[0m\u001b[0;34m\u001b[0m\u001b[0;34m\u001b[0m\u001b[0m\n\u001b[1;32m      8\u001b[0m \u001b[0;34m\u001b[0m\u001b[0m\n\u001b[0;32m----> 9\u001b[0;31m \u001b[0mdriver\u001b[0m \u001b[0;34m=\u001b[0m \u001b[0mwebdriver\u001b[0m\u001b[0;34m.\u001b[0m\u001b[0mChrome\u001b[0m\u001b[0;34m(\u001b[0m\u001b[0;34mr\"/Users/hyeonjiwon/Documents/Study/Python-Study/Web Scraping\"\u001b[0m\u001b[0;34m)\u001b[0m\u001b[0;34m\u001b[0m\u001b[0;34m\u001b[0m\u001b[0m\n\u001b[0m\u001b[1;32m     10\u001b[0m \u001b[0mdriver\u001b[0m\u001b[0;34m.\u001b[0m\u001b[0mimplicitly_wait\u001b[0m\u001b[0;34m(\u001b[0m\u001b[0;36m2\u001b[0m\u001b[0;34m)\u001b[0m\u001b[0;34m\u001b[0m\u001b[0;34m\u001b[0m\u001b[0m\n\u001b[1;32m     11\u001b[0m \u001b[0mdriver\u001b[0m\u001b[0;34m.\u001b[0m\u001b[0mget\u001b[0m\u001b[0;34m(\u001b[0m\u001b[0;34m'https://www.daum.net/'\u001b[0m\u001b[0;34m)\u001b[0m\u001b[0;34m\u001b[0m\u001b[0;34m\u001b[0m\u001b[0m\n",
      "\u001b[0;32m~/opt/anaconda3/envs/notebook/lib/python3.8/site-packages/selenium/webdriver/chrome/webdriver.py\u001b[0m in \u001b[0;36m__init__\u001b[0;34m(self, executable_path, port, options, service_args, desired_capabilities, service_log_path, chrome_options, keep_alive)\u001b[0m\n\u001b[1;32m     71\u001b[0m             \u001b[0mservice_args\u001b[0m\u001b[0;34m=\u001b[0m\u001b[0mservice_args\u001b[0m\u001b[0;34m,\u001b[0m\u001b[0;34m\u001b[0m\u001b[0;34m\u001b[0m\u001b[0m\n\u001b[1;32m     72\u001b[0m             log_path=service_log_path)\n\u001b[0;32m---> 73\u001b[0;31m         \u001b[0mself\u001b[0m\u001b[0;34m.\u001b[0m\u001b[0mservice\u001b[0m\u001b[0;34m.\u001b[0m\u001b[0mstart\u001b[0m\u001b[0;34m(\u001b[0m\u001b[0;34m)\u001b[0m\u001b[0;34m\u001b[0m\u001b[0;34m\u001b[0m\u001b[0m\n\u001b[0m\u001b[1;32m     74\u001b[0m \u001b[0;34m\u001b[0m\u001b[0m\n\u001b[1;32m     75\u001b[0m         \u001b[0;32mtry\u001b[0m\u001b[0;34m:\u001b[0m\u001b[0;34m\u001b[0m\u001b[0;34m\u001b[0m\u001b[0m\n",
      "\u001b[0;32m~/opt/anaconda3/envs/notebook/lib/python3.8/site-packages/selenium/webdriver/common/service.py\u001b[0m in \u001b[0;36mstart\u001b[0;34m(self)\u001b[0m\n\u001b[1;32m     84\u001b[0m                 )\n\u001b[1;32m     85\u001b[0m             \u001b[0;32melif\u001b[0m \u001b[0merr\u001b[0m\u001b[0;34m.\u001b[0m\u001b[0merrno\u001b[0m \u001b[0;34m==\u001b[0m \u001b[0merrno\u001b[0m\u001b[0;34m.\u001b[0m\u001b[0mEACCES\u001b[0m\u001b[0;34m:\u001b[0m\u001b[0;34m\u001b[0m\u001b[0;34m\u001b[0m\u001b[0m\n\u001b[0;32m---> 86\u001b[0;31m                 raise WebDriverException(\n\u001b[0m\u001b[1;32m     87\u001b[0m                     \"'%s' executable may have wrong permissions. %s\" % (\n\u001b[1;32m     88\u001b[0m                         os.path.basename(self.path), self.start_error_message)\n",
      "\u001b[0;31mWebDriverException\u001b[0m: Message: 'Web Scraping' executable may have wrong permissions. Please see https://sites.google.com/a/chromium.org/chromedriver/home\n"
     ]
    }
   ],
   "source": [
    "import selenium\n",
    "from selenium import webdriver\n",
    "\n",
    "# options = webdriver.ChromeOptions()\n",
    "# options.binary_location = '/Library/Google/Chrome/chrome.exe'\n",
    "\n",
    "# browser = webdriver.Chrome('chromedriver.exe', options = options)\n",
    "\n",
    "driver = webdriver.Chrome(r\"/Users/hyeonjiwon/Documents/Study/Python-Study/Web Scraping\")\n",
    "driver.implicitly_wait(2)\n",
    "driver.get('https://www.daum.net/')\n",
    "\n",
    "# driver.get(url=URL);"
   ]
  },
  {
   "cell_type": "code",
   "execution_count": 72,
   "id": "772797bc",
   "metadata": {},
   "outputs": [],
   "source": [
    "URL = \"https://www.data4library.kr/libDataL\"\n",
    "\n",
    "driver = webdriver.Chrome(executable_path='chromedriver')\n",
    "driver.get(url=URL)"
   ]
  },
  {
   "cell_type": "code",
   "execution_count": 73,
   "id": "f72649de",
   "metadata": {},
   "outputs": [],
   "source": [
    "# 검색 창에 도서관명 입력\n",
    "search_box = driver.find_element_by_xpath('//*[@id=\"srchText\"]')\n",
    "search_box.send_keys('한밭도서관')"
   ]
  },
  {
   "cell_type": "code",
   "execution_count": 75,
   "id": "8c087904",
   "metadata": {},
   "outputs": [],
   "source": [
    "# 검색 버튼 클릭\n",
    "search_btn = driver.find_element_by_xpath('//*[@id=\"pagef\"]/div[3]/div[1]/div/a')\n",
    "search_btn.click()"
   ]
  },
  {
   "cell_type": "code",
   "execution_count": 77,
   "id": "0197f352",
   "metadata": {},
   "outputs": [],
   "source": [
    "# 첫번째 도서관 클릭\n",
    "driver.find_element_by_xpath('//*[@id=\"pagef\"]/div[4]/table/tbody/tr/td[2]/a').click()"
   ]
  },
  {
   "cell_type": "code",
   "execution_count": 82,
   "id": "59b3b1e0",
   "metadata": {},
   "outputs": [],
   "source": [
    "lib_code_list = []"
   ]
  },
  {
   "cell_type": "code",
   "execution_count": 84,
   "id": "a7c29c1f",
   "metadata": {},
   "outputs": [],
   "source": [
    "lib_code = driver.find_element_by_xpath('//*[@id=\"sb-site\"]/section/div[5]/div/table/tbody/tr[1]/td[2]')\n",
    "lib_code_list.append(lib_code.text)"
   ]
  },
  {
   "cell_type": "code",
   "execution_count": 85,
   "id": "b248b91e",
   "metadata": {},
   "outputs": [
    {
     "data": {
      "text/plain": [
       "['125003']"
      ]
     },
     "execution_count": 85,
     "metadata": {},
     "output_type": "execute_result"
    }
   ],
   "source": [
    "lib_code_list"
   ]
  },
  {
   "cell_type": "code",
   "execution_count": null,
   "id": "09fddec6",
   "metadata": {},
   "outputs": [],
   "source": []
  },
  {
   "cell_type": "code",
   "execution_count": null,
   "id": "845ad212",
   "metadata": {},
   "outputs": [],
   "source": [
    "# 도서관 API \n",
    "\n",
    "- 도서관 정보나루\n",
    "- https://www.data4library.kr/apiUtilization\n",
    "\n",
    "- 도서관별 통합정보 -> 도서관별 장서/대출 데이터 조회\n",
    "\n",
    "- 도서관정보나루_API_Manual.hwp 를 참고하여 작성\n",
    "\n",
    "- 도서관명 / "
   ]
  },
  {
   "cell_type": "code",
   "execution_count": 2,
   "id": "f8421929",
   "metadata": {},
   "outputs": [
    {
     "data": {
      "text/plain": [
       "'http://data4library.kr/api/itemSrch?libCode=125003&authKey=9e70f846d07f0a8577bf0eec924305c22cec843db920f6ed5c3c0ca4cc871b03&startDt=2019-01-01&endDt=2021-10-31&pageNo=1&pageSize=10'"
      ]
     },
     "execution_count": 2,
     "metadata": {},
     "output_type": "execute_result"
    }
   ],
   "source": [
    "import urllib.request\n",
    "import json\n",
    "import pandas as pd\n",
    "from datetime import datetime,timedelta\n",
    "import requests\n",
    "import xmltodict\n",
    "\n",
    "\n",
    "key = '9e70f846d07f0a8577bf0eec924305c22cec843db920f6ed5c3c0ca4cc871b03'\n",
    "startDt = '2019-01-01'\n",
    "endDt = '2021-10-31'\n",
    "\n",
    "libCode = '125003'\n",
    "\n",
    "# Call Back URL + 인증키 + 날짜\n",
    "\n",
    "url = 'http://data4library.kr/api/itemSrch?libCode=' + libCode + '&authKey=' + key + '&startDt=' + startDt + '&endDt=' + endDt + '&pageNo=1&pageSize=10'\n",
    "\n",
    "url"
   ]
  },
  {
   "cell_type": "code",
   "execution_count": 3,
   "id": "32e562cc",
   "metadata": {
    "scrolled": true
   },
   "outputs": [
    {
     "data": {
      "text/plain": [
       "OrderedDict([('response',\n",
       "              OrderedDict([('request',\n",
       "                            OrderedDict([('libCode', '125003'),\n",
       "                                         ('startDt', '2019-01-01'),\n",
       "                                         ('endDt', '2021-10-31'),\n",
       "                                         ('pageNo', '1'),\n",
       "                                         ('pageSize', '10')])),\n",
       "                           ('libNm', '한밭도서관'),\n",
       "                           ('pageNo', '1'),\n",
       "                           ('pageSize', '10'),\n",
       "                           ('numFound', '53767'),\n",
       "                           ('resultNum', '10'),\n",
       "                           ('docs',\n",
       "                            OrderedDict([('doc',\n",
       "                                          [OrderedDict([('bookname',\n",
       "                                                         '악마판사 : 오리지널 대본집 . 2'),\n",
       "                                                        ('authors', '문유석'),\n",
       "                                                        ('publisher', None),\n",
       "                                                        ('publication_year',\n",
       "                                                         '2021'),\n",
       "                                                        ('isbn13',\n",
       "                                                         '9788954681896'),\n",
       "                                                        ('set_isbn13', None),\n",
       "                                                        ('bookImageURL', None),\n",
       "                                                        ('addition_symbol',\n",
       "                                                         None),\n",
       "                                                        ('vol', '2'),\n",
       "                                                        ('class_no', '812.68'),\n",
       "                                                        ('class_nm',\n",
       "                                                         '문학 > 한국문학 > 희곡'),\n",
       "                                                        ('callNumbers',\n",
       "                                                         OrderedDict([('callNumber',\n",
       "                                                                       OrderedDict([('separate_shelf_code',\n",
       "                                                                                     None),\n",
       "                                                                                    ('separate_shelf_name',\n",
       "                                                                                     None),\n",
       "                                                                                    ('book_code',\n",
       "                                                                                     '문614ㅇ'),\n",
       "                                                                                    ('shelf_loc_code',\n",
       "                                                                                     '00000000'),\n",
       "                                                                                    ('shelf_loc_name',\n",
       "                                                                                     None),\n",
       "                                                                                    ('copy_code',\n",
       "                                                                                     None)]))])),\n",
       "                                                        ('reg_date',\n",
       "                                                         '2021-10-27')]),\n",
       "                                           OrderedDict([('bookname',\n",
       "                                                         '산다는 건 뭘까?'),\n",
       "                                                        ('authors', '채인선'),\n",
       "                                                        ('publisher', '미세기'),\n",
       "                                                        ('publication_year',\n",
       "                                                         '2021'),\n",
       "                                                        ('isbn13',\n",
       "                                                         '9788980715121'),\n",
       "                                                        ('set_isbn13', None),\n",
       "                                                        ('bookImageURL',\n",
       "                                                         'https://image.aladin.co.kr/product/27858/76/cover/8980715129_1.jpg'),\n",
       "                                                        ('addition_symbol',\n",
       "                                                         None),\n",
       "                                                        ('vol', None),\n",
       "                                                        ('class_no', '126.5'),\n",
       "                                                        ('class_nm',\n",
       "                                                         '철학 > 인식론, 인과론, 인간학 >'),\n",
       "                                                        ('callNumbers',\n",
       "                                                         OrderedDict([('callNumber',\n",
       "                                                                       OrderedDict([('separate_shelf_code',\n",
       "                                                                                     '아'),\n",
       "                                                                                    ('separate_shelf_name',\n",
       "                                                                                     '아'),\n",
       "                                                                                    ('book_code',\n",
       "                                                                                     '채343ㅅ'),\n",
       "                                                                                    ('shelf_loc_code',\n",
       "                                                                                     '00000000'),\n",
       "                                                                                    ('shelf_loc_name',\n",
       "                                                                                     None),\n",
       "                                                                                    ('copy_code',\n",
       "                                                                                     None)]))])),\n",
       "                                                        ('reg_date',\n",
       "                                                         '2021-10-27')]),\n",
       "                                           OrderedDict([('bookname',\n",
       "                                                         '중국고고학, 위대한 문명의 현장'),\n",
       "                                                        ('authors', '리링'),\n",
       "                                                        ('publisher', '역사산책'),\n",
       "                                                        ('publication_year',\n",
       "                                                         '2021'),\n",
       "                                                        ('isbn13',\n",
       "                                                         '9791190429191'),\n",
       "                                                        ('set_isbn13', None),\n",
       "                                                        ('bookImageURL',\n",
       "                                                         'https://image.aladin.co.kr/product/27982/1/cover/k702734127_1.jpg'),\n",
       "                                                        ('addition_symbol',\n",
       "                                                         None),\n",
       "                                                        ('vol', None),\n",
       "                                                        ('class_no',\n",
       "                                                         '912.0025'),\n",
       "                                                        ('class_nm',\n",
       "                                                         '역사 > 아시아(아세아) > 중국'),\n",
       "                                                        ('callNumbers',\n",
       "                                                         OrderedDict([('callNumber',\n",
       "                                                                       OrderedDict([('separate_shelf_code',\n",
       "                                                                                     None),\n",
       "                                                                                    ('separate_shelf_name',\n",
       "                                                                                     None),\n",
       "                                                                                    ('book_code',\n",
       "                                                                                     '중347ㅇ'),\n",
       "                                                                                    ('shelf_loc_code',\n",
       "                                                                                     '00000000'),\n",
       "                                                                                    ('shelf_loc_name',\n",
       "                                                                                     None),\n",
       "                                                                                    ('copy_code',\n",
       "                                                                                     None)]))])),\n",
       "                                                        ('reg_date',\n",
       "                                                         '2021-10-27')]),\n",
       "                                           OrderedDict([('bookname',\n",
       "                                                         '나는 쇼핑하듯 ETF에 투자한다 : 손해는 적게 이익은 많이 보는 전 세계 ETF를 당신의 장바구니에 담아라'),\n",
       "                                                        ('authors', '문남중'),\n",
       "                                                        ('publisher', '위너스북'),\n",
       "                                                        ('publication_year',\n",
       "                                                         '2021'),\n",
       "                                                        ('isbn13',\n",
       "                                                         '9791189352431'),\n",
       "                                                        ('set_isbn13', None),\n",
       "                                                        ('bookImageURL',\n",
       "                                                         'https://image.aladin.co.kr/product/27944/5/cover/k382734114_1.jpg'),\n",
       "                                                        ('addition_symbol',\n",
       "                                                         None),\n",
       "                                                        ('vol', None),\n",
       "                                                        ('class_no',\n",
       "                                                         '327.856'),\n",
       "                                                        ('class_nm',\n",
       "                                                         '사회과학 > 경제학 > 금융'),\n",
       "                                                        ('callNumbers',\n",
       "                                                         OrderedDict([('callNumber',\n",
       "                                                                       OrderedDict([('separate_shelf_code',\n",
       "                                                                                     None),\n",
       "                                                                                    ('separate_shelf_name',\n",
       "                                                                                     None),\n",
       "                                                                                    ('book_code',\n",
       "                                                                                     '문581ㄴ'),\n",
       "                                                                                    ('shelf_loc_code',\n",
       "                                                                                     '00000000'),\n",
       "                                                                                    ('shelf_loc_name',\n",
       "                                                                                     None),\n",
       "                                                                                    ('copy_code',\n",
       "                                                                                     None)]))])),\n",
       "                                                        ('reg_date',\n",
       "                                                         '2021-10-27')]),\n",
       "                                           OrderedDict([('bookname',\n",
       "                                                         '무법의 시간 : 어쩌다 우리가 꿈꿨던 세상이 이 지경이 되었나'),\n",
       "                                                        ('authors', '권경애'),\n",
       "                                                        ('publisher', '천년의상상'),\n",
       "                                                        ('publication_year',\n",
       "                                                         '2021'),\n",
       "                                                        ('isbn13',\n",
       "                                                         '9791190413268'),\n",
       "                                                        ('set_isbn13', None),\n",
       "                                                        ('bookImageURL',\n",
       "                                                         'https://image.aladin.co.kr/product/27425/99/cover/k142733272_1.jpg'),\n",
       "                                                        ('addition_symbol',\n",
       "                                                         None),\n",
       "                                                        ('vol', None),\n",
       "                                                        ('class_no',\n",
       "                                                         '340.911'),\n",
       "                                                        ('class_nm',\n",
       "                                                         '사회과학 > 정치학 > 정치학'),\n",
       "                                                        ('callNumbers',\n",
       "                                                         OrderedDict([('callNumber',\n",
       "                                                                       OrderedDict([('separate_shelf_code',\n",
       "                                                                                     None),\n",
       "                                                                                    ('separate_shelf_name',\n",
       "                                                                                     None),\n",
       "                                                                                    ('book_code',\n",
       "                                                                                     '권521ㅁ'),\n",
       "                                                                                    ('shelf_loc_code',\n",
       "                                                                                     '00000000'),\n",
       "                                                                                    ('shelf_loc_name',\n",
       "                                                                                     None),\n",
       "                                                                                    ('copy_code',\n",
       "                                                                                     None)]))])),\n",
       "                                                        ('reg_date',\n",
       "                                                         '2021-10-27')]),\n",
       "                                           OrderedDict([('bookname',\n",
       "                                                         '당신이라는 책, 너라는 세계'),\n",
       "                                                        ('authors', '박진희'),\n",
       "                                                        ('publisher', '앤의서재'),\n",
       "                                                        ('publication_year',\n",
       "                                                         '2021'),\n",
       "                                                        ('isbn13',\n",
       "                                                         '9791190710268'),\n",
       "                                                        ('set_isbn13', None),\n",
       "                                                        ('bookImageURL',\n",
       "                                                         'https://image.aladin.co.kr/product/27920/6/cover/k122734504_1.jpg'),\n",
       "                                                        ('addition_symbol',\n",
       "                                                         None),\n",
       "                                                        ('vol', None),\n",
       "                                                        ('class_no', '029.85'),\n",
       "                                                        ('class_nm',\n",
       "                                                         '총류 > 문헌정보학 > 독서 및 정보매체의 이용'),\n",
       "                                                        ('callNumbers',\n",
       "                                                         OrderedDict([('callNumber',\n",
       "                                                                       OrderedDict([('separate_shelf_code',\n",
       "                                                                                     None),\n",
       "                                                                                    ('separate_shelf_name',\n",
       "                                                                                     None),\n",
       "                                                                                    ('book_code',\n",
       "                                                                                     '박652ㄷ'),\n",
       "                                                                                    ('shelf_loc_code',\n",
       "                                                                                     '00000000'),\n",
       "                                                                                    ('shelf_loc_name',\n",
       "                                                                                     None),\n",
       "                                                                                    ('copy_code',\n",
       "                                                                                     None)]))])),\n",
       "                                                        ('reg_date',\n",
       "                                                         '2021-10-27')]),\n",
       "                                           OrderedDict([('bookname',\n",
       "                                                         '으뜸체력 : 인생의 번아웃에 지지 않는 힘'),\n",
       "                                                        ('authors', '심으뜸'),\n",
       "                                                        ('publisher', '다산북스'),\n",
       "                                                        ('publication_year',\n",
       "                                                         '2021'),\n",
       "                                                        ('isbn13',\n",
       "                                                         '9791130640730'),\n",
       "                                                        ('set_isbn13', None),\n",
       "                                                        ('bookImageURL',\n",
       "                                                         'https://image.aladin.co.kr/product/27846/42/cover/k272734584_1.jpg'),\n",
       "                                                        ('addition_symbol',\n",
       "                                                         None),\n",
       "                                                        ('vol', None),\n",
       "                                                        ('class_no', '818'),\n",
       "                                                        ('class_nm',\n",
       "                                                         '문학 > 한국문학 > 르포르타주 및 기타'),\n",
       "                                                        ('callNumbers',\n",
       "                                                         OrderedDict([('callNumber',\n",
       "                                                                       OrderedDict([('separate_shelf_code',\n",
       "                                                                                     None),\n",
       "                                                                                    ('separate_shelf_name',\n",
       "                                                                                     None),\n",
       "                                                                                    ('book_code',\n",
       "                                                                                     '심936ㅇ'),\n",
       "                                                                                    ('shelf_loc_code',\n",
       "                                                                                     '00000000'),\n",
       "                                                                                    ('shelf_loc_name',\n",
       "                                                                                     None),\n",
       "                                                                                    ('copy_code',\n",
       "                                                                                     None)]))])),\n",
       "                                                        ('reg_date',\n",
       "                                                         '2021-10-27')]),\n",
       "                                           OrderedDict([('bookname',\n",
       "                                                         '배당주 투자 무작정 따라하기 : 안정적으로 자산을 불리는 배당주 월급 프로젝트'),\n",
       "                                                        ('authors', '이래학'),\n",
       "                                                        ('publisher', '길벗'),\n",
       "                                                        ('publication_year',\n",
       "                                                         '2021'),\n",
       "                                                        ('isbn13',\n",
       "                                                         '9791165215767'),\n",
       "                                                        ('set_isbn13', None),\n",
       "                                                        ('bookImageURL',\n",
       "                                                         'https://image.aladin.co.kr/product/27455/77/cover/k222733473_1.jpg'),\n",
       "                                                        ('addition_symbol',\n",
       "                                                         None),\n",
       "                                                        ('vol', None),\n",
       "                                                        ('class_no',\n",
       "                                                         '327.856'),\n",
       "                                                        ('class_nm',\n",
       "                                                         '사회과학 > 경제학 > 금융'),\n",
       "                                                        ('callNumbers',\n",
       "                                                         OrderedDict([('callNumber',\n",
       "                                                                       OrderedDict([('separate_shelf_code',\n",
       "                                                                                     None),\n",
       "                                                                                    ('separate_shelf_name',\n",
       "                                                                                     None),\n",
       "                                                                                    ('book_code',\n",
       "                                                                                     '이269ㅂ'),\n",
       "                                                                                    ('shelf_loc_code',\n",
       "                                                                                     '00000000'),\n",
       "                                                                                    ('shelf_loc_name',\n",
       "                                                                                     None),\n",
       "                                                                                    ('copy_code',\n",
       "                                                                                     None)]))])),\n",
       "                                                        ('reg_date',\n",
       "                                                         '2021-10-27')]),\n",
       "                                           OrderedDict([('bookname',\n",
       "                                                         '아기 리듬 마사지 & 몸 놀이 : 엄마 아빠와 함께 몸과 마음이 쑥쑥!'),\n",
       "                                                        ('authors', '권정혁'),\n",
       "                                                        ('publisher', '리스컴'),\n",
       "                                                        ('publication_year',\n",
       "                                                         '2021'),\n",
       "                                                        ('isbn13',\n",
       "                                                         '9791156162315'),\n",
       "                                                        ('set_isbn13', None),\n",
       "                                                        ('bookImageURL',\n",
       "                                                         'https://image.aladin.co.kr/product/27635/80/cover/k482733122_1.jpg'),\n",
       "                                                        ('addition_symbol',\n",
       "                                                         None),\n",
       "                                                        ('vol', None),\n",
       "                                                        ('class_no',\n",
       "                                                         '598.122'),\n",
       "                                                        ('class_nm',\n",
       "                                                         '기술과학 > 가정학 및 가정생활 > 육아'),\n",
       "                                                        ('callNumbers',\n",
       "                                                         OrderedDict([('callNumber',\n",
       "                                                                       OrderedDict([('separate_shelf_code',\n",
       "                                                                                     None),\n",
       "                                                                                    ('separate_shelf_name',\n",
       "                                                                                     None),\n",
       "                                                                                    ('book_code',\n",
       "                                                                                     '권681ㅇ'),\n",
       "                                                                                    ('shelf_loc_code',\n",
       "                                                                                     '00000000'),\n",
       "                                                                                    ('shelf_loc_name',\n",
       "                                                                                     None),\n",
       "                                                                                    ('copy_code',\n",
       "                                                                                     None)]))])),\n",
       "                                                        ('reg_date',\n",
       "                                                         '2021-10-27')]),\n",
       "                                           OrderedDict([('bookname',\n",
       "                                                         '이방인의 아이'),\n",
       "                                                        ('authors',\n",
       "                                                         '홀링허스트, 앨런'),\n",
       "                                                        ('publisher', '민음사'),\n",
       "                                                        ('publication_year',\n",
       "                                                         '2021'),\n",
       "                                                        ('isbn13',\n",
       "                                                         '9788937417696'),\n",
       "                                                        ('set_isbn13', None),\n",
       "                                                        ('bookImageURL',\n",
       "                                                         'https://image.aladin.co.kr/product/27763/65/cover/8937417693_1.jpg'),\n",
       "                                                        ('addition_symbol',\n",
       "                                                         None),\n",
       "                                                        ('vol', None),\n",
       "                                                        ('class_no', '843'),\n",
       "                                                        ('class_nm',\n",
       "                                                         '문학 > 영미문학 > 소설'),\n",
       "                                                        ('callNumbers',\n",
       "                                                         OrderedDict([('callNumber',\n",
       "                                                                       OrderedDict([('separate_shelf_code',\n",
       "                                                                                     None),\n",
       "                                                                                    ('separate_shelf_name',\n",
       "                                                                                     None),\n",
       "                                                                                    ('book_code',\n",
       "                                                                                     '홀436야'),\n",
       "                                                                                    ('shelf_loc_code',\n",
       "                                                                                     '00000000'),\n",
       "                                                                                    ('shelf_loc_name',\n",
       "                                                                                     None),\n",
       "                                                                                    ('copy_code',\n",
       "                                                                                     None)]))])),\n",
       "                                                        ('reg_date',\n",
       "                                                         '2021-10-27')])])]))]))])"
      ]
     },
     "execution_count": 3,
     "metadata": {},
     "output_type": "execute_result"
    }
   ],
   "source": [
    "req = requests.get(url).content\n",
    "\n",
    "xmlObject = xmltodict.parse(req)\n",
    "xmlObject."
   ]
  },
  {
   "cell_type": "code",
   "execution_count": 6,
   "id": "d3dbd8d5",
   "metadata": {},
   "outputs": [],
   "source": [
    "# dict_data = xmlObject['response']['libs']['lib'][0]['loanByhours']['result']\n",
    "dict_data = xmlObject['response']['docs']['doc'][0]\n",
    "\n",
    "df_conf = pd.DataFrame(dict_data)"
   ]
  },
  {
   "cell_type": "code",
   "execution_count": 7,
   "id": "e4ae68f4",
   "metadata": {
    "scrolled": false
   },
   "outputs": [
    {
     "data": {
      "text/html": [
       "<div>\n",
       "<style scoped>\n",
       "    .dataframe tbody tr th:only-of-type {\n",
       "        vertical-align: middle;\n",
       "    }\n",
       "\n",
       "    .dataframe tbody tr th {\n",
       "        vertical-align: top;\n",
       "    }\n",
       "\n",
       "    .dataframe thead th {\n",
       "        text-align: right;\n",
       "    }\n",
       "</style>\n",
       "<table border=\"1\" class=\"dataframe\">\n",
       "  <thead>\n",
       "    <tr style=\"text-align: right;\">\n",
       "      <th></th>\n",
       "      <th>bookname</th>\n",
       "      <th>authors</th>\n",
       "      <th>publisher</th>\n",
       "      <th>publication_year</th>\n",
       "      <th>isbn13</th>\n",
       "      <th>set_isbn13</th>\n",
       "      <th>bookImageURL</th>\n",
       "      <th>addition_symbol</th>\n",
       "      <th>vol</th>\n",
       "      <th>class_no</th>\n",
       "      <th>class_nm</th>\n",
       "      <th>callNumbers</th>\n",
       "      <th>reg_date</th>\n",
       "    </tr>\n",
       "  </thead>\n",
       "  <tbody>\n",
       "    <tr>\n",
       "      <th>callNumber</th>\n",
       "      <td>산다는 건 뭘까?</td>\n",
       "      <td>채인선</td>\n",
       "      <td>미세기</td>\n",
       "      <td>2021</td>\n",
       "      <td>9788980715121</td>\n",
       "      <td>None</td>\n",
       "      <td>https://image.aladin.co.kr/product/27858/76/co...</td>\n",
       "      <td>None</td>\n",
       "      <td>None</td>\n",
       "      <td>126.5</td>\n",
       "      <td>철학 &gt; 인식론, 인과론, 인간학 &gt;</td>\n",
       "      <td>{'separate_shelf_code': '아', 'separate_shelf_n...</td>\n",
       "      <td>2021-10-27</td>\n",
       "    </tr>\n",
       "  </tbody>\n",
       "</table>\n",
       "</div>"
      ],
      "text/plain": [
       "             bookname authors publisher publication_year         isbn13  \\\n",
       "callNumber  산다는 건 뭘까?     채인선       미세기             2021  9788980715121   \n",
       "\n",
       "           set_isbn13                                       bookImageURL  \\\n",
       "callNumber       None  https://image.aladin.co.kr/product/27858/76/co...   \n",
       "\n",
       "           addition_symbol   vol class_no              class_nm  \\\n",
       "callNumber            None  None    126.5  철학 > 인식론, 인과론, 인간학 >   \n",
       "\n",
       "                                                  callNumbers    reg_date  \n",
       "callNumber  {'separate_shelf_code': '아', 'separate_shelf_n...  2021-10-27  "
      ]
     },
     "execution_count": 7,
     "metadata": {},
     "output_type": "execute_result"
    }
   ],
   "source": [
    "df_conf"
   ]
  }
 ],
 "metadata": {
  "kernelspec": {
   "display_name": "Python 3",
   "language": "python",
   "name": "python3"
  },
  "language_info": {
   "codemirror_mode": {
    "name": "ipython",
    "version": 3
   },
   "file_extension": ".py",
   "mimetype": "text/x-python",
   "name": "python",
   "nbconvert_exporter": "python",
   "pygments_lexer": "ipython3",
   "version": "3.8.10"
  }
 },
 "nbformat": 4,
 "nbformat_minor": 5
}
