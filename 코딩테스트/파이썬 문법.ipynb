{
 "cells": [
  {
   "cell_type": "markdown",
   "id": "645532dc",
   "metadata": {},
   "source": [
    "### 기본 입출력"
   ]
  },
  {
   "cell_type": "markdown",
   "id": "d8d5082d",
   "metadata": {},
   "source": [
    "- input() : 한 줄의 문자열을 입력 받는 함수\n",
    "- map() : 리스트의 모든 원소에 각각 특정한 함수를 적용할 때 사용\n",
    "\n",
    "- ex) 공백 기준으로 구분된 데이터를 입력 받을 때 : list(map(int, input().split()))\n",
    "- ex) 공백 기준으로 구분된 데이터의 개수가 많지 않다면 : a, b, c = map(int, input.split())"
   ]
  },
  {
   "cell_type": "code",
   "execution_count": 3,
   "id": "a1ec8e31",
   "metadata": {},
   "outputs": [
    {
     "name": "stdout",
     "output_type": "stream",
     "text": [
      "1 3 5\n"
     ]
    }
   ],
   "source": [
    "n = int(input())\n",
    "\n",
    "data = list(map(int, input().split()))"
   ]
  },
  {
   "cell_type": "code",
   "execution_count": 8,
   "id": "6eb2188f",
   "metadata": {},
   "outputs": [
    {
     "name": "stdout",
     "output_type": "stream",
     "text": [
      "1 3 5\n",
      "1\n",
      "3\n",
      "5\n"
     ]
    }
   ],
   "source": [
    "# a, b, c를 공백 기준으로 구분하여 입력\n",
    "a, b, c = map(int, input().split())\n",
    "\n",
    "print(a)\n",
    "print(b)\n",
    "print(c)"
   ]
  },
  {
   "cell_type": "markdown",
   "id": "16237024",
   "metadata": {},
   "source": [
    "- 입력을 최대한 빠르게 받아야 하는 경우\n",
    "- sys 라이브러리에 정의되어 있는 sys.stdin.readline() 메서드 이용\n",
    "    - 단, 입력 후 Enter가 줄 바꿈 기호로 입력되므로 rstrip() 메서드 함께 사용\n",
    "- 이진탐색, 정렬, 그래프 문제"
   ]
  },
  {
   "cell_type": "code",
   "execution_count": 32,
   "id": "7bda0fdf",
   "metadata": {},
   "outputs": [],
   "source": [
    "import sys\n",
    "\n",
    "# 문자열 입력 받기\n",
    "a = list(map(int, sys.stdin.readline().split()))"
   ]
  },
  {
   "cell_type": "markdown",
   "id": "88ecd533",
   "metadata": {},
   "source": [
    "### 표준 출력 방법"
   ]
  },
  {
   "cell_type": "markdown",
   "id": "b5d3d7df",
   "metadata": {},
   "source": [
    "- print() \n",
    "    - 각 변수를 , 를 이용하여 띄어쓰기로 구분하여 출력 가능\n",
    "    - 기본적으로 출력 이후 줄 바꿈 수행\n",
    "    - 줄 바꿈을 원치 않는 경우 'end' 속성을 이용"
   ]
  },
  {
   "cell_type": "code",
   "execution_count": 28,
   "id": "61ba9209",
   "metadata": {},
   "outputs": [
    {
     "name": "stdout",
     "output_type": "stream",
     "text": [
      "1 2\n",
      "7 8 "
     ]
    }
   ],
   "source": [
    "a = 1\n",
    "b = 2\n",
    "\n",
    "print(a, b)\n",
    "print(7, end = \" \")\n",
    "print(8, end = \" \")"
   ]
  },
  {
   "cell_type": "code",
   "execution_count": 29,
   "id": "427e2b05",
   "metadata": {},
   "outputs": [
    {
     "name": "stdout",
     "output_type": "stream",
     "text": [
      "정답은7입니다.\n"
     ]
    }
   ],
   "source": [
    "answer = 7\n",
    "print(\"정답은\" + str(answer) + \"입니다.\")"
   ]
  },
  {
   "cell_type": "markdown",
   "id": "a50a1ea9",
   "metadata": {},
   "source": [
    "- f-string : Python 3.6 부터 사용 가능 \n",
    "- 문자열 앞에 접두사 'f' 붙여 사용"
   ]
  },
  {
   "cell_type": "code",
   "execution_count": 31,
   "id": "1169fc1a",
   "metadata": {},
   "outputs": [
    {
     "name": "stdout",
     "output_type": "stream",
     "text": [
      "정답은 7 입니다.\n"
     ]
    }
   ],
   "source": [
    "answer = 7\n",
    "print(f\"정답은 {answer} 입니다.\")"
   ]
  },
  {
   "cell_type": "markdown",
   "id": "e47bd952",
   "metadata": {},
   "source": [
    "### 조건문"
   ]
  },
  {
   "cell_type": "markdown",
   "id": "bb3c231a",
   "metadata": {},
   "source": [
    "- if ~ elif ~ else"
   ]
  },
  {
   "cell_type": "code",
   "execution_count": 34,
   "id": "16be4bf4",
   "metadata": {},
   "outputs": [
    {
     "name": "stdout",
     "output_type": "stream",
     "text": [
      "70점 이상\n",
      "종료\n"
     ]
    }
   ],
   "source": [
    "score = 85\n",
    "\n",
    "if score >= 70:\n",
    "    print(\"70점 이상\")\n",
    "    if score >= 90:\n",
    "        print(\"우수 성적\")\n",
    "else:\n",
    "    print(\"70점 미만\")\n",
    "    \n",
    "print(\"종료\")"
   ]
  },
  {
   "cell_type": "code",
   "execution_count": 37,
   "id": "076790a1",
   "metadata": {},
   "outputs": [
    {
     "name": "stdout",
     "output_type": "stream",
     "text": [
      "0 > a >= 10\n"
     ]
    }
   ],
   "source": [
    "a = -10\n",
    "\n",
    "if a >= 0:\n",
    "    print(\"a >= 0\")\n",
    "    \n",
    "elif a >= -10:\n",
    "    print(\"0 > a >= 10\")\n",
    "        \n",
    "else:\n",
    "    print(\"a < -10\")"
   ]
  },
  {
   "cell_type": "code",
   "execution_count": null,
   "id": "c8bb793e",
   "metadata": {},
   "outputs": [],
   "source": []
  }
 ],
 "metadata": {
  "kernelspec": {
   "display_name": "Python 3",
   "language": "python",
   "name": "python3"
  },
  "language_info": {
   "codemirror_mode": {
    "name": "ipython",
    "version": 3
   },
   "file_extension": ".py",
   "mimetype": "text/x-python",
   "name": "python",
   "nbconvert_exporter": "python",
   "pygments_lexer": "ipython3",
   "version": "3.8.10"
  }
 },
 "nbformat": 4,
 "nbformat_minor": 5
}
