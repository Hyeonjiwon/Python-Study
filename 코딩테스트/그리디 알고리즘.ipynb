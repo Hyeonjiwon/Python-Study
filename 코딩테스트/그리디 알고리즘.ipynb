{
 "cells": [
  {
   "cell_type": "markdown",
   "id": "c49cdfe4",
   "metadata": {},
   "source": [
    "동빈나 : 2.그리디 & 구현 https://youtu.be/2zjoKjt97vQ"
   ]
  },
  {
   "cell_type": "markdown",
   "id": "90dd7b21",
   "metadata": {},
   "source": [
    "## 그리디 알고리즘\n",
    "\n",
    "- 현재 상황에서 지금 당장 좋은 것만 고르는 방법\n",
    "- 문제를 풀기 위한 최소한의 아이디어를 떠올릴 수 있는 능력 요구\n",
    "- 정당성 분석 중요 : 단순히 가장 좋아 보이는 것을 반복적으로 선택해도 최적의 해를 구할 수 있는지 검토\n",
    "- 코테에서 대부분의 그리디 문제는 탐욕법으로 얻은 해가 최적의 해가 되는 상황에서, 이를 추론할 수 있어야 풀리도록 출제"
   ]
  },
  {
   "cell_type": "markdown",
   "id": "1be17f8d",
   "metadata": {},
   "source": [
    "### <문제> 거스름 돈:\n",
    "\n",
    "500원, 100원, 50원, 10원짜리 동전이 무한히 존대\n",
    "손님에게 거슬러 주어야 할 돈이 N원일 때 거슬러 주어야 할 동전의 최소 개수\n",
    "(단, 거슬러 줘야 할 돈 N은 항상 10의 배수)"
   ]
  },
  {
   "cell_type": "markdown",
   "id": "84684f45",
   "metadata": {},
   "source": [
    "<아이디어> \n",
    "- 최적의 해를 빠르게 구하기 위해서는 가장 큰 화폐 단위부터 돈을 거슬러 주기\n",
    "- N원을 거슬러 줘야 할 때, 가장 먼저 500원으로 거슬러 줄 수 있을 만큼 거슬러 주기\n",
    "    - 이후 100원, 50원, 10원짜리 동전을 차례대로 거슬러 줄 수 있을 만큼 거슬러 주기"
   ]
  },
  {
   "cell_type": "markdown",
   "id": "c8d5aee8",
   "metadata": {},
   "source": [
    "<정당성 분석>\n",
    "- 가지고 있는 동전 중, 큰 단위가 항상 작은 단위의 배수이므로 작은 단위의 동전들을 종합해 다른 해가 나올 수 없기 때문"
   ]
  },
  {
   "cell_type": "markdown",
   "id": "9952ab10",
   "metadata": {},
   "source": [
    "<시간 복잡도 분석>\n",
    "- 화폐 종류가 K 라고 할 때, 소스코드의 시간 복잡도 = O(K)\n",
    "- 거슬러줘야 하는 금액과는 무관, 동전의 총 종류에만 영향을 받음"
   ]
  },
  {
   "cell_type": "code",
   "execution_count": 7,
   "id": "ef3509db",
   "metadata": {},
   "outputs": [
    {
     "name": "stdout",
     "output_type": "stream",
     "text": [
      "6\n"
     ]
    }
   ],
   "source": [
    "# ex. N = 1,260\n",
    "\n",
    "n = 1260\n",
    "count = 0\n",
    "\n",
    "# 큰 단위 화폐부터 차례로 확인\n",
    "coin_type = [500, 100, 50, 10]\n",
    "\n",
    "for coin in coin_type:\n",
    "    count = count + (n//coin) # 몫\n",
    "    n = n % coin # 잔돈\n",
    "    \n",
    "print(count)"
   ]
  },
  {
   "cell_type": "code",
   "execution_count": null,
   "id": "bfad2b07",
   "metadata": {},
   "outputs": [],
   "source": []
  },
  {
   "cell_type": "markdown",
   "id": "8246e3d6",
   "metadata": {},
   "source": [
    "### <문제> 1이 될 때까지\n",
    "\n",
    "어떠한 수 N이 1이 될 때까지 다음의 두 과정 중 하나를 반복적으로 선택하여 수행하려 한다. 단, 두번째 연산은 N이 K로 나누어 떨어질 때만 선택할 수 있다. \n",
    "\n",
    "1. N에서 1을 뺍니다.\n",
    "2. N을 K로 나눕니다.\n",
    "\n",
    "- ex) N = 17, K = 4 일때, 1번의 과정을 한 번 수행하면 N = 16. 이후 2번의 과정을 두번 수행하면 N = 1이 된다. 결과적으로 이 경우 전체 과정을 실행한 횟수는 3, 이는 N을 1로 만드는 최소 횟수\n",
    "\n",
    "- N과 K가 주어질 때 N이 1이 될 때까지 1번 혹은 2번의 과정을 수행해야 하는 최소 횟수를 구하는 프로그램 작성"
   ]
  },
  {
   "cell_type": "markdown",
   "id": "a2470538",
   "metadata": {},
   "source": [
    "<문제 조건>\n",
    "\n",
    "- 입력 조건 : 첫째 줄에 N (1<= N <= 100,000)과 K (2<= K <= 100,000)가 공백을 기준으로 하여 각각 자연수로 주어짐\n",
    "\n",
    "- 출력 조건 : 첫째 줄에 N이 1이 될 때까지 1번 혹은 2번의 과정을 수행해야 하는 횟수의 최소값을 출력\n",
    "\n",
    "- 입력 예시 : 25 5\n",
    "- 출력 예시 : 2"
   ]
  },
  {
   "cell_type": "code",
   "execution_count": 59,
   "id": "c06b5634",
   "metadata": {},
   "outputs": [
    {
     "name": "stdout",
     "output_type": "stream",
     "text": [
      "3\n"
     ]
    }
   ],
   "source": [
    "# 내 풀이\n",
    "N, K = map(int, input().split())\n",
    "\n",
    "count = 0\n",
    "\n",
    "while True:\n",
    "    # print(N, K)\n",
    "    if N == 1:\n",
    "        break\n",
    "    \n",
    "    else:\n",
    "        if N%K == 0:\n",
    "            N = N//K\n",
    "            # print(N)\n",
    "            count += 1\n",
    "        else:\n",
    "            N = N-1\n",
    "            # print(N)\n",
    "            count += 1\n",
    "            \n",
    "print(count) "
   ]
  },
  {
   "cell_type": "markdown",
   "id": "0b809460",
   "metadata": {},
   "source": [
    "<문제 해결 아이디어>\n",
    "\n",
    "- 주어진 N에 대하여 최대한 많이 나누기 수행\n",
    "- N의 값을 줄일 때, 2 이상의 수로 나누는 작업이 1을 빼는 작업보다 수를 훨씬 많이 줄일 수 있음"
   ]
  },
  {
   "cell_type": "markdown",
   "id": "1153ff27",
   "metadata": {},
   "source": [
    "<정당성 분석>\n",
    "\n",
    "- 가능하면 최대한 많이 나누는 작업이 최적의 해를 항상 보장할 수 있을까?\n",
    "- N이 아무리 큰 수여도, K로 계속 나눈다면 기하급수적으로 빠르게 줄일 수 있음\n",
    "- K가 2 이상이기만 하면, K로 나누는 것이 1을 빼는 것보다 항상 빠르게 N을 줄일 수 있음\n",
    "    - 또한 N은 항상 1에 도달(최적의 해 성립)"
   ]
  },
  {
   "cell_type": "code",
   "execution_count": 68,
   "id": "cd65dbe6",
   "metadata": {},
   "outputs": [
    {
     "name": "stdout",
     "output_type": "stream",
     "text": [
      "25 5\n",
      "3\n"
     ]
    }
   ],
   "source": [
    "# 답안 예시\n",
    "\n",
    "# N,K을 공백 기준으로 구분하여 입력 받기 \n",
    "n, k = map(int, input().split())\n",
    "\n",
    "result = 0\n",
    "\n",
    "while True:\n",
    "    # N이 K로 나누어 떨어지는 수가 될 때까지 빼기\n",
    "    target = (n // k) * k\n",
    "    result += (n - target)\n",
    "    n = target\n",
    "    \n",
    "    # N이 K보다 작을 때 (더 이상 나눌 수 없을 때) 반복문 탈출\n",
    "    if n < k:\n",
    "        break\n",
    "    \n",
    "    # K로 나누기 \n",
    "    result += 1\n",
    "    n //= K\n",
    "    \n",
    "# 마지막으로 남은 수에 대하여 1씩 빼기\n",
    "result += (n - 1)\n",
    "print(result)"
   ]
  },
  {
   "cell_type": "code",
   "execution_count": null,
   "id": "966d660d",
   "metadata": {},
   "outputs": [],
   "source": []
  },
  {
   "cell_type": "markdown",
   "id": "96ef1019",
   "metadata": {},
   "source": [
    "### <문제> 곱하기 혹은 더하기 : 문제 설명\n",
    "\n",
    "- 각 자리 숫자가(0~9)로만 이루어진 문자열 S가 주어졌을 때, 왼쪽부터 오른쪽으로 하나씩 모든 숫자를 확인하며 숫자 사이에 x 혹은 + 연산자를 넣어 결과적으로 만들어질 수 있는 가장 큰 수를 구하는 프로그램을 작성하세요\n",
    "\n",
    "- 모든 연산은 왼쪽에서부터 순서대로 이루어진다고 가정\n",
    "\n",
    "- 02984라는 문자열로 만들 수 있는 가장 큰 수는 ((((0+2) * 9) * 8) * 4) = 576\n",
    "- 만들어질 수 있는 가장 큰 수는 항상 20억 이하의 정수가 되도록 "
   ]
  },
  {
   "cell_type": "code",
   "execution_count": 118,
   "id": "50fe25dc",
   "metadata": {},
   "outputs": [
    {
     "name": "stdout",
     "output_type": "stream",
     "text": [
      "576\n"
     ]
    }
   ],
   "source": [
    "# 내 풀이 \n",
    "S = \"02984\"\n",
    "\n",
    "# 문자열을 한 글자씩 끊어서 정수형 리스트로\n",
    "s_list = list(map(int, list(S)))\n",
    "\n",
    "result = s_list[0]\n",
    "\n",
    "for i in range(1, len(s_list)):\n",
    "    num = s_list[i]\n",
    "    \n",
    "    if num <= 1 or result <= 1:\n",
    "        result += num\n",
    "\n",
    "    else:  \n",
    "        result *= num\n",
    "        \n",
    "print(result)"
   ]
  },
  {
   "cell_type": "markdown",
   "id": "764868e1",
   "metadata": {},
   "source": [
    "<문제 해결 아이디어>\n",
    "- 대부분의 경우 + 보다 x가 더 값을 크게 만든다.\n",
    "- 다만 두 수 중에서 하나라도 '0' 혹은 '1'인 경우, 곱하기보다 더하기를 하는게 효율적\n",
    "- 두 수에 대하여 연산을 수행할 때, 두 수 중에서 하나라도 1이하인 경우에는 더하기, 2 이상인 경우에는 곱하기"
   ]
  },
  {
   "cell_type": "code",
   "execution_count": null,
   "id": "55aff746",
   "metadata": {},
   "outputs": [],
   "source": []
  },
  {
   "cell_type": "markdown",
   "id": "fb1c2a07",
   "metadata": {},
   "source": [
    "### <문제> 모험가 길드\n",
    "\n",
    "- 한 마을에 모험가가 N명 있습니다. 모험가 길드에서는 N명의 모험가를 대상으로 '공포도'를 측정했는데, '공포도'가 높은 모험가는 쉽게 공포를 느껴 위험 상황에서 제대로 대처할 능력이 떨어집니다. \n",
    "- 모험가 길드장인 동빈이는 모험가 그룹을 안전하게 구성하고자 공포도가 X인 모험가는 반드시 X명 이상으로 구성한 모험가 그룹에 참여해야 여행을 떠날 수 있도록 규정했습니다. \n",
    "- 동빈이는 최대 몇 개의 모험가 그룹을 만들 수 있는지 궁금합니다. N명의 모험가에 대한 정보가 주어졌을 때, 여행을 떠날 수 있는 그룹 수의 최댓값을 구하는 프로그램을 작성하세요\n"
   ]
  },
  {
   "cell_type": "markdown",
   "id": "180bc2f8",
   "metadata": {},
   "source": [
    "- ex) N = 5, 각 모험가의 공포도 = 2 3 1 2 2\n",
    "- 이 경우 그룹 1에 공포도가 1,2,3인 모험가를 한 명식 넣고, \n",
    "- 그룹 2에 공포도가 2인 남은 두명을 넣게 되면 총 2개의 그룹을 만들 수 있음\n",
    "- 또한 몇 명의 모험가는 마을에 그대로 남아 있어도 되기 때문에, 모든 모험가를 특정한 그룹에 넣을 필요는 없음 "
   ]
  },
  {
   "cell_type": "markdown",
   "id": "04aaa41a",
   "metadata": {},
   "source": [
    "<문제 조건>\n",
    "\n",
    "입력 조건\n",
    "- 첫째 줄에 모험가의 수 N이 주어집니다.\n",
    "- 둘째 줄에 각 모험가의 공포도 값을 N 이하의 자연수로 주어지며, 각 자연수는 공백으로 구분\n",
    "\n",
    "출력\n",
    "- 여행을 떠날 수 있는 그룹 수의 최댓값을 출력"
   ]
  },
  {
   "cell_type": "code",
   "execution_count": 132,
   "id": "204892ad",
   "metadata": {},
   "outputs": [
    {
     "name": "stdout",
     "output_type": "stream",
     "text": [
      "5\n",
      "2 3 1 2 2\n"
     ]
    }
   ],
   "source": [
    "# 내 풀이\n",
    "n = int(input())\n",
    "m = list(map(int, input().split()))"
   ]
  },
  {
   "cell_type": "code",
   "execution_count": 133,
   "id": "57a22bed",
   "metadata": {},
   "outputs": [
    {
     "data": {
      "text/plain": [
       "[2, 3, 1, 2, 2]"
      ]
     },
     "execution_count": 133,
     "metadata": {},
     "output_type": "execute_result"
    }
   ],
   "source": [
    "m"
   ]
  },
  {
   "cell_type": "code",
   "execution_count": 126,
   "id": "b85dbb33",
   "metadata": {},
   "outputs": [
    {
     "name": "stdout",
     "output_type": "stream",
     "text": [
      "<map object at 0x7fcab8841d00>\n"
     ]
    }
   ],
   "source": [
    "for i in m:\n",
    "    max = i\n",
    "    "
   ]
  },
  {
   "cell_type": "code",
   "execution_count": null,
   "id": "8575990e",
   "metadata": {},
   "outputs": [],
   "source": []
  }
 ],
 "metadata": {
  "kernelspec": {
   "display_name": "Python 3",
   "language": "python",
   "name": "python3"
  },
  "language_info": {
   "codemirror_mode": {
    "name": "ipython",
    "version": 3
   },
   "file_extension": ".py",
   "mimetype": "text/x-python",
   "name": "python",
   "nbconvert_exporter": "python",
   "pygments_lexer": "ipython3",
   "version": "3.8.10"
  }
 },
 "nbformat": 4,
 "nbformat_minor": 5
}
