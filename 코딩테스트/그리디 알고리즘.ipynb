{
 "cells": [
  {
   "cell_type": "markdown",
   "id": "6a77c154",
   "metadata": {},
   "source": [
    "동빈나 : 2.그리디 & 구현 https://youtu.be/2zjoKjt97vQ"
   ]
  },
  {
   "cell_type": "markdown",
   "id": "e999cab3",
   "metadata": {},
   "source": [
    "## 그리디 알고리즘\n",
    "\n",
    "- 현재 상황에서 지금 당장 좋은 것만 고르는 방법\n",
    "- 문제를 풀기 위한 최소한의 아이디어를 떠올릴 수 있는 능력 요구\n",
    "- 정당성 분석 중요 : 단순히 가장 좋아 보이는 것을 반복적으로 선택해도 최적의 해를 구할 수 있는지 검토\n",
    "- 코테에서 대부분의 그리디 문제는 탐욕법으로 얻은 해가 최적의 해가 되는 상황에서, 이를 추론할 수 있어야 풀리도록 출제"
   ]
  },
  {
   "cell_type": "markdown",
   "id": "ef32dd40",
   "metadata": {},
   "source": [
    "### <문제> 거스름 돈:\n",
    "\n",
    "500원, 100원, 50원, 10원짜리 동전이 무한히 존대\n",
    "손님에게 거슬러 주어야 할 돈이 N원일 때 거슬러 주어야 할 동전의 최소 개수\n",
    "(단, 거슬러 줘야 할 돈 N은 항상 10의 배수)"
   ]
  },
  {
   "cell_type": "markdown",
   "id": "b88c029e",
   "metadata": {},
   "source": [
    "<아이디어> \n",
    "- 최적의 해를 빠르게 구하기 위해서는 가장 큰 화폐 단위부터 돈을 거슬러 주기\n",
    "- N원을 거슬러 줘야 할 때, 가장 먼저 500원으로 거슬러 줄 수 있을 만큼 거슬러 주기\n",
    "    - 이후 100원, 50원, 10원짜리 동전을 차례대로 거슬러 줄 수 있을 만큼 거슬러 주기"
   ]
  },
  {
   "cell_type": "markdown",
   "id": "ac58d5c6",
   "metadata": {},
   "source": [
    "<정당성 분석>\n",
    "- 가지고 있는 동전 중, 큰 단위가 항상 작은 단위의 배수이므로 작은 단위의 동전들을 종합해 다른 해가 나올 수 없기 때문"
   ]
  },
  {
   "cell_type": "markdown",
   "id": "78ea09b8",
   "metadata": {},
   "source": [
    "<시간 복잡도 분석>\n",
    "- 화폐 종류가 K 라고 할 때, 소스코드의 시간 복잡도 = O(K)\n",
    "- 거슬러줘야 하는 금액과는 무관, 동전의 총 종류에만 영향을 받음"
   ]
  },
  {
   "cell_type": "code",
   "execution_count": 7,
   "id": "6ee8b148",
   "metadata": {},
   "outputs": [
    {
     "name": "stdout",
     "output_type": "stream",
     "text": [
      "6\n"
     ]
    }
   ],
   "source": [
    "# ex. N = 1,260\n",
    "\n",
    "n = 1260\n",
    "count = 0\n",
    "\n",
    "# 큰 단위 화폐부터 차례로 확인\n",
    "coin_type = [500, 100, 50, 10]\n",
    "\n",
    "for coin in coin_type:\n",
    "    count = count + (n//coin) # 몫\n",
    "    n = n % coin # 잔돈\n",
    "    \n",
    "print(count)"
   ]
  },
  {
   "cell_type": "code",
   "execution_count": null,
   "id": "8efa41b6",
   "metadata": {},
   "outputs": [],
   "source": []
  },
  {
   "cell_type": "markdown",
   "id": "6359f0d0",
   "metadata": {},
   "source": [
    "### <문제> 1이 될 때까지\n",
    "\n",
    "어떠한 수 N이 1이 될 때까지 다음의 두 과정 중 하나를 반복적으로 선택하여 수행하려 한다. 단, 두번째 연산은 N이 K로 나누어 떨어질 때만 선택할 수 있다. \n",
    "\n",
    "1. N에서 1을 뺍니다.\n",
    "2. N을 K로 나눕니다.\n",
    "\n",
    "- ex) N = 17, K = 4 일때, 1번의 과정을 한 번 수행하면 N = 16. 이후 2번의 과정을 두번 수행하면 N = 1이 된다. 결과적으로 이 경우 전체 과정을 실행한 횟수는 3, 이는 N을 1로 만드는 최소 횟수\n",
    "\n",
    "- N과 K가 주어질 때 N이 1이 될 때까지 1번 혹은 2번의 과정을 수행해야 하는 최소 횟수를 구하는 프로그램 작성"
   ]
  },
  {
   "cell_type": "markdown",
   "id": "93999ea3",
   "metadata": {},
   "source": [
    "<문제 조건>\n",
    "\n",
    "- 입력 조건 : 첫째 줄에 N (1<= N <= 100,000)과 K (2<= K <= 100,000)가 공백을 기준으로 하여 각각 자연수로 주어짐\n",
    "\n",
    "- 출력 조건 : 첫째 줄에 N이 1이 될 때까지 1번 혹은 2번의 과정을 수행해야 하는 횟수의 최소값을 출력\n",
    "\n",
    "- 입력 예시 : 25 5\n",
    "- 출력 예시 : 2"
   ]
  },
  {
   "cell_type": "code",
   "execution_count": 59,
   "id": "011c6016",
   "metadata": {},
   "outputs": [
    {
     "name": "stdout",
     "output_type": "stream",
     "text": [
      "3\n"
     ]
    }
   ],
   "source": [
    "# 내 풀이\n",
    "N, K = map(int, input().split())\n",
    "\n",
    "count = 0\n",
    "\n",
    "while True:\n",
    "    # print(N, K)\n",
    "    if N == 1:\n",
    "        break\n",
    "    \n",
    "    else:\n",
    "        if N%K == 0:\n",
    "            N = N//K\n",
    "            # print(N)\n",
    "            count += 1\n",
    "        else:\n",
    "            N = N-1\n",
    "            # print(N)\n",
    "            count += 1\n",
    "            \n",
    "print(count) "
   ]
  },
  {
   "cell_type": "markdown",
   "id": "3fcbe052",
   "metadata": {},
   "source": [
    "<문제 해결 아이디어>\n",
    "\n",
    "- 주어진 N에 대하여 최대한 많이 나누기 수행\n",
    "- N의 값을 줄일 때, 2 이상의 수로 나누는 작업이 1을 빼는 작업보다 수를 훨씬 많이 줄일 수 있음"
   ]
  },
  {
   "cell_type": "markdown",
   "id": "c02e3368",
   "metadata": {},
   "source": [
    "<정당성 분석>\n",
    "\n",
    "- 가능하면 최대한 많이 나누는 작업이 최적의 해를 항상 보장할 수 있을까?\n",
    "- N이 아무리 큰 수여도, K로 계속 나눈다면 기하급수적으로 빠르게 줄일 수 있음\n",
    "- K가 2 이상이기만 하면, K로 나누는 것이 1을 빼는 것보다 항상 빠르게 N을 줄일 수 있음\n",
    "    - 또한 N은 항상 1에 도달(최적의 해 성립)"
   ]
  },
  {
   "cell_type": "code",
   "execution_count": 68,
   "id": "be79b6b7",
   "metadata": {},
   "outputs": [
    {
     "name": "stdout",
     "output_type": "stream",
     "text": [
      "25 5\n",
      "3\n"
     ]
    }
   ],
   "source": [
    "# 답안 예시\n",
    "\n",
    "# N,K을 공백 기준으로 구분하여 입력 받기 \n",
    "n, k = map(int, input().split())\n",
    "\n",
    "result = 0\n",
    "\n",
    "while True:\n",
    "    # N이 K로 나누어 떨어지는 수가 될 때까지 빼기\n",
    "    target = (n // k) * k\n",
    "    result += (n - target)\n",
    "    n = target\n",
    "    \n",
    "    # N이 K보다 작을 때 (더 이상 나눌 수 없을 때) 반복문 탈출\n",
    "    if n < k:\n",
    "        break\n",
    "    \n",
    "    # K로 나누기 \n",
    "    result += 1\n",
    "    n //= K\n",
    "    \n",
    "# 마지막으로 남은 수에 대하여 1씩 빼기\n",
    "result += (n - 1)\n",
    "print(result)"
   ]
  },
  {
   "cell_type": "code",
   "execution_count": null,
   "id": "769a68be",
   "metadata": {},
   "outputs": [],
   "source": []
  },
  {
   "cell_type": "markdown",
   "id": "8bf95cf5",
   "metadata": {},
   "source": [
    "### <문제> 곱하기 혹은 더하기 : 문제 설명\n",
    "\n",
    "- 각 자리 숫자가(0~9)로만 이루어진 문자열 S가 주어졌을 때, 왼쪽부터 오른쪽으로 하나씩 모든 숫자를 확인하며 숫자 사이에 x 혹은 + 연산자를 넣어 결과적으로 만들어질 수 있는 가장 큰 수를 구하는 프로그램을 작성하세요\n",
    "\n",
    "- 모든 연산은 왼쪽에서부터 순서대로 이루어진다고 가정\n",
    "\n",
    "- 02984라는 문자열로 만들 수 있는 가장 큰 수는 ((((0+2) * 9) * 8) * 4) = 576\n",
    "- 만들어질 수 있는 가장 큰 수는 항상 20억 이하의 정수가 되도록 "
   ]
  },
  {
   "cell_type": "code",
   "execution_count": 118,
   "id": "e96102e6",
   "metadata": {},
   "outputs": [
    {
     "name": "stdout",
     "output_type": "stream",
     "text": [
      "576\n"
     ]
    }
   ],
   "source": [
    "# 내 풀이 \n",
    "S = \"02984\"\n",
    "\n",
    "# 문자열을 한 글자씩 끊어서 정수형 리스트로\n",
    "s_list = list(map(int, list(S)))\n",
    "\n",
    "result = s_list[0]\n",
    "\n",
    "for i in range(1, len(s_list)):\n",
    "    num = s_list[i]\n",
    "    \n",
    "    if num <= 1 or result <= 1:\n",
    "        result += num\n",
    "\n",
    "    else:  \n",
    "        result *= num\n",
    "        \n",
    "print(result)"
   ]
  },
  {
   "cell_type": "markdown",
   "id": "3e40cfc7",
   "metadata": {},
   "source": [
    "<문제 해결 아이디어>\n",
    "- 대부분의 경우 + 보다 x가 더 값을 크게 만든다.\n",
    "- 다만 두 수 중에서 하나라도 '0' 혹은 '1'인 경우, 곱하기보다 더하기를 하는게 효율적\n",
    "- 두 수에 대하여 연산을 수행할 때, 두 수 중에서 하나라도 1이하인 경우에는 더하기, 2 이상인 경우에는 곱하기"
   ]
  },
  {
   "cell_type": "code",
   "execution_count": null,
   "id": "c3daee39",
   "metadata": {},
   "outputs": [],
   "source": []
  },
  {
   "cell_type": "markdown",
   "id": "94ff1471",
   "metadata": {},
   "source": [
    "### <문제> 모험가 길드\n",
    "\n",
    "- 한 마을에 모험가가 N명 있습니다. 모험가 길드에서는 N명의 모험가를 대상으로 '공포도'를 측정했는데, '공포도'가 높은 모험가는 쉽게 공포를 느껴 위험 상황에서 제대로 대처할 능력이 떨어집니다. \n",
    "- 모험가 길드장인 동빈이는 모험가 그룹을 안전하게 구성하고자 공포도가 X인 모험가는 반드시 X명 이상으로 구성한 모험가 그룹에 참여해야 여행을 떠날 수 있도록 규정했습니다. \n",
    "- 동빈이는 최대 몇 개의 모험가 그룹을 만들 수 있는지 궁금합니다. N명의 모험가에 대한 정보가 주어졌을 때, 여행을 떠날 수 있는 그룹 수의 최댓값을 구하는 프로그램을 작성하세요\n"
   ]
  },
  {
   "cell_type": "markdown",
   "id": "5bacc285",
   "metadata": {},
   "source": [
    "- ex) N = 5, 각 모험가의 공포도 = 2 3 1 2 2\n",
    "- 이 경우 그룹 1에 공포도가 1,2,3인 모험가를 한 명식 넣고, \n",
    "- 그룹 2에 공포도가 2인 남은 두명을 넣게 되면 총 2개의 그룹을 만들 수 있음\n",
    "- 또한 몇 명의 모험가는 마을에 그대로 남아 있어도 되기 때문에, 모든 모험가를 특정한 그룹에 넣을 필요는 없음 "
   ]
  },
  {
   "cell_type": "markdown",
   "id": "5f9b6790",
   "metadata": {},
   "source": [
    "<문제 조건>\n",
    "\n",
    "입력 조건\n",
    "- 첫째 줄에 모험가의 수 N이 주어집니다.\n",
    "- 둘째 줄에 각 모험가의 공포도 값을 N 이하의 자연수로 주어지며, 각 자연수는 공백으로 구분\n",
    "\n",
    "출력\n",
    "- 여행을 떠날 수 있는 그룹 수의 최댓값을 출력"
   ]
  },
  {
   "cell_type": "markdown",
   "id": "b0517836",
   "metadata": {},
   "source": [
    "<문제 해결 아이디어>\n",
    "\n",
    "- 오름차순 정렬 이후에 공포도가 가장 낮은 모험가부터 하나씩 확인\n",
    "- 앞에서 부터 공포도를 하나씩 확인하며 '현재 그룹에 포함된 모험가의 수'가 '현재 확인하고 있는 공포도'보다 크거나 같다면 이를 그룹으로 설정\n",
    "- 이 방법을 이용하면 공포도가 오름차순으로 정렬되어 있는 점에서, 항상 최소한의 모험가의 수만 포함하여 그룹을 결성"
   ]
  },
  {
   "cell_type": "code",
   "execution_count": 18,
   "id": "bb15cad2",
   "metadata": {},
   "outputs": [
    {
     "name": "stdout",
     "output_type": "stream",
     "text": [
      "5\n",
      "2 3 1 2 2\n"
     ]
    }
   ],
   "source": [
    "n = int(input())\n",
    "data = list(map(int, input().split()))"
   ]
  },
  {
   "cell_type": "code",
   "execution_count": 19,
   "id": "9d344a60",
   "metadata": {},
   "outputs": [
    {
     "name": "stdout",
     "output_type": "stream",
     "text": [
      "2\n"
     ]
    }
   ],
   "source": [
    "data.sort()\n",
    "\n",
    "result = 0 # 총 그룹의 수\n",
    "count = 0 # 현재 그룹에 포함된 모험가의 수\n",
    "\n",
    "for i in data:\n",
    "    count += 1 # 현재 그룹에 해당 모험가를 포함시키기\n",
    "    \n",
    "    if count >= i: # 현재 그룹에 포함된 모험가의 수가 현재의 공포도 이상이라면, 그룹 결성\n",
    "        result += 1 # 총 그룹의 수 증가시키기\n",
    "        count = 0 # 현재 그룹에 포함된 모험가의 수 초기화\n",
    "\n",
    "print(result)\n",
    "    "
   ]
  },
  {
   "cell_type": "code",
   "execution_count": null,
   "id": "b9322eba",
   "metadata": {},
   "outputs": [],
   "source": []
  },
  {
   "cell_type": "markdown",
   "id": "f850f281",
   "metadata": {},
   "source": [
    "## 구현(implementation) \n",
    "\n",
    "- 머릿속에 있는 알고리즘을 소스코드로 바꾸는 과정\n",
    "- 구현 유형의 문제 : 풀이를 떠올리는 것은 쉽지만 소스코드로 옮기기 어려운 문제\n",
    "\n",
    "- ex) \n",
    "- 알고리즘은 간단한데 코드가 지나칠 만큼 길어지는 문제\n",
    "- 실수 연산을 다루고, 특정 소수점 자리까지 출력해야 하는 문제 \n",
    "- **문자열을 특정한 기준에 따라서 끊어 처리해야 하는 문제**\n",
    "- 적절한 라이브러리를 찾아서 사용해야 하는 문제"
   ]
  },
  {
   "cell_type": "markdown",
   "id": "95c98aa7",
   "metadata": {},
   "source": [
    "- 일반적으로 알고리즘 문제에서의 2차원 공간은 행렬(Matrix)의 의미로 사용"
   ]
  },
  {
   "cell_type": "code",
   "execution_count": 26,
   "id": "31ee81e5",
   "metadata": {},
   "outputs": [
    {
     "name": "stdout",
     "output_type": "stream",
     "text": [
      "(0,0) (0,1) (0,2) (0,3) (0,4) \n",
      "(1,0) (1,1) (1,2) (1,3) (1,4) \n",
      "(2,0) (2,1) (2,2) (2,3) (2,4) \n",
      "(3,0) (3,1) (3,2) (3,3) (3,4) \n",
      "(4,0) (4,1) (4,2) (4,3) (4,4) \n"
     ]
    }
   ],
   "source": [
    "for i in range(5):\n",
    "    for j in range(5):\n",
    "        print(\"(\" + str(i) + \",\" + str(j) + \")\", end= ' ')\n",
    "    print()"
   ]
  },
  {
   "cell_type": "markdown",
   "id": "194f4c30",
   "metadata": {},
   "source": [
    "- 시뮬레이션 및 완전 탐색 문제에서는 2차원 공간에서의 방향 벡터가 자주 사용"
   ]
  },
  {
   "cell_type": "code",
   "execution_count": 28,
   "id": "cf57088a",
   "metadata": {},
   "outputs": [
    {
     "name": "stdout",
     "output_type": "stream",
     "text": [
      "2 3\n",
      "1 2\n",
      "2 1\n",
      "3 2\n"
     ]
    }
   ],
   "source": [
    "# 동, 북, 서, 남\n",
    "dx = [0, -1, 0, 1] # 행 세로\n",
    "dy = [1, 0, -1, 0] # 열 가로\n",
    "\n",
    "# 현재 위치 \n",
    "x, y = 2, 2\n",
    "\n",
    "for i in range(4):\n",
    "    # 다음 위치\n",
    "    nx = x + dx[i]\n",
    "    ny = y + dy[i]\n",
    "    print(nx, ny)"
   ]
  },
  {
   "cell_type": "code",
   "execution_count": null,
   "id": "b6150a92",
   "metadata": {},
   "outputs": [],
   "source": []
  },
  {
   "cell_type": "markdown",
   "id": "3e92e260",
   "metadata": {},
   "source": [
    "### <문제> 상하좌우\n",
    "\n",
    "- 여행가 A는 NxN 크기의 정사각형 공간 위에 서 있습니다. 이 공간은 1x1 크기의 정사각형으로 나누어져 있습니다. 가장 왼쪽 위 좌표는 (1,1)이며, 가장 오른쪽 아래 좌표는 (N,N)에 해당합니다. 여행가 A는 상,하,좌,우 방향으로 이동할 수 있으며, 시작 좌표는 항상 (1,1)입니다. 우리 앞에는 여행가 A가 이동할 계획이 적힌 계획서가 놓여 있습니다. \n",
    "\n",
    "- 계획서에는 하나의 줄에 띄어쓰기를 기준으로 하여 L,R,U,D 중 하나의 문자가 반복적으로 적혀 있습니다. 각 문자의 의미는 다음과 같습니다. \n",
    "\n",
    "- L : 왼쪽으로 한 칸\n",
    "- R : 오른쪽으로 한 칸\n",
    "- U : 위로 한 칸\n",
    "- D : 아래로 한 칸"
   ]
  },
  {
   "cell_type": "markdown",
   "id": "67ed78a2",
   "metadata": {},
   "source": [
    "- 이때 여행가 A가 NxN 크기의 정사각형 공간을 벗어나는 움직임은 무시됩니다. \n",
    "- 예를 들어 (1,1)의 위치에서 L 혹은, U를 만나면 무시\n",
    "- 다음은 N = 5인 지도와 계획서 \n",
    "\n",
    "- R -> R -> U -> D -> D"
   ]
  },
  {
   "cell_type": "markdown",
   "id": "0c8e37a6",
   "metadata": {},
   "source": [
    "<문제 조건>\n",
    "\n",
    "입력 조건\n",
    "- 첫째 줄에 공간의 크기를 나타내는 N이 주어집니다. \n",
    "- 둘째 줄에 여행가 A가 이동할 계획서 내용이 주어짐\n",
    "\n",
    "출력 조건\n",
    "- 첫째 줄에 여행가 A가 최종적으로 도착할 지점의 자표 (X, Y)를 공백 기준으로 구분하여 출력\n"
   ]
  },
  {
   "cell_type": "code",
   "execution_count": 29,
   "id": "3d6800c2",
   "metadata": {},
   "outputs": [
    {
     "name": "stdout",
     "output_type": "stream",
     "text": [
      "5\n",
      "R R R U D D\n"
     ]
    }
   ],
   "source": [
    "# 내 풀이\n",
    "n = int(input())\n",
    "s = list(map(str, input().split()))"
   ]
  },
  {
   "cell_type": "code",
   "execution_count": 30,
   "id": "ecf2aa69",
   "metadata": {},
   "outputs": [
    {
     "data": {
      "text/plain": [
       "['R', 'R', 'R', 'U', 'D', 'D']"
      ]
     },
     "execution_count": 30,
     "metadata": {},
     "output_type": "execute_result"
    }
   ],
   "source": [
    "s"
   ]
  },
  {
   "cell_type": "code",
   "execution_count": 49,
   "id": "f94f09dd",
   "metadata": {},
   "outputs": [
    {
     "name": "stdout",
     "output_type": "stream",
     "text": [
      "3 4  0.00059 sec\n"
     ]
    }
   ],
   "source": [
    "import time\n",
    "\n",
    "start = time.time()\n",
    "\n",
    "# 동, 북, 서, 남\n",
    "dx = [0, -1, 0, 1] # 행 세로\n",
    "dy = [1, 0, -1, 0] # 열 가로\n",
    "\n",
    "# 현재 위치 \n",
    "x, y = 1, 1\n",
    "  \n",
    "for g in s:\n",
    "    # print(g)\n",
    "    if (g == 'R') and (y < 5) and (x >= 1):\n",
    "        x = x + dx[0]\n",
    "        y = y + dy[0]\n",
    "    if (g == 'L') and (y >= 5) and (y > 1):\n",
    "        x = x + dx[2]\n",
    "        y = y + dy[2]\n",
    "    if (g == 'U') and (x <= 5) and (x > 1):\n",
    "        x = x + dx[1]\n",
    "        y = y + dy[1]\n",
    "    if (g == 'D') and (x < 5) and (x >= 1):\n",
    "        x = x + dx[3]\n",
    "        y = y + dy[3]\n",
    "    # print(x, y)\n",
    "print(x, y, end=' ')\n",
    "\n",
    "end = time.time()\n",
    "\n",
    "print(f\"{end - start: .5f} sec\")"
   ]
  },
  {
   "cell_type": "code",
   "execution_count": 48,
   "id": "f0492748",
   "metadata": {},
   "outputs": [
    {
     "name": "stdout",
     "output_type": "stream",
     "text": [
      "5\n",
      "R R R U D D\n",
      "3 4\n"
     ]
    }
   ],
   "source": [
    "# 풀이\n",
    "n = int(input())\n",
    "x, y = 1, 1\n",
    "plans = list(map(str, input().split()))\n",
    "\n",
    "# L, R, U, D에 따른 이동 방향\n",
    "dx = [0, 0, -1, 1]\n",
    "dy = [-1, 1, 0, 0]\n",
    "move_types = ['L', 'R', 'U', 'D']\n",
    "\n",
    "# 이동 계획 하나씩 확인\n",
    "for plan in plans:\n",
    "    # 이동 후 좌표 구하기 \n",
    "    for i in range(len(move_types)):\n",
    "        if plan == move_types[i]:\n",
    "            nx = x + dx[i]\n",
    "            ny = y + dy[i]\n",
    "            \n",
    "    # 공간을 벗어나는 경우 무시\n",
    "    if nx < 1 or ny < 1 or nx > n or ny > n:\n",
    "        continue\n",
    "    \n",
    "    # 이동 수행\n",
    "    x, y = nx, ny\n",
    "    \n",
    "print(x, y)"
   ]
  },
  {
   "cell_type": "code",
   "execution_count": null,
   "id": "c86fe4cd",
   "metadata": {},
   "outputs": [],
   "source": []
  },
  {
   "cell_type": "markdown",
   "id": "b71ba61b",
   "metadata": {},
   "source": [
    "### <문제>  시각 \n",
    "\n",
    "- 정수 N이 입력되면 00시 00분 00초부터 N시 59분 59초까지의 모든 시각 중에서 3이 하나라도 포함되는 모든 경우의 수를 구하는 프로그램을 작성하세요.\n",
    "- 예를 들어 1을 입력했을 때, 다음은 3이 하나라도 포함되어 있으므로 세어야 하는 시각입니다.\n",
    "\n",
    "- 00시 00분 03초\n",
    "- 00시 13분 30초\n",
    "\n",
    "- 반면에 다음은 3이 하나도 포함되어 있지 않으므로 세면 안 되는 시각입니다.\n",
    "\n",
    "- 00시 02분 55초\n",
    "- 01시 27분 45초"
   ]
  },
  {
   "cell_type": "markdown",
   "id": "c2acfe5f",
   "metadata": {},
   "source": [
    "<문제 조건>\n",
    "\n",
    "입력 조건\n",
    "- 첫째 줄에 정수 N 입력\n",
    "\n",
    "출력 조건\n",
    "- 00시 00분 00초부터 N시 59분 59초까지의 모든 시각 중에서 3이 하나라도 포함되는 모든 경우의 수를 출력"
   ]
  },
  {
   "cell_type": "markdown",
   "id": "e069bb32",
   "metadata": {},
   "source": [
    "<문제 해결 아이디어>\n",
    "\n",
    "- 가능한 모든 시각의 경우를 하나씩 모두 세서 풀 수 있는 문제\n",
    "- 하루는 86,400초 이므로, 00시 00분 00초 부터 23시 59분 59초까지의 모든 경우는 86,400가지\n",
    "- 24 * 60 * 60\n",
    "\n",
    "- 단순히 시각을 1씩 증가시키면서 3이 하나라도 포함되어 있는지 확인\n",
    "- 완전 탐색 문제 유형(Brute Forcing) : 가능한 경우의 수를 모두 검사해보는 탐색 방법"
   ]
  },
  {
   "cell_type": "code",
   "execution_count": 64,
   "id": "152ec311",
   "metadata": {},
   "outputs": [
    {
     "name": "stdout",
     "output_type": "stream",
     "text": [
      "3\n",
      "13\n",
      "23\n",
      "30\n",
      "31\n",
      "32\n",
      "33\n",
      "34\n",
      "35\n",
      "36\n",
      "37\n",
      "38\n",
      "39\n",
      "43\n",
      "53\n",
      "1 15 15\n",
      "437893890380859375\n",
      " 0.00196\n"
     ]
    }
   ],
   "source": [
    "import time \n",
    "\n",
    "start = time.time()\n",
    "\n",
    "n = 5 \n",
    "\n",
    "hour_list = [str(i) for i in range(0, n)]\n",
    "minute_list = [str(i) for i in range(0, 59)]\n",
    "second_list = [str(i) for i in range(0, 59)]\n",
    "\n",
    "r1, r2, r3 = 0, 0, 0\n",
    "\n",
    "for hour in hour_list:\n",
    "    if '3' in hour:\n",
    "        r1 += 1\n",
    "        \n",
    "for minute in minute_list:\n",
    "    if '3' in minute:\n",
    "        print(minute)\n",
    "        r2 += 1\n",
    "        \n",
    "for second in second_list:\n",
    "    if '3' in second:\n",
    "        r3 += 1\n",
    "\n",
    "print(r1, r2, r3)\n",
    "                \n",
    "print(r1 * r2 ** r3)\n",
    "\n",
    "end = time.time()\n",
    "\n",
    "print(f\"{end - start : .5f}\")"
   ]
  },
  {
   "cell_type": "code",
   "execution_count": 65,
   "id": "f8f74b15",
   "metadata": {},
   "outputs": [
    {
     "name": "stdout",
     "output_type": "stream",
     "text": [
      "5\n",
      "11475\n"
     ]
    }
   ],
   "source": [
    "h = int(input())\n",
    "\n",
    "count = 0\n",
    "\n",
    "for i in range(h+1):\n",
    "    for j in range(60):\n",
    "        for k in range(60):\n",
    "            if '3' in str(i) + str(j) + str(k):\n",
    "                count += 1\n",
    "                \n",
    "print(count)"
   ]
  },
  {
   "cell_type": "code",
   "execution_count": null,
   "id": "0809c1f5",
   "metadata": {},
   "outputs": [],
   "source": []
  },
  {
   "cell_type": "markdown",
   "id": "017c072c",
   "metadata": {},
   "source": [
    "### <문제> 왕실의 나이트\n",
    "\n",
    "- 행복 왕국의 왕실 정원은 체스판과 같은 8x8 좌표 평면입니다. 왕실 정원의 특정한 한 칸에 나이트가 서 있습니다. 나이트는 매우 충성스러운 신하로서 매일 무술을 연마합니다. \n",
    "\n",
    "- 나이트는 말을 타고 있기 때문에 이동을 할 때는 L자 형태로만 이동할 수 있으며 정원 밖으로는 나갈 수 없습니다. \n",
    "\n",
    "- 나이트는 특정 위치에서 다음과 같은 2가지 경우로 이동할 수 있습니다. \n",
    "    1. 수평으로 두 칸 이동한 뒤에 수직으로 한 칸 이동하기\n",
    "    2. 수직으로 두 칸 이동한 뒤에 수평으로 한 칸 이동하기 \n",
    "    \n",
    "- 이처럼 8x8 좌표 평면상에서 나이트의 위치가 주어졌을 때 나이트가 이동할 수 있는 경우의 수를 출력하는 프로그램을 작성하세요. 왕실의 정원에서 행 위치를 표현할 때는 1부터 8로 표현하며, 열 위치를 표현할 때는 a부터 h로 표현합니다. \n",
    "    - c2에 있을 때 이동할 수 있는 경우의 수는 6가지 입니다. \n",
    "    \n",
    "(시뮬레이션, 완전탐색, 구현)"
   ]
  },
  {
   "cell_type": "markdown",
   "id": "0a3c043d",
   "metadata": {},
   "source": [
    "<문제 조건>\n",
    "\n",
    "입력 조건\n",
    "- 첫째 줄에 8x8 좌표 평면상에서 현재 나이트가 위치한 곳의 좌표를 나타내는 두 문자로 구성된 문자열이 입력된다. 입력 문자는 a1처럼 열과 행으로 이뤄진다. \n",
    "\n",
    "출력 조건\n",
    "- 첫째 줄에 나이트가 이동할 수 있는 경우의 수를 출력하시오\n",
    "\n",
    "ex) 입력 : a1 / 출력 : 2"
   ]
  },
  {
   "cell_type": "markdown",
   "id": "041dd03b",
   "metadata": {},
   "source": [
    "<문제 해결 아이디어>\n",
    "\n",
    "- 요구사항대로 충실히 구현하면 되는 문제\n",
    "- 나이트의 8가지 경로를 하나씩 확인하며 각 위치로 이동이 가능한지 확인\n",
    "    - 리스트를 이용하여 8가지 방향 벡터를 정의"
   ]
  },
  {
   "cell_type": "code",
   "execution_count": 117,
   "id": "3fef4a5e",
   "metadata": {},
   "outputs": [
    {
     "name": "stdout",
     "output_type": "stream",
     "text": [
      "a1\n"
     ]
    }
   ],
   "source": [
    "s = (input())"
   ]
  },
  {
   "cell_type": "code",
   "execution_count": 118,
   "id": "ef9a3e74",
   "metadata": {},
   "outputs": [],
   "source": [
    "a_col = ord(s[0]) - int(ord('a')) + 1\n",
    "a_row = int(s[1])"
   ]
  },
  {
   "cell_type": "code",
   "execution_count": 119,
   "id": "a9d5b19d",
   "metadata": {},
   "outputs": [
    {
     "data": {
      "text/plain": [
       "1"
      ]
     },
     "execution_count": 119,
     "metadata": {},
     "output_type": "execute_result"
    }
   ],
   "source": [
    "ascill_col"
   ]
  },
  {
   "cell_type": "code",
   "execution_count": 120,
   "id": "273037d8",
   "metadata": {},
   "outputs": [
    {
     "data": {
      "text/plain": [
       "-2"
      ]
     },
     "execution_count": 120,
     "metadata": {},
     "output_type": "execute_result"
    }
   ],
   "source": [
    "steps = [(-2, -1), (-1, -2), (1, -2), (2, -1), (2, 1), (1, 2), (-1, 2), (-2, 1)]\n",
    "step[0]"
   ]
  },
  {
   "cell_type": "code",
   "execution_count": 121,
   "id": "08dd3a47",
   "metadata": {},
   "outputs": [
    {
     "name": "stdout",
     "output_type": "stream",
     "text": [
      "2\n"
     ]
    }
   ],
   "source": [
    "result =0 \n",
    "\n",
    "for step in steps:\n",
    "    next_row = a_row + step[0]\n",
    "    next_col = a_col + step[1]\n",
    "    \n",
    "    if next_row >= 1 and next_row <= 8 and next_col >= 1 and next_col <= 8:\n",
    "        result += 1\n",
    "        \n",
    "print(result)"
   ]
  },
  {
   "cell_type": "code",
   "execution_count": null,
   "id": "eea00f5c",
   "metadata": {},
   "outputs": [],
   "source": []
  },
  {
   "cell_type": "markdown",
   "id": "bd675324",
   "metadata": {},
   "source": [
    "### <문자열 재정렬>\n",
    "\n",
    "- 알파벳 대문자와 숫자(0~9)로만 구성된 문자열이 입력으로 주어집니다. 이때 모든 알파벳을 오름차순으로 정렬하여 이어서 출력한 뒤에, 그 뒤에 모든 숫자를 더한 값을 이어서 출력합니다. \n",
    "\n",
    "- ex) K1KA5CB7 -> ABCKK13"
   ]
  },
  {
   "cell_type": "markdown",
   "id": "8f8e2298",
   "metadata": {},
   "source": [
    "<문제 조건>\n",
    "\n",
    "입력 조건\n",
    "- 첫째 줄에 하나의 문자열 S가 주어짐\n",
    "\n",
    "출력 조건\n",
    "- 첫째 줄에 문제에서 요구하는 정답 출력\n"
   ]
  },
  {
   "cell_type": "code",
   "execution_count": 224,
   "id": "cb364cd2",
   "metadata": {},
   "outputs": [
    {
     "name": "stdout",
     "output_type": "stream",
     "text": [
      "K1KA5CB7\n"
     ]
    }
   ],
   "source": [
    "# 내 풀이\n",
    "s = list(input())"
   ]
  },
  {
   "cell_type": "code",
   "execution_count": 225,
   "id": "7d7c2824",
   "metadata": {},
   "outputs": [
    {
     "data": {
      "text/plain": [
       "['1', '5', '7', 'A', 'B', 'C', 'K', 'K']"
      ]
     },
     "execution_count": 225,
     "metadata": {},
     "output_type": "execute_result"
    }
   ],
   "source": [
    "s.sort()\n",
    "s"
   ]
  },
  {
   "cell_type": "code",
   "execution_count": 234,
   "id": "619fea67",
   "metadata": {},
   "outputs": [
    {
     "name": "stdout",
     "output_type": "stream",
     "text": [
      "1\n",
      "5\n",
      "7\n",
      "A\n",
      "B\n",
      "C\n",
      "K\n",
      "K\n"
     ]
    }
   ],
   "source": [
    "s = list(\"K1KA5CB7\")\n",
    "s.sort()\n",
    "\n",
    "n = 0\n",
    "result = []\n",
    "\n",
    "for i in s:\n",
    "    print(i)\n",
    "    if ord(i) >= 65 and ord(i) <= 90:\n",
    "        result.append(i)\n",
    "        # continue\n",
    "        \n",
    "    elif ord(i) >= 48 and ord(i) <= 57:\n",
    "        n += int(s[s.index(i)])\n",
    "        # print(int(s[s.index(i)]))\n",
    "        \n",
    "result.append(str(n))"
   ]
  },
  {
   "cell_type": "code",
   "execution_count": 235,
   "id": "dc87f15a",
   "metadata": {},
   "outputs": [
    {
     "data": {
      "text/plain": [
       "'ABCKK13'"
      ]
     },
     "execution_count": 235,
     "metadata": {},
     "output_type": "execute_result"
    }
   ],
   "source": [
    "result = ''.join(result)\n",
    "result"
   ]
  },
  {
   "cell_type": "code",
   "execution_count": null,
   "id": "1fd2958b",
   "metadata": {},
   "outputs": [],
   "source": []
  },
  {
   "cell_type": "markdown",
   "id": "fdf9576c",
   "metadata": {},
   "source": [
    "<문제 해결 아이디어>\n",
    "- 문자열이 입력되었을 때 문자를 하나씩 확인\n",
    "    - 숫자인 경우 따로 합계 계산\n",
    "    - 알파벳의 경우 별도의 리스트로 저장\n",
    "    \n",
    "- 결과적으로 리스트에 저장된 알파벳을 정렬해 출력하고, 합계를 뒤에 붙여 출력하면 정답"
   ]
  },
  {
   "cell_type": "code",
   "execution_count": 239,
   "id": "87237d00",
   "metadata": {},
   "outputs": [
    {
     "name": "stdout",
     "output_type": "stream",
     "text": [
      "K1KA5CB7\n"
     ]
    },
    {
     "data": {
      "text/plain": [
       "'ABCKK13'"
      ]
     },
     "execution_count": 239,
     "metadata": {},
     "output_type": "execute_result"
    }
   ],
   "source": [
    "data = input()\n",
    "result = []\n",
    "value = 0\n",
    "\n",
    "# 문자를 하나씩 확인\n",
    "for x in data:\n",
    "    # 알파벳인 경우 결과 리스트에 삽입\n",
    "    if x.isalpha():\n",
    "        result.append(x)\n",
    "        \n",
    "    # 숫자인 경우\n",
    "    else:\n",
    "        value += int(x)\n",
    "        \n",
    "# 알파벳을 오름차순으로 정렬\n",
    "result.sort()\n",
    "\n",
    "# 숫자가 하나라도 존재하는 경우 가장 뒤에 삽입\n",
    "if value != 0:\n",
    "    result.append(str(value))\n",
    "    \n",
    "\n",
    "# 최종 결과 출력(리스트를 문자열로 변환하여 출력)\n",
    "''.join(result)"
   ]
  },
  {
   "cell_type": "code",
   "execution_count": null,
   "id": "80b8072f",
   "metadata": {},
   "outputs": [],
   "source": []
  }
 ],
 "metadata": {
  "kernelspec": {
   "display_name": "Python 3",
   "language": "python",
   "name": "python3"
  },
  "language_info": {
   "codemirror_mode": {
    "name": "ipython",
    "version": 3
   },
   "file_extension": ".py",
   "mimetype": "text/x-python",
   "name": "python",
   "nbconvert_exporter": "python",
   "pygments_lexer": "ipython3",
   "version": "3.8.10"
  }
 },
 "nbformat": 4,
 "nbformat_minor": 5
}
