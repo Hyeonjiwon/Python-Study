{
 "cells": [
  {
   "cell_type": "markdown",
   "id": "8a083451",
   "metadata": {},
   "source": [
    "동빈나 : 3. DFS / BFS https://youtu.be/7C9RgOcvkvo"
   ]
  },
  {
   "cell_type": "markdown",
   "id": "fd7dd310",
   "metadata": {},
   "source": [
    "## 그래프 탐색 알고리즘 : DFS/BFS\n",
    "\n",
    "- 탐색(Search)이란 많은 양의 데이터 중에서 **원하는 데이터를 찾는 과정**\n",
    "- 대표적인 그래프 탐색 알고리즘으로는 DFS 와 BFS가 있다.\n",
    "- **DFS/BFS는 코딩 테스트에서 매우 자주 등장하는 유형**이므로 반드시 숙지 해야함!!"
   ]
  },
  {
   "cell_type": "markdown",
   "id": "e1e263a7",
   "metadata": {},
   "source": [
    "## 스택 자료구조\n",
    "\n",
    "- 먼저 들어 온 데이터가 나중에 나가는 형식(선입후출)의 자료구조\n",
    "- 입구와 출구가 동일한 형태\n",
    "- 삽입, 삭제 연산\n",
    "- 시간복잡도 상수"
   ]
  },
  {
   "cell_type": "code",
   "execution_count": 2,
   "id": "b7954551",
   "metadata": {},
   "outputs": [
    {
     "name": "stdout",
     "output_type": "stream",
     "text": [
      "[1, 3, 2, 5]\n",
      "[5, 2, 3, 1]\n"
     ]
    }
   ],
   "source": [
    "# 스택 구현 예제\n",
    "\n",
    "stack = []\n",
    "\n",
    "stack.append(5)\n",
    "stack.append(2)\n",
    "stack.append(3)\n",
    "stack.append(7)\n",
    "stack.pop()\n",
    "stack.append(1)\n",
    "stack.append(4)\n",
    "stack.pop()\n",
    "\n",
    "print(stack[::-1]) # 최상단 원소부터 출력\n",
    "print(stack) # 최하단 원소부터 출력"
   ]
  },
  {
   "cell_type": "markdown",
   "id": "eacacfd8",
   "metadata": {},
   "source": [
    "## 큐 자료구조\n",
    "\n",
    "- 먼저 들어 온 데이터가 먼저 나가는 형식(선인선출)의 자료구조\n",
    "- 큐는 입구와 출구가 모두 뚫려 있는 터널과 같은 형태\n",
    "\n",
    "- deque를 이용해서 구현!! -> 시간복잡도 상수"
   ]
  },
  {
   "cell_type": "code",
   "execution_count": 4,
   "id": "b1f5f22c",
   "metadata": {},
   "outputs": [
    {
     "name": "stdout",
     "output_type": "stream",
     "text": [
      "deque([3, 7, 1, 4])\n",
      "deque([4, 1, 7, 3])\n"
     ]
    }
   ],
   "source": [
    "# 큐 구현 예제\n",
    "from collections import deque\n",
    "\n",
    "# 큐(Queue) 구현을 위해 deque 라이브러리 사용\n",
    "queue = deque()\n",
    "\n",
    "queue.append(5)\n",
    "queue.append(2)\n",
    "queue.append(3)\n",
    "queue.append(7)\n",
    "queue.popleft()\n",
    "queue.append(1)\n",
    "queue.append(4)\n",
    "queue.popleft()\n",
    "\n",
    "print(queue) # 먼저 들어온 순서대로 출력\n",
    "queue.reverse() # 역순으로 바꾸기\n",
    "print(queue) # 나중에 들어온 원소부터 출력"
   ]
  },
  {
   "cell_type": "markdown",
   "id": "366fe39f",
   "metadata": {},
   "source": [
    "## 재귀함수\n",
    "\n",
    "- 재귀함수(Recursive Function)란 **자기 자신을 다시 호출하는 함수**를 의미\n"
   ]
  },
  {
   "cell_type": "code",
   "execution_count": 6,
   "id": "31e04ec8",
   "metadata": {},
   "outputs": [],
   "source": [
    "# 단순한 형태의 재귀 함수 : python 에서는 깊이 제한이 있음\n",
    "def recursive_function():\n",
    "    print(\"재귀 함수를 호출합니다.\")\n",
    "    recursive_function()"
   ]
  },
  {
   "cell_type": "markdown",
   "id": "7239f2f7",
   "metadata": {},
   "source": [
    "recursive_function()"
   ]
  },
  {
   "cell_type": "markdown",
   "id": "8f3ad9d2",
   "metadata": {},
   "source": [
    "- 재귀 함수를 문제 풀이에서 사용할 때는 재귀 함수의 종료 조건을 반드시 명시해야 함\n",
    "- 종료 조건을 제대로 명시하지 않으면 함수가 무한히 호출될 수 있음"
   ]
  },
  {
   "cell_type": "code",
   "execution_count": 9,
   "id": "5d253991",
   "metadata": {},
   "outputs": [
    {
     "name": "stdout",
     "output_type": "stream",
     "text": [
      "1 번째 재귀함수에서 2 번째 재귀함수를 호출합니다.\n",
      "2 번째 재귀함수에서 3 번째 재귀함수를 호출합니다.\n",
      "3 번째 재귀함수에서 4 번째 재귀함수를 호출합니다.\n",
      "4 번째 재귀함수에서 5 번째 재귀함수를 호출합니다.\n",
      "5 번째 재귀함수에서 6 번째 재귀함수를 호출합니다.\n",
      "6 번째 재귀함수에서 7 번째 재귀함수를 호출합니다.\n",
      "7 번째 재귀함수에서 8 번째 재귀함수를 호출합니다.\n",
      "8 번째 재귀함수에서 9 번째 재귀함수를 호출합니다.\n",
      "9 번째 재귀함수에서 10 번째 재귀함수를 호출합니다.\n",
      "10 번째 재귀함수에서 11 번째 재귀함수를 호출합니다.\n",
      "11 번째 재귀함수에서 12 번째 재귀함수를 호출합니다.\n",
      "12 번째 재귀함수에서 13 번째 재귀함수를 호출합니다.\n",
      "13 번째 재귀함수에서 14 번째 재귀함수를 호출합니다.\n",
      "14 번째 재귀함수에서 15 번째 재귀함수를 호출합니다.\n",
      "15 번째 재귀함수에서 16 번째 재귀함수를 호출합니다.\n",
      "16 번째 재귀함수에서 17 번째 재귀함수를 호출합니다.\n",
      "17 번째 재귀함수에서 18 번째 재귀함수를 호출합니다.\n",
      "18 번째 재귀함수에서 19 번째 재귀함수를 호출합니다.\n",
      "19 번째 재귀함수에서 20 번째 재귀함수를 호출합니다.\n",
      "20 번째 재귀함수에서 21 번째 재귀함수를 호출합니다.\n",
      "21 번째 재귀함수에서 22 번째 재귀함수를 호출합니다.\n",
      "22 번째 재귀함수에서 23 번째 재귀함수를 호출합니다.\n",
      "23 번째 재귀함수에서 24 번째 재귀함수를 호출합니다.\n",
      "24 번째 재귀함수에서 25 번째 재귀함수를 호출합니다.\n",
      "25 번째 재귀함수에서 26 번째 재귀함수를 호출합니다.\n",
      "26 번째 재귀함수에서 27 번째 재귀함수를 호출합니다.\n",
      "27 번째 재귀함수에서 28 번째 재귀함수를 호출합니다.\n",
      "28 번째 재귀함수에서 29 번째 재귀함수를 호출합니다.\n",
      "29 번째 재귀함수에서 30 번째 재귀함수를 호출합니다.\n",
      "30 번째 재귀함수에서 31 번째 재귀함수를 호출합니다.\n",
      "31 번째 재귀함수에서 32 번째 재귀함수를 호출합니다.\n",
      "32 번째 재귀함수에서 33 번째 재귀함수를 호출합니다.\n",
      "33 번째 재귀함수에서 34 번째 재귀함수를 호출합니다.\n",
      "34 번째 재귀함수에서 35 번째 재귀함수를 호출합니다.\n",
      "35 번째 재귀함수에서 36 번째 재귀함수를 호출합니다.\n",
      "36 번째 재귀함수에서 37 번째 재귀함수를 호출합니다.\n",
      "37 번째 재귀함수에서 38 번째 재귀함수를 호출합니다.\n",
      "38 번째 재귀함수에서 39 번째 재귀함수를 호출합니다.\n",
      "39 번째 재귀함수에서 40 번째 재귀함수를 호출합니다.\n",
      "40 번째 재귀함수에서 41 번째 재귀함수를 호출합니다.\n",
      "41 번째 재귀함수에서 42 번째 재귀함수를 호출합니다.\n",
      "42 번째 재귀함수에서 43 번째 재귀함수를 호출합니다.\n",
      "43 번째 재귀함수에서 44 번째 재귀함수를 호출합니다.\n",
      "44 번째 재귀함수에서 45 번째 재귀함수를 호출합니다.\n",
      "45 번째 재귀함수에서 46 번째 재귀함수를 호출합니다.\n",
      "46 번째 재귀함수에서 47 번째 재귀함수를 호출합니다.\n",
      "47 번째 재귀함수에서 48 번째 재귀함수를 호출합니다.\n",
      "48 번째 재귀함수에서 49 번째 재귀함수를 호출합니다.\n",
      "49 번째 재귀함수에서 50 번째 재귀함수를 호출합니다.\n",
      "50 번째 재귀함수에서 51 번째 재귀함수를 호출합니다.\n",
      "51 번째 재귀함수에서 52 번째 재귀함수를 호출합니다.\n",
      "52 번째 재귀함수에서 53 번째 재귀함수를 호출합니다.\n",
      "53 번째 재귀함수에서 54 번째 재귀함수를 호출합니다.\n",
      "54 번째 재귀함수에서 55 번째 재귀함수를 호출합니다.\n",
      "55 번째 재귀함수에서 56 번째 재귀함수를 호출합니다.\n",
      "56 번째 재귀함수에서 57 번째 재귀함수를 호출합니다.\n",
      "57 번째 재귀함수에서 58 번째 재귀함수를 호출합니다.\n",
      "58 번째 재귀함수에서 59 번째 재귀함수를 호출합니다.\n",
      "59 번째 재귀함수에서 60 번째 재귀함수를 호출합니다.\n",
      "60 번째 재귀함수에서 61 번째 재귀함수를 호출합니다.\n",
      "61 번째 재귀함수에서 62 번째 재귀함수를 호출합니다.\n",
      "62 번째 재귀함수에서 63 번째 재귀함수를 호출합니다.\n",
      "63 번째 재귀함수에서 64 번째 재귀함수를 호출합니다.\n",
      "64 번째 재귀함수에서 65 번째 재귀함수를 호출합니다.\n",
      "65 번째 재귀함수에서 66 번째 재귀함수를 호출합니다.\n",
      "66 번째 재귀함수에서 67 번째 재귀함수를 호출합니다.\n",
      "67 번째 재귀함수에서 68 번째 재귀함수를 호출합니다.\n",
      "68 번째 재귀함수에서 69 번째 재귀함수를 호출합니다.\n",
      "69 번째 재귀함수에서 70 번째 재귀함수를 호출합니다.\n",
      "70 번째 재귀함수에서 71 번째 재귀함수를 호출합니다.\n",
      "71 번째 재귀함수에서 72 번째 재귀함수를 호출합니다.\n",
      "72 번째 재귀함수에서 73 번째 재귀함수를 호출합니다.\n",
      "73 번째 재귀함수에서 74 번째 재귀함수를 호출합니다.\n",
      "74 번째 재귀함수에서 75 번째 재귀함수를 호출합니다.\n",
      "75 번째 재귀함수에서 76 번째 재귀함수를 호출합니다.\n",
      "76 번째 재귀함수에서 77 번째 재귀함수를 호출합니다.\n",
      "77 번째 재귀함수에서 78 번째 재귀함수를 호출합니다.\n",
      "78 번째 재귀함수에서 79 번째 재귀함수를 호출합니다.\n",
      "79 번째 재귀함수에서 80 번째 재귀함수를 호출합니다.\n",
      "80 번째 재귀함수에서 81 번째 재귀함수를 호출합니다.\n",
      "81 번째 재귀함수에서 82 번째 재귀함수를 호출합니다.\n",
      "82 번째 재귀함수에서 83 번째 재귀함수를 호출합니다.\n",
      "83 번째 재귀함수에서 84 번째 재귀함수를 호출합니다.\n",
      "84 번째 재귀함수에서 85 번째 재귀함수를 호출합니다.\n",
      "85 번째 재귀함수에서 86 번째 재귀함수를 호출합니다.\n",
      "86 번째 재귀함수에서 87 번째 재귀함수를 호출합니다.\n",
      "87 번째 재귀함수에서 88 번째 재귀함수를 호출합니다.\n",
      "88 번째 재귀함수에서 89 번째 재귀함수를 호출합니다.\n",
      "89 번째 재귀함수에서 90 번째 재귀함수를 호출합니다.\n",
      "90 번째 재귀함수에서 91 번째 재귀함수를 호출합니다.\n",
      "91 번째 재귀함수에서 92 번째 재귀함수를 호출합니다.\n",
      "92 번째 재귀함수에서 93 번째 재귀함수를 호출합니다.\n",
      "93 번째 재귀함수에서 94 번째 재귀함수를 호출합니다.\n",
      "94 번째 재귀함수에서 95 번째 재귀함수를 호출합니다.\n",
      "95 번째 재귀함수에서 96 번째 재귀함수를 호출합니다.\n",
      "96 번째 재귀함수에서 97 번째 재귀함수를 호출합니다.\n",
      "97 번째 재귀함수에서 98 번째 재귀함수를 호출합니다.\n",
      "98 번째 재귀함수에서 99 번째 재귀함수를 호출합니다.\n",
      "99 번째 재귀함수에서 100 번째 재귀함수를 호출합니다.\n",
      "99 번째 재귀함수를 종료합니다.\n",
      "98 번째 재귀함수를 종료합니다.\n",
      "97 번째 재귀함수를 종료합니다.\n",
      "96 번째 재귀함수를 종료합니다.\n",
      "95 번째 재귀함수를 종료합니다.\n",
      "94 번째 재귀함수를 종료합니다.\n",
      "93 번째 재귀함수를 종료합니다.\n",
      "92 번째 재귀함수를 종료합니다.\n",
      "91 번째 재귀함수를 종료합니다.\n",
      "90 번째 재귀함수를 종료합니다.\n",
      "89 번째 재귀함수를 종료합니다.\n",
      "88 번째 재귀함수를 종료합니다.\n",
      "87 번째 재귀함수를 종료합니다.\n",
      "86 번째 재귀함수를 종료합니다.\n",
      "85 번째 재귀함수를 종료합니다.\n",
      "84 번째 재귀함수를 종료합니다.\n",
      "83 번째 재귀함수를 종료합니다.\n",
      "82 번째 재귀함수를 종료합니다.\n",
      "81 번째 재귀함수를 종료합니다.\n",
      "80 번째 재귀함수를 종료합니다.\n",
      "79 번째 재귀함수를 종료합니다.\n",
      "78 번째 재귀함수를 종료합니다.\n",
      "77 번째 재귀함수를 종료합니다.\n",
      "76 번째 재귀함수를 종료합니다.\n",
      "75 번째 재귀함수를 종료합니다.\n",
      "74 번째 재귀함수를 종료합니다.\n",
      "73 번째 재귀함수를 종료합니다.\n",
      "72 번째 재귀함수를 종료합니다.\n",
      "71 번째 재귀함수를 종료합니다.\n",
      "70 번째 재귀함수를 종료합니다.\n",
      "69 번째 재귀함수를 종료합니다.\n",
      "68 번째 재귀함수를 종료합니다.\n",
      "67 번째 재귀함수를 종료합니다.\n",
      "66 번째 재귀함수를 종료합니다.\n",
      "65 번째 재귀함수를 종료합니다.\n",
      "64 번째 재귀함수를 종료합니다.\n",
      "63 번째 재귀함수를 종료합니다.\n",
      "62 번째 재귀함수를 종료합니다.\n",
      "61 번째 재귀함수를 종료합니다.\n",
      "60 번째 재귀함수를 종료합니다.\n",
      "59 번째 재귀함수를 종료합니다.\n",
      "58 번째 재귀함수를 종료합니다.\n",
      "57 번째 재귀함수를 종료합니다.\n",
      "56 번째 재귀함수를 종료합니다.\n",
      "55 번째 재귀함수를 종료합니다.\n",
      "54 번째 재귀함수를 종료합니다.\n",
      "53 번째 재귀함수를 종료합니다.\n",
      "52 번째 재귀함수를 종료합니다.\n",
      "51 번째 재귀함수를 종료합니다.\n",
      "50 번째 재귀함수를 종료합니다.\n",
      "49 번째 재귀함수를 종료합니다.\n",
      "48 번째 재귀함수를 종료합니다.\n",
      "47 번째 재귀함수를 종료합니다.\n",
      "46 번째 재귀함수를 종료합니다.\n",
      "45 번째 재귀함수를 종료합니다.\n",
      "44 번째 재귀함수를 종료합니다.\n",
      "43 번째 재귀함수를 종료합니다.\n",
      "42 번째 재귀함수를 종료합니다.\n",
      "41 번째 재귀함수를 종료합니다.\n",
      "40 번째 재귀함수를 종료합니다.\n",
      "39 번째 재귀함수를 종료합니다.\n",
      "38 번째 재귀함수를 종료합니다.\n",
      "37 번째 재귀함수를 종료합니다.\n",
      "36 번째 재귀함수를 종료합니다.\n",
      "35 번째 재귀함수를 종료합니다.\n",
      "34 번째 재귀함수를 종료합니다.\n",
      "33 번째 재귀함수를 종료합니다.\n",
      "32 번째 재귀함수를 종료합니다.\n",
      "31 번째 재귀함수를 종료합니다.\n",
      "30 번째 재귀함수를 종료합니다.\n",
      "29 번째 재귀함수를 종료합니다.\n",
      "28 번째 재귀함수를 종료합니다.\n",
      "27 번째 재귀함수를 종료합니다.\n",
      "26 번째 재귀함수를 종료합니다.\n",
      "25 번째 재귀함수를 종료합니다.\n",
      "24 번째 재귀함수를 종료합니다.\n",
      "23 번째 재귀함수를 종료합니다.\n",
      "22 번째 재귀함수를 종료합니다.\n",
      "21 번째 재귀함수를 종료합니다.\n",
      "20 번째 재귀함수를 종료합니다.\n",
      "19 번째 재귀함수를 종료합니다.\n",
      "18 번째 재귀함수를 종료합니다.\n",
      "17 번째 재귀함수를 종료합니다.\n",
      "16 번째 재귀함수를 종료합니다.\n",
      "15 번째 재귀함수를 종료합니다.\n",
      "14 번째 재귀함수를 종료합니다.\n",
      "13 번째 재귀함수를 종료합니다.\n",
      "12 번째 재귀함수를 종료합니다.\n",
      "11 번째 재귀함수를 종료합니다.\n",
      "10 번째 재귀함수를 종료합니다.\n",
      "9 번째 재귀함수를 종료합니다.\n",
      "8 번째 재귀함수를 종료합니다.\n",
      "7 번째 재귀함수를 종료합니다.\n",
      "6 번째 재귀함수를 종료합니다.\n",
      "5 번째 재귀함수를 종료합니다.\n",
      "4 번째 재귀함수를 종료합니다.\n",
      "3 번째 재귀함수를 종료합니다.\n",
      "2 번째 재귀함수를 종료합니다.\n",
      "1 번째 재귀함수를 종료합니다.\n"
     ]
    }
   ],
   "source": [
    "# 종료 조건을 포함한 재귀 함수 예제\n",
    "def recursive_function(i):\n",
    "    # 100번째 호출을 했을 때 종료되도록 종료 조건 명시\n",
    "    if i == 100:\n",
    "        return\n",
    "    \n",
    "    print(i, \"번째 재귀함수에서\", i+1, \"번째 재귀함수를 호출합니다.\")\n",
    "    recursive_function(i+1)\n",
    "    print(i, \"번째 재귀함수를 종료합니다.\")\n",
    "    \n",
    "recursive_ㅠfunction(1)"
   ]
  },
  {
   "cell_type": "markdown",
   "id": "f69cf5ce",
   "metadata": {},
   "source": [
    "- 팩토리얼 구현 예제\n",
    "- n! = 1 * 2 * 3 * ... * (n-1) * n\n",
    "- 0! == 1! == 1"
   ]
  },
  {
   "cell_type": "code",
   "execution_count": 10,
   "id": "16542d5f",
   "metadata": {},
   "outputs": [],
   "source": [
    "# 반복적으로 구현한 n!\n",
    "def factorial_iterative(n):\n",
    "    result = 1\n",
    "    \n",
    "    # 1부터 n까지의 수를 차례대로 곱하기\n",
    "    for i in range(1, n+1):\n",
    "        result *= i\n",
    "        \n",
    "    return result"
   ]
  },
  {
   "cell_type": "code",
   "execution_count": 11,
   "id": "54c52360",
   "metadata": {},
   "outputs": [],
   "source": [
    "# 재귀적으로 구현한 n!\n",
    "def factorial_recursive(n):\n",
    "    # n이 1이하인 경우 그대로 1 반환\n",
    "    if n <= 1:\n",
    "        return 1\n",
    "    \n",
    "    return n * factorial_recursive(n-1)"
   ]
  },
  {
   "cell_type": "code",
   "execution_count": 12,
   "id": "e1029636",
   "metadata": {},
   "outputs": [
    {
     "name": "stdout",
     "output_type": "stream",
     "text": [
      "반복적 :  120\n",
      "재귀적 :  120\n"
     ]
    }
   ],
   "source": [
    "print(\"반복적 : \", factorial_iterative(5))\n",
    "print(\"재귀적 : \", factorial_recursive(5))"
   ]
  },
  {
   "cell_type": "markdown",
   "id": "e44cc81f",
   "metadata": {},
   "source": [
    "### 최대공약수 계산(유클리드 호제법)\n",
    "\n",
    "- 두 개의 자연수에 대한 최대공약수를 구하는 대표적인 알고리즘\n",
    "\n",
    "- 유클리드 호제법\n",
    "    - 두 자연수 A, B에 대하여(A>B) A를 B로 나눈 나머지를 R이라고 하면\n",
    "    - 이때 A와 B의 최대공약수는 B와 R의 최대공약수와 같다 \n",
    "    \n",
    "- ex) GDC(192, 162)\n",
    "1. A : 192, B : 162\n",
    "2. A : 162, B : 30\n",
    "3. A : 30, B : 12\n",
    "4. A : 12, B : 6"
   ]
  },
  {
   "cell_type": "code",
   "execution_count": 15,
   "id": "4f89dccd",
   "metadata": {},
   "outputs": [
    {
     "name": "stdout",
     "output_type": "stream",
     "text": [
      "6\n"
     ]
    }
   ],
   "source": [
    "# 유클리드 호제법\n",
    "def gdc(a, b):\n",
    "    if a % b == 0:\n",
    "        return b\n",
    "    else:\n",
    "        return gdc(b, a%b)\n",
    "    \n",
    "print(gdc(192, 162))"
   ]
  },
  {
   "cell_type": "markdown",
   "id": "9b313b37",
   "metadata": {},
   "source": [
    "### 재귀함수 사용 유의 사항\n",
    "\n",
    "- 재귀 함수를 잘 활용하면 복잡한 알고리즘을 간결하게 작성할 수 있음\n",
    "    - 단, 오히려 다른 사라이 이해하기 어려운 형태의 코드가 될 수도 있으므로 신중하게 사용\n",
    "- 모든 재귀 함수는 반복문을 이용하여 동일한 기능을 구현할 수 있음\n",
    "- 재귀함수가 반복문보다 유리한 경우도 있고 불리한 경우도 있음\n",
    "- 컴퓨터가 함수를 연속적으로 호출하면 컴퓨터 메모리 내부의 스택 프레임에 쌓임\n",
    "    - 그래서 스택을 사용해야 할 때 구현상 **스택 라이브러리 대신에 재귀함수를 이용**하는 경우가 많음"
   ]
  },
  {
   "cell_type": "markdown",
   "id": "18dec79f",
   "metadata": {},
   "source": [
    "## DFS(Depth-First Search)\n",
    "\n",
    "- DFS는 깊이 우선 탐색이라고도 부르며 그래프에서 깊은 부분을 우선적으로 탐색하는 알고리즘\n",
    "- DFS는 스택 자료구조(혹은 재귀 함수)를 이용\n",
    "    1. 탐색 시작 노드를 스택에 삽입하고 방문 처리\n",
    "    2. 스택의 최상단 노드에 방문하지 않은 인접한 노드가 하나라도 있으면 그 노드를 스택에 넣고 방문 처리, 방문하지 않은 인접 노드가 없으면 스택에서 최상단 노드를 꺼냄\n",
    "    3. 더 이상 2번의 과정을 수행할 수 없을 때까지 반복\n",
    "   "
   ]
  },
  {
   "cell_type": "code",
   "execution_count": 64,
   "id": "8b01669c",
   "metadata": {},
   "outputs": [],
   "source": [
    "# DFS 예제\n",
    "\n",
    "# DFS 메서드 정의\n",
    "def dfs(graph, v, visited):\n",
    "    # 현재 노드를 방문 처리 \n",
    "    visited[v] = True\n",
    "    print(v, end=' ')\n",
    "    \n",
    "    # 현재 노드와 연결된 다른 노드를 재귀적으로 방문\n",
    "    for i in graph[v]:\n",
    "        if not visited[i]:\n",
    "            dfs(graph, i, visited)"
   ]
  },
  {
   "cell_type": "code",
   "execution_count": 65,
   "id": "189ed640",
   "metadata": {},
   "outputs": [
    {
     "name": "stdout",
     "output_type": "stream",
     "text": [
      "1 2 7 6 8 3 4 5 "
     ]
    }
   ],
   "source": [
    "# 각 노드가 연결된 정보를 표현(2차원 리스트)\n",
    "graph = [\n",
    "    [],\n",
    "    [2, 3, 8],\n",
    "    [1, 7],\n",
    "    [1, 4, 5],\n",
    "    [3, 5],\n",
    "    [3, 4],\n",
    "    [7],\n",
    "    [2, 6, 8],\n",
    "    [1, 7]\n",
    "]\n",
    "\n",
    "# 각 노드가 방문된 정보를 표현 (1차원 리스트)\n",
    "visited = [False] * 9\n",
    "\n",
    "# 정의된 DFS 함수 호출\n",
    "dfs(graph, 1, visited)"
   ]
  },
  {
   "cell_type": "markdown",
   "id": "63990c00",
   "metadata": {},
   "source": [
    "## BFS(Breadth-First Search)\n",
    "\n",
    "- BFS는 너비 우선 탐색이라고도 부르며, 그래프에서 **가까운 노드부터 우선적으로 탐색하는 알고리즘**\n",
    "- BFS는 **큐 자료구조**를 이용\n",
    "    1. 탐색 시작 노드를 큐에 삽입하고 방문 처리\n",
    "    2. 큐에서 노드를 꺼낸 뒤에 해당 노드의 인접 노드 중에서 방문하지 않은 노드를 모두 큐에 삽입하고 방문 처리 \n",
    "    3. 더 이상 2번의 과정을 수행할 수 없을 때까지 반복"
   ]
  },
  {
   "cell_type": "code",
   "execution_count": 32,
   "id": "4d892f37",
   "metadata": {},
   "outputs": [],
   "source": [
    "# BFS 예제\n",
    "from collections import deque\n",
    "\n",
    "# BFS 메서드 정의\n",
    "def bfs(graph, start, visited):\n",
    "    # 큐 구현을 위해 deque 라이브러리 사용\n",
    "    queue = deque([start])\n",
    "    \n",
    "    # 현재 노드를 방문 처리 \n",
    "    visited[start] = True\n",
    "    \n",
    "    # 큐가 빌 때까지 반복\n",
    "    while queue:\n",
    "        # 큐에서 하나의 원소를 뽑아 출력\n",
    "        v = queue.popleft()\n",
    "        print(v, end = ' ')\n",
    "        \n",
    "        # 아직 방문하지 않은 인접한 원소들을 큐에 삽입\n",
    "        for i in graph[v]:\n",
    "            if not visited[i]:\n",
    "                queue.append(i)\n",
    "                visited[i] = True"
   ]
  },
  {
   "cell_type": "code",
   "execution_count": 33,
   "id": "5676833a",
   "metadata": {},
   "outputs": [
    {
     "name": "stdout",
     "output_type": "stream",
     "text": [
      "1 2 3 8 7 4 5 6 "
     ]
    }
   ],
   "source": [
    "# 각 노드가 연결된 정보를 표현(2차원 리스트)\n",
    "graph = [\n",
    "    [],\n",
    "    [2, 3, 8],\n",
    "    [1, 7],\n",
    "    [1, 4, 5],\n",
    "    [3, 5],\n",
    "    [3, 4],\n",
    "    [7],\n",
    "    [2, 6, 8],\n",
    "    [1, 7]\n",
    "]\n",
    "\n",
    "# 각 노드가 방문된 정보를 표현 (1차원 리스트)\n",
    "visited = [False] * 9\n",
    "\n",
    "# 정의된 DFS 함수 호출\n",
    "bfs(graph, 1, visited)"
   ]
  },
  {
   "cell_type": "code",
   "execution_count": null,
   "id": "17740c93",
   "metadata": {},
   "outputs": [],
   "source": []
  },
  {
   "cell_type": "markdown",
   "id": "13448fd0",
   "metadata": {},
   "source": [
    "### <문제> 음료수 얼려 먹기\n",
    "\n",
    "- NxM 크기의 얼음 틀이 있습니다. 구멍이 뚫려 있는 부분은 0, 칸막이가 존재하는 부분은 1로 표시됩니다. 구멍이 뚫려 있는 부분끼리 상, 하, 좌, 우로 붙어 있는 경우 서로 연결되어 있는 것으로 간주합니다. \n",
    "\n",
    "- 이때 얼음 틀의 모양이 주어졌을 때 생성되는 총 아이스크림의 개수를 구하는 프로그램을 작성하세요. 다음의 4X5 얼음 틀 예시에서는 아이스크림이 총 3개 생성 됩니다. \n",
    "\n",
    "00110 <br>\n",
    "00011 <br>\n",
    "11111 <br>\n",
    "00000\n",
    "\n",
    "- 연결 요소 찾기"
   ]
  },
  {
   "cell_type": "markdown",
   "id": "8db92fc3",
   "metadata": {},
   "source": [
    "<문제 조건>\n",
    "\n",
    "입력 조건\n",
    "- 첫 번째 줄에 얼음 틀의 세로 길이 N과 가로길이 M이 주어진다. \n",
    "- 두 번째 줄 부터 N+1 번째 줄까지 얼음 틀의 형태가 주어진다.\n",
    "- 이때 구멍이 뚫려있는 부분은 0, 그렇지 않은 부분은 1입니다. \n",
    "\n",
    "출력 조건\n",
    "- 한 번에 만들 수 있는 아이스크림의 개수를 출력\n"
   ]
  },
  {
   "cell_type": "markdown",
   "id": "27b9a17a",
   "metadata": {},
   "source": [
    "<문제 해결 아이디어>\n",
    "- DFS 혹은 BFS로 해결할 수 있습니다. 일단 앞에서 배운 대로 얼음을 얼릴 수 있는 공간이 상,하,좌,우로 연결되어 있다고 표현할 수 있으므로 그래프 형태로 모델링 할 수 있습니다.\n",
    "\n",
    "- DFS를 활용하는 알고리즘\n",
    "    1. 특정한 지점의 주변 상, 하, 좌, 우를 살펴본 뒤에 주변 지점 중에서 값이 '0'이면서 아직 방문하지 않은 지점이 있다면 해당 지점을 방문\n",
    "    2. 방문한 지점에서 다시 상, 하, 좌, 우를 살펴보면서 방문을 진행하는 과정을 반복하면, 연결된 모든 지점을 방문할 수 있음\n",
    "    3. 모든 노드에 대하여 1~2번의 과정을 반복하며, 방문하지 않은 지점의 수를 카운트"
   ]
  },
  {
   "cell_type": "code",
   "execution_count": 4,
   "id": "b6e6c8c7",
   "metadata": {},
   "outputs": [],
   "source": [
    "# DFS로 특정 노드를 방문하고 연결된 모든 노드들도 방문\n",
    "def dfs(x, y):\n",
    "    # 주어진 범위를 벗어나는 경우에는 즉시 종료\n",
    "    if x <= -1 or x >= n or y <= -1 or y >= m:\n",
    "        return False\n",
    "    \n",
    "    # 현재 노드를 아직 방문하지 않았다면\n",
    "    if graph[x][y] == 0:\n",
    "        # 해당 노드 방문 처리 \n",
    "        graph[x][y] == 1\n",
    "        \n",
    "        # 상, 하, 좌, 우 위치 모두 재귀적으로 호출\n",
    "        dfs(x-1, y)\n",
    "        dfs(x, y-1)\n",
    "        dfs(x+1, y)\n",
    "        dfs(x, y+1)\n",
    "        \n",
    "        return True\n",
    "        \n",
    "    return False"
   ]
  },
  {
   "cell_type": "code",
   "execution_count": 5,
   "id": "5dc217f0",
   "metadata": {},
   "outputs": [
    {
     "name": "stdout",
     "output_type": "stream",
     "text": [
      "4 5\n",
      "00110\n",
      "00011\n",
      "11111\n",
      "00000\n"
     ]
    },
    {
     "ename": "RecursionError",
     "evalue": "maximum recursion depth exceeded in comparison",
     "output_type": "error",
     "traceback": [
      "\u001b[0;31m---------------------------------------------------------------------------\u001b[0m",
      "\u001b[0;31mRecursionError\u001b[0m                            Traceback (most recent call last)",
      "\u001b[0;32m<ipython-input-5-49906b1679de>\u001b[0m in \u001b[0;36m<module>\u001b[0;34m\u001b[0m\n\u001b[1;32m     12\u001b[0m     \u001b[0;32mfor\u001b[0m \u001b[0mj\u001b[0m \u001b[0;32min\u001b[0m \u001b[0mrange\u001b[0m\u001b[0;34m(\u001b[0m\u001b[0mm\u001b[0m\u001b[0;34m)\u001b[0m\u001b[0;34m:\u001b[0m\u001b[0;34m\u001b[0m\u001b[0;34m\u001b[0m\u001b[0m\n\u001b[1;32m     13\u001b[0m         \u001b[0;31m# 현재 위치에서 dfs 수행\u001b[0m\u001b[0;34m\u001b[0m\u001b[0;34m\u001b[0m\u001b[0;34m\u001b[0m\u001b[0m\n\u001b[0;32m---> 14\u001b[0;31m         \u001b[0;32mif\u001b[0m \u001b[0mdfs\u001b[0m\u001b[0;34m(\u001b[0m\u001b[0mi\u001b[0m\u001b[0;34m,\u001b[0m \u001b[0mj\u001b[0m\u001b[0;34m)\u001b[0m \u001b[0;34m==\u001b[0m \u001b[0;32mTrue\u001b[0m\u001b[0;34m:\u001b[0m\u001b[0;34m\u001b[0m\u001b[0;34m\u001b[0m\u001b[0m\n\u001b[0m\u001b[1;32m     15\u001b[0m             \u001b[0mresult\u001b[0m \u001b[0;34m+=\u001b[0m \u001b[0;36m1\u001b[0m\u001b[0;34m\u001b[0m\u001b[0;34m\u001b[0m\u001b[0m\n\u001b[1;32m     16\u001b[0m \u001b[0;34m\u001b[0m\u001b[0m\n",
      "\u001b[0;32m<ipython-input-4-bd3abf962495>\u001b[0m in \u001b[0;36mdfs\u001b[0;34m(x, y)\u001b[0m\n\u001b[1;32m     13\u001b[0m         \u001b[0mdfs\u001b[0m\u001b[0;34m(\u001b[0m\u001b[0mx\u001b[0m\u001b[0;34m-\u001b[0m\u001b[0;36m1\u001b[0m\u001b[0;34m,\u001b[0m \u001b[0my\u001b[0m\u001b[0;34m)\u001b[0m\u001b[0;34m\u001b[0m\u001b[0;34m\u001b[0m\u001b[0m\n\u001b[1;32m     14\u001b[0m         \u001b[0mdfs\u001b[0m\u001b[0;34m(\u001b[0m\u001b[0mx\u001b[0m\u001b[0;34m,\u001b[0m \u001b[0my\u001b[0m\u001b[0;34m-\u001b[0m\u001b[0;36m1\u001b[0m\u001b[0;34m)\u001b[0m\u001b[0;34m\u001b[0m\u001b[0;34m\u001b[0m\u001b[0m\n\u001b[0;32m---> 15\u001b[0;31m         \u001b[0mdfs\u001b[0m\u001b[0;34m(\u001b[0m\u001b[0mx\u001b[0m\u001b[0;34m+\u001b[0m\u001b[0;36m1\u001b[0m\u001b[0;34m,\u001b[0m \u001b[0my\u001b[0m\u001b[0;34m)\u001b[0m\u001b[0;34m\u001b[0m\u001b[0;34m\u001b[0m\u001b[0m\n\u001b[0m\u001b[1;32m     16\u001b[0m         \u001b[0mdfs\u001b[0m\u001b[0;34m(\u001b[0m\u001b[0mx\u001b[0m\u001b[0;34m,\u001b[0m \u001b[0my\u001b[0m\u001b[0;34m+\u001b[0m\u001b[0;36m1\u001b[0m\u001b[0;34m)\u001b[0m\u001b[0;34m\u001b[0m\u001b[0;34m\u001b[0m\u001b[0m\n\u001b[1;32m     17\u001b[0m \u001b[0;34m\u001b[0m\u001b[0m\n",
      "\u001b[0;32m<ipython-input-4-bd3abf962495>\u001b[0m in \u001b[0;36mdfs\u001b[0;34m(x, y)\u001b[0m\n\u001b[1;32m     11\u001b[0m \u001b[0;34m\u001b[0m\u001b[0m\n\u001b[1;32m     12\u001b[0m         \u001b[0;31m# 상, 하, 좌, 우 위치 모두 재귀적으로 호출\u001b[0m\u001b[0;34m\u001b[0m\u001b[0;34m\u001b[0m\u001b[0;34m\u001b[0m\u001b[0m\n\u001b[0;32m---> 13\u001b[0;31m         \u001b[0mdfs\u001b[0m\u001b[0;34m(\u001b[0m\u001b[0mx\u001b[0m\u001b[0;34m-\u001b[0m\u001b[0;36m1\u001b[0m\u001b[0;34m,\u001b[0m \u001b[0my\u001b[0m\u001b[0;34m)\u001b[0m\u001b[0;34m\u001b[0m\u001b[0;34m\u001b[0m\u001b[0m\n\u001b[0m\u001b[1;32m     14\u001b[0m         \u001b[0mdfs\u001b[0m\u001b[0;34m(\u001b[0m\u001b[0mx\u001b[0m\u001b[0;34m,\u001b[0m \u001b[0my\u001b[0m\u001b[0;34m-\u001b[0m\u001b[0;36m1\u001b[0m\u001b[0;34m)\u001b[0m\u001b[0;34m\u001b[0m\u001b[0;34m\u001b[0m\u001b[0m\n\u001b[1;32m     15\u001b[0m         \u001b[0mdfs\u001b[0m\u001b[0;34m(\u001b[0m\u001b[0mx\u001b[0m\u001b[0;34m+\u001b[0m\u001b[0;36m1\u001b[0m\u001b[0;34m,\u001b[0m \u001b[0my\u001b[0m\u001b[0;34m)\u001b[0m\u001b[0;34m\u001b[0m\u001b[0;34m\u001b[0m\u001b[0m\n",
      "... last 2 frames repeated, from the frame below ...\n",
      "\u001b[0;32m<ipython-input-4-bd3abf962495>\u001b[0m in \u001b[0;36mdfs\u001b[0;34m(x, y)\u001b[0m\n\u001b[1;32m     13\u001b[0m         \u001b[0mdfs\u001b[0m\u001b[0;34m(\u001b[0m\u001b[0mx\u001b[0m\u001b[0;34m-\u001b[0m\u001b[0;36m1\u001b[0m\u001b[0;34m,\u001b[0m \u001b[0my\u001b[0m\u001b[0;34m)\u001b[0m\u001b[0;34m\u001b[0m\u001b[0;34m\u001b[0m\u001b[0m\n\u001b[1;32m     14\u001b[0m         \u001b[0mdfs\u001b[0m\u001b[0;34m(\u001b[0m\u001b[0mx\u001b[0m\u001b[0;34m,\u001b[0m \u001b[0my\u001b[0m\u001b[0;34m-\u001b[0m\u001b[0;36m1\u001b[0m\u001b[0;34m)\u001b[0m\u001b[0;34m\u001b[0m\u001b[0;34m\u001b[0m\u001b[0m\n\u001b[0;32m---> 15\u001b[0;31m         \u001b[0mdfs\u001b[0m\u001b[0;34m(\u001b[0m\u001b[0mx\u001b[0m\u001b[0;34m+\u001b[0m\u001b[0;36m1\u001b[0m\u001b[0;34m,\u001b[0m \u001b[0my\u001b[0m\u001b[0;34m)\u001b[0m\u001b[0;34m\u001b[0m\u001b[0;34m\u001b[0m\u001b[0m\n\u001b[0m\u001b[1;32m     16\u001b[0m         \u001b[0mdfs\u001b[0m\u001b[0;34m(\u001b[0m\u001b[0mx\u001b[0m\u001b[0;34m,\u001b[0m \u001b[0my\u001b[0m\u001b[0;34m+\u001b[0m\u001b[0;36m1\u001b[0m\u001b[0;34m)\u001b[0m\u001b[0;34m\u001b[0m\u001b[0;34m\u001b[0m\u001b[0m\n\u001b[1;32m     17\u001b[0m \u001b[0;34m\u001b[0m\u001b[0m\n",
      "\u001b[0;31mRecursionError\u001b[0m: maximum recursion depth exceeded in comparison"
     ]
    }
   ],
   "source": [
    "n, m = map(int, input().split())\n",
    "\n",
    "# 2차원 리스트의 맵 정보 입력 받기 \n",
    "graph = []\n",
    "for i in range(n):\n",
    "    graph.append(list(map(int, input())))\n",
    "    \n",
    "# 모든 노드(위치)에 대하여 음료수 채우기\n",
    "result = 0\n",
    "\n",
    "for i in range(n):\n",
    "    for j in range(m):\n",
    "        # 현재 위치에서 dfs 수행\n",
    "        if dfs(i, j) == True:\n",
    "            result += 1\n",
    "            \n",
    "print(result)"
   ]
  },
  {
   "cell_type": "code",
   "execution_count": null,
   "id": "476f3980",
   "metadata": {},
   "outputs": [],
   "source": []
  },
  {
   "cell_type": "code",
   "execution_count": 22,
   "id": "c3d2894c",
   "metadata": {},
   "outputs": [],
   "source": [
    "def solution(numbers, target):\n",
    "    answer = 0\n",
    "    leaves = [0]\n",
    "        \n",
    "    for num in numbers:\n",
    "        tmp = []\n",
    "        \n",
    "        for parent in leaves:\n",
    "            tmp.append(parent + num)\n",
    "            tmp.append(parent - num)\n",
    "\n",
    "        leaves = tmp\n",
    "        \n",
    "    for leaf in leaves:\n",
    "        if leaf == target:\n",
    "            answer += 1\n",
    "    \n",
    "    return answer"
   ]
  },
  {
   "cell_type": "code",
   "execution_count": 23,
   "id": "86a26621",
   "metadata": {
    "scrolled": true
   },
   "outputs": [
    {
     "data": {
      "text/plain": [
       "2"
      ]
     },
     "execution_count": 23,
     "metadata": {},
     "output_type": "execute_result"
    }
   ],
   "source": [
    "solution([4, 1, 2, 1], 4)"
   ]
  },
  {
   "cell_type": "code",
   "execution_count": 36,
   "id": "89032936",
   "metadata": {},
   "outputs": [],
   "source": [
    "from itertools import product\n",
    "def solution(numbers, target):\n",
    "    l = [(x, -x) for x in numbers]\n",
    "    s = list(map(sum, product(*l)))\n",
    "    return s.count(target)"
   ]
  },
  {
   "cell_type": "code",
   "execution_count": 37,
   "id": "6990399f",
   "metadata": {},
   "outputs": [
    {
     "data": {
      "text/plain": [
       "2"
      ]
     },
     "execution_count": 37,
     "metadata": {},
     "output_type": "execute_result"
    }
   ],
   "source": [
    "solution([4, 1, 2, 1], 4)"
   ]
  },
  {
   "cell_type": "code",
   "execution_count": 38,
   "id": "4ccca2ad",
   "metadata": {},
   "outputs": [],
   "source": [
    "from itertools import product\n",
    "\n",
    "def solution(numbers, target):\n",
    "    answer = 0\n",
    "    n_list = [(x, -x) for x in numbers]\n",
    "    product_n = list(map(sum, product(*n_list)))\n",
    "    \n",
    "    for n in product_n:\n",
    "        if n == target:\n",
    "            answer += 1\n",
    "            \n",
    "    return answer"
   ]
  },
  {
   "cell_type": "code",
   "execution_count": 40,
   "id": "fd8c1cd9",
   "metadata": {},
   "outputs": [
    {
     "data": {
      "text/plain": [
       "2"
      ]
     },
     "execution_count": 40,
     "metadata": {},
     "output_type": "execute_result"
    }
   ],
   "source": [
    "solution([4, 1, 2, 1], 4)"
   ]
  },
  {
   "cell_type": "code",
   "execution_count": 41,
   "id": "bc0b4f82",
   "metadata": {},
   "outputs": [],
   "source": [
    "from itertools import product\n",
    "\n",
    "def solution(numbers, target):\n",
    "    answer = 0\n",
    "    n_list = [(x, -x) for x in numbers]\n",
    "    product_n = list(map(sum, product(*n_list)))\n",
    "          \n",
    "    return product_n.count(target)"
   ]
  },
  {
   "cell_type": "code",
   "execution_count": 42,
   "id": "a31ca700",
   "metadata": {
    "scrolled": true
   },
   "outputs": [
    {
     "data": {
      "text/plain": [
       "2"
      ]
     },
     "execution_count": 42,
     "metadata": {},
     "output_type": "execute_result"
    }
   ],
   "source": [
    "solution([4, 1, 2, 1], 4)"
   ]
  },
  {
   "cell_type": "code",
   "execution_count": null,
   "id": "0999486c",
   "metadata": {},
   "outputs": [],
   "source": []
  },
  {
   "cell_type": "code",
   "execution_count": null,
   "id": "bf378cb1",
   "metadata": {},
   "outputs": [],
   "source": [
    "# 백준 1260번"
   ]
  },
  {
   "cell_type": "code",
   "execution_count": 209,
   "id": "402e41c9",
   "metadata": {},
   "outputs": [
    {
     "name": "stdout",
     "output_type": "stream",
     "text": [
      "4 5 1\n"
     ]
    }
   ],
   "source": [
    "# n, m, v 입력받기 \n",
    "n, m, v = map(int, input().split())\n",
    "visited = [False]*(n+1)\n",
    "matrix = [[0]*(n+1) for _ in range(n+1)] # 대칭행렬 만들기 위해 (m x m) 0 행렬 생성"
   ]
  },
  {
   "cell_type": "code",
   "execution_count": 210,
   "id": "e0c753bf",
   "metadata": {},
   "outputs": [
    {
     "name": "stdout",
     "output_type": "stream",
     "text": [
      "1 2\n",
      "1 3\n",
      "1 4\n",
      "2 4\n",
      "3 4\n"
     ]
    }
   ],
   "source": [
    "for i in range(m):\n",
    "    x, y = map(int, input().split())\n",
    "    matrix[x][y] = 1\n",
    "    matrix[y][x] = 1"
   ]
  },
  {
   "cell_type": "code",
   "execution_count": 211,
   "id": "6c815343",
   "metadata": {},
   "outputs": [
    {
     "data": {
      "text/plain": [
       "[[0, 0, 0, 0, 0],\n",
       " [0, 0, 1, 1, 1],\n",
       " [0, 1, 0, 0, 1],\n",
       " [0, 1, 0, 0, 1],\n",
       " [0, 1, 1, 1, 0]]"
      ]
     },
     "execution_count": 211,
     "metadata": {},
     "output_type": "execute_result"
    }
   ],
   "source": [
    "matrix"
   ]
  },
  {
   "cell_type": "code",
   "execution_count": 212,
   "id": "06584f6a",
   "metadata": {},
   "outputs": [],
   "source": [
    "# DFS (Depth-First)\n",
    "def dfs(matrix, v, visited):\n",
    "    visited[v] = True\n",
    "    print(v, end = ' ')\n",
    "    \n",
    "    for i in range(1, n+1):\n",
    "        if not visited[i] and matrix[v][i] == 1:\n",
    "            dfs(matrix, i, visited)"
   ]
  },
  {
   "cell_type": "code",
   "execution_count": 242,
   "id": "8f2691f4",
   "metadata": {},
   "outputs": [],
   "source": [
    "from collections import deque\n",
    "\n",
    "# BFS (Breath-First)\n",
    "def bfs(matrix, v, visited):\n",
    "    queue = deque([v])\n",
    "    visited[v] = True\n",
    "    \n",
    "    while queue:\n",
    "        v = queue.popleft()\n",
    "        print(v, end = ' ')\n",
    "        \n",
    "        for i in range(1, n+1):\n",
    "            if not visited[i] and matrix[v][i] == 1:\n",
    "                queue.append(i)\n",
    "                visited[i] = True"
   ]
  },
  {
   "cell_type": "code",
   "execution_count": 244,
   "id": "4e3b9fb0",
   "metadata": {},
   "outputs": [
    {
     "name": "stdout",
     "output_type": "stream",
     "text": [
      "1 2 4 3 \n",
      "1 2 3 4 "
     ]
    }
   ],
   "source": [
    "dfs(matrix, v, visited.copy())\n",
    "print()\n",
    "bfs(matrix, v, visited.copy())"
   ]
  },
  {
   "cell_type": "code",
   "execution_count": null,
   "id": "cee95527",
   "metadata": {},
   "outputs": [],
   "source": []
  },
  {
   "cell_type": "code",
   "execution_count": 276,
   "id": "76a1734d",
   "metadata": {},
   "outputs": [],
   "source": [
    "# 백준 2178번"
   ]
  },
  {
   "cell_type": "code",
   "execution_count": 377,
   "id": "19483b65",
   "metadata": {},
   "outputs": [
    {
     "name": "stdout",
     "output_type": "stream",
     "text": [
      "4 6\n",
      "101111\n",
      "101010\n",
      "101011\n",
      "111011\n"
     ]
    }
   ],
   "source": [
    "n, m = map(int, input().split())\n",
    "matrix = [list(map(int, list(input()))) for _ in range(n)]"
   ]
  },
  {
   "cell_type": "code",
   "execution_count": 378,
   "id": "03a5cbd6",
   "metadata": {},
   "outputs": [],
   "source": [
    "visited = [[0] * (m) for _ in range(n)]"
   ]
  },
  {
   "cell_type": "code",
   "execution_count": 379,
   "id": "64b9e73b",
   "metadata": {},
   "outputs": [
    {
     "data": {
      "text/plain": [
       "[[0, 0, 0, 0, 0, 0],\n",
       " [0, 0, 0, 0, 0, 0],\n",
       " [0, 0, 0, 0, 0, 0],\n",
       " [0, 0, 0, 0, 0, 0]]"
      ]
     },
     "execution_count": 379,
     "metadata": {},
     "output_type": "execute_result"
    }
   ],
   "source": [
    "visited"
   ]
  },
  {
   "cell_type": "code",
   "execution_count": 380,
   "id": "3d1c107f",
   "metadata": {},
   "outputs": [],
   "source": [
    "def bfs(matrix, visited):\n",
    "    queue = [(0, 0)]\n",
    "    visited[0][0] = 1\n",
    "    \n",
    "    dx = [ 1, -1, 0, 0 ]\n",
    "    dy = [ 0, 0, 1, -1 ]\n",
    "    \n",
    "    while queue:\n",
    "        x, y = queue.pop(0)\n",
    "         \n",
    "        if x == (n-1) and y == (m-1):\n",
    "            print(visited[x][y])\n",
    "            break\n",
    "            \n",
    "        for i in range(4):\n",
    "            nx = x + dx[i]\n",
    "            ny = y + dy[i]\n",
    "            \n",
    "            if 0 <= nx < n and 0 <= ny < m:\n",
    "                if visited[nx][ny] == 0 and matrix[nx][ny] == 1:\n",
    "                    visited[nx][ny] = visited[x][y] + 1\n",
    "                    queue.append((nx, ny))"
   ]
  },
  {
   "cell_type": "code",
   "execution_count": 381,
   "id": "9676321b",
   "metadata": {},
   "outputs": [
    {
     "name": "stdout",
     "output_type": "stream",
     "text": [
      "15\n"
     ]
    }
   ],
   "source": [
    "bfs(matrix.copy(), visited.copy())"
   ]
  },
  {
   "cell_type": "code",
   "execution_count": null,
   "id": "f78fea0e",
   "metadata": {},
   "outputs": [],
   "source": []
  },
  {
   "cell_type": "code",
   "execution_count": 382,
   "id": "18a4c3e3",
   "metadata": {},
   "outputs": [],
   "source": [
    "# 백준 11724번"
   ]
  },
  {
   "cell_type": "code",
   "execution_count": 409,
   "id": "e9c99228",
   "metadata": {},
   "outputs": [
    {
     "name": "stdout",
     "output_type": "stream",
     "text": [
      "6 5\n"
     ]
    },
    {
     "data": {
      "text/plain": [
       "[[], [], [], [], [], [], []]"
      ]
     },
     "execution_count": 409,
     "metadata": {},
     "output_type": "execute_result"
    }
   ],
   "source": [
    "n, m = map(int, input().split())\n",
    "graph = [[] for _ in range(n + 1)]\n",
    "graph"
   ]
  },
  {
   "cell_type": "code",
   "execution_count": 411,
   "id": "f1a0cc7b",
   "metadata": {},
   "outputs": [
    {
     "name": "stdout",
     "output_type": "stream",
     "text": [
      "1 2 \n",
      "2 5\n",
      "5 1\n",
      "3 4\n",
      "4 6\n"
     ]
    }
   ],
   "source": [
    "for _ in range(m):\n",
    "    x, y = map(int, input().split())\n",
    "    graph[x].append(y)\n",
    "    graph[y].append(x)"
   ]
  },
  {
   "cell_type": "code",
   "execution_count": 415,
   "id": "44532fb6",
   "metadata": {},
   "outputs": [
    {
     "data": {
      "text/plain": [
       "[0, 0, 0, 0, 0, 0, 0]"
      ]
     },
     "execution_count": 415,
     "metadata": {},
     "output_type": "execute_result"
    }
   ],
   "source": [
    "visited = [0] * (n+1)\n",
    "visited"
   ]
  },
  {
   "cell_type": "code",
   "execution_count": 417,
   "id": "8beb6486",
   "metadata": {},
   "outputs": [],
   "source": [
    "from collections import deque\n",
    "\n",
    "def dfs(v):\n",
    "    visited[v] = 1\n",
    "    \n",
    "    for i in graph[v]:\n",
    "        if visited[i] == 0:\n",
    "            dfs(i)"
   ]
  },
  {
   "cell_type": "code",
   "execution_count": 418,
   "id": "84576c5b",
   "metadata": {
    "scrolled": true
   },
   "outputs": [],
   "source": [
    "result = 0\n",
    "\n",
    "for i in range(1, n+1):\n",
    "    if visited[i] == 0:\n",
    "        dfs(i)\n",
    "        result += 1"
   ]
  },
  {
   "cell_type": "code",
   "execution_count": 419,
   "id": "2931a9d5",
   "metadata": {},
   "outputs": [
    {
     "data": {
      "text/plain": [
       "1"
      ]
     },
     "execution_count": 419,
     "metadata": {},
     "output_type": "execute_result"
    }
   ],
   "source": [
    "result"
   ]
  },
  {
   "cell_type": "code",
   "execution_count": null,
   "id": "a9366cf5",
   "metadata": {},
   "outputs": [],
   "source": []
  },
  {
   "cell_type": "code",
   "execution_count": 420,
   "id": "62679114",
   "metadata": {},
   "outputs": [],
   "source": [
    "# 백준 2606번"
   ]
  },
  {
   "cell_type": "code",
   "execution_count": 476,
   "id": "1737c22c",
   "metadata": {},
   "outputs": [
    {
     "name": "stdout",
     "output_type": "stream",
     "text": [
      "6\n",
      "7\n"
     ]
    }
   ],
   "source": [
    "n = int(input())\n",
    "m = int(input())\n",
    "\n",
    "matrix = [[0]*(m+1) for _ in range(m+1)]"
   ]
  },
  {
   "cell_type": "code",
   "execution_count": 477,
   "id": "555e5615",
   "metadata": {},
   "outputs": [],
   "source": [
    "visited = [False]*(m+1)"
   ]
  },
  {
   "cell_type": "code",
   "execution_count": 478,
   "id": "4b430347",
   "metadata": {},
   "outputs": [
    {
     "name": "stdout",
     "output_type": "stream",
     "text": [
      "1 2\n",
      "2 3\n",
      "4 5\n",
      "5 6\n",
      "6 7\n",
      "7 4\n"
     ]
    }
   ],
   "source": [
    "for _ in range(n):\n",
    "    x, y = map(int, input().split())\n",
    "    matrix[x][y] = matrix[y][x] = 1"
   ]
  },
  {
   "cell_type": "code",
   "execution_count": 479,
   "id": "1cf07207",
   "metadata": {},
   "outputs": [],
   "source": [
    "from collections import deque\n",
    "\n",
    "def bfs(matrix, v, visited):\n",
    "    answer = 0\n",
    "    queue = deque([v])\n",
    "    visited[v] = True\n",
    "    \n",
    "    while queue:\n",
    "        v = queue.popleft()\n",
    "        \n",
    "        for i in range(1, m+1):\n",
    "            if not visited[i] and matrix[v][i] == 1:\n",
    "                queue.append(i)\n",
    "                visited[i] = True\n",
    "                \n",
    "        answer += 1\n",
    "                \n",
    "    print(answer-1)"
   ]
  },
  {
   "cell_type": "code",
   "execution_count": 480,
   "id": "056af24f",
   "metadata": {},
   "outputs": [
    {
     "name": "stdout",
     "output_type": "stream",
     "text": [
      "2\n"
     ]
    }
   ],
   "source": [
    "bfs(matrix, 1, visited)"
   ]
  },
  {
   "cell_type": "code",
   "execution_count": null,
   "id": "4df8b50a",
   "metadata": {},
   "outputs": [],
   "source": []
  }
 ],
 "metadata": {
  "kernelspec": {
   "display_name": "Python 3",
   "language": "python",
   "name": "python3"
  },
  "language_info": {
   "codemirror_mode": {
    "name": "ipython",
    "version": 3
   },
   "file_extension": ".py",
   "mimetype": "text/x-python",
   "name": "python",
   "nbconvert_exporter": "python",
   "pygments_lexer": "ipython3",
   "version": "3.8.10"
  }
 },
 "nbformat": 4,
 "nbformat_minor": 5
}
