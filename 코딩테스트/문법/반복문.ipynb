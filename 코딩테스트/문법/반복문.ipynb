{
 "cells": [
  {
   "cell_type": "markdown",
   "id": "61046fbf",
   "metadata": {},
   "source": [
    "## 반복문\n",
    "\n",
    "- 특정 소스코드를 반복적으로 실행하고자 할 때 사용\n",
    "- while, for"
   ]
  },
  {
   "cell_type": "markdown",
   "id": "b81824a1",
   "metadata": {},
   "source": [
    "## while문"
   ]
  },
  {
   "cell_type": "markdown",
   "id": "b2f902e1",
   "metadata": {},
   "source": [
    "### 반복문에서의 무한 루프\n",
    "\n",
    "- 무한 루프란 끊임없이 반복되는 반복 구문을 의미\n",
    "- 반복문을 작성한 뒤, 항상 반복문을 탈술할 수 있는지 확인"
   ]
  },
  {
   "cell_type": "code",
   "execution_count": 1,
   "id": "24e95d36",
   "metadata": {},
   "outputs": [
    {
     "name": "stdout",
     "output_type": "stream",
     "text": [
      "45\n"
     ]
    }
   ],
   "source": [
    "# 1~9까지 더하기\n",
    "i = 1\n",
    "result = 0\n",
    "\n",
    "while i <= 9:\n",
    "    result += i\n",
    "    i += 1\n",
    "    \n",
    "print(result)"
   ]
  },
  {
   "cell_type": "code",
   "execution_count": 5,
   "id": "a459039c",
   "metadata": {},
   "outputs": [
    {
     "name": "stdout",
     "output_type": "stream",
     "text": [
      "25\n"
     ]
    }
   ],
   "source": [
    "# 1~9까지 홀수의 합 구하기\n",
    "i = 1\n",
    "result = 0\n",
    "\n",
    "while i <= 9:\n",
    "    if i % 2 == 1:\n",
    "        result += i\n",
    "        \n",
    "    i += 1\n",
    "    \n",
    "print(result)"
   ]
  },
  {
   "cell_type": "markdown",
   "id": "ce748642",
   "metadata": {},
   "source": [
    "## for 문\n",
    "\n",
    "- 특정 변수를 이용해 'in' 뒤에 오는 데이터(리스트, 튜플 등)에 포함되어 있는 원소를 첫 번째 인덱스부터 차례대로 하나씩 방문\n",
    "\n",
    "for 변수 in 리스트:\n",
    "    실행할 코드"
   ]
  },
  {
   "cell_type": "code",
   "execution_count": 6,
   "id": "b6ba53d8",
   "metadata": {},
   "outputs": [
    {
     "name": "stdout",
     "output_type": "stream",
     "text": [
      "9\n",
      "8\n",
      "7\n",
      "6\n",
      "5\n"
     ]
    }
   ],
   "source": [
    "array = [9, 8, 7, 6, 5]\n",
    "\n",
    "for x in array:\n",
    "    print(x)"
   ]
  },
  {
   "cell_type": "markdown",
   "id": "a5422c99",
   "metadata": {},
   "source": [
    "### range()\n",
    "\n",
    "- 연속적인 값을 차례대로 순회할 때 사용\n",
    "- range(시작 값, 끝 값 + 1) 형태로 사용\n",
    "- 인자를 하나만 넣으면 자동으로 시작 값은 0"
   ]
  },
  {
   "cell_type": "code",
   "execution_count": 7,
   "id": "9d7c3d6b",
   "metadata": {},
   "outputs": [
    {
     "name": "stdout",
     "output_type": "stream",
     "text": [
      "45\n"
     ]
    }
   ],
   "source": [
    "result = 0\n",
    "\n",
    "# 1~9 까지의 값을 순회\n",
    "for i in range(1, 10):\n",
    "    result += i\n",
    "    \n",
    "print(result)"
   ]
  },
  {
   "cell_type": "markdown",
   "id": "829edcb3",
   "metadata": {},
   "source": [
    "### continue\n",
    "\n",
    "- 반복문에서 남은 코드의 실행을 건너뛰고, 다음 반복을 진행하고자 할 때ㅔ 사용\n"
   ]
  },
  {
   "cell_type": "code",
   "execution_count": 10,
   "id": "2300fc3c",
   "metadata": {},
   "outputs": [
    {
     "name": "stdout",
     "output_type": "stream",
     "text": [
      "25\n"
     ]
    }
   ],
   "source": [
    "# 1~9까지의 홀수 합 구하기 \n",
    "\n",
    "result = 0\n",
    "\n",
    "for i in range(1, 10):\n",
    "    if i%2 == 0:\n",
    "        continue\n",
    "        \n",
    "    result += i\n",
    "    \n",
    "print(result)"
   ]
  },
  {
   "cell_type": "markdown",
   "id": "3f0acb2e",
   "metadata": {},
   "source": [
    "### break \n",
    "\n",
    "- 반복문을 즉시 탈출하고자 할 때 사용\n"
   ]
  },
  {
   "cell_type": "code",
   "execution_count": 11,
   "id": "47f40c8f",
   "metadata": {},
   "outputs": [
    {
     "name": "stdout",
     "output_type": "stream",
     "text": [
      "1\n",
      "2\n",
      "3\n",
      "4\n",
      "5\n"
     ]
    }
   ],
   "source": [
    "# 1~5까지의 정수를 차례대로 출력하고자 할 때\n",
    "i = 1\n",
    "\n",
    "while True:\n",
    "    print(i)\n",
    "    \n",
    "    if i == 5:\n",
    "        break\n",
    "    \n",
    "    i += 1"
   ]
  },
  {
   "cell_type": "code",
   "execution_count": 12,
   "id": "6ab69b1d",
   "metadata": {},
   "outputs": [
    {
     "name": "stdout",
     "output_type": "stream",
     "text": [
      "1 번 학생은 합격입니다.\n",
      "2 번 학생은 합격입니다.\n",
      "5 번 학생은 합격입니다.\n"
     ]
    }
   ],
   "source": [
    "# 합격 여부 판단 : 80점 넘으면 합격\n",
    "scores = [90, 85, 77, 65, 97]\n",
    "\n",
    "for i in range(len(scores)):\n",
    "    if scores[i] >= 80:\n",
    "        print(i+1, \"번 학생은 합격입니다.\")"
   ]
  },
  {
   "cell_type": "code",
   "execution_count": 13,
   "id": "1e7dcf05",
   "metadata": {},
   "outputs": [
    {
     "name": "stdout",
     "output_type": "stream",
     "text": [
      "1 번 학생은 합격입니다.\n",
      "5 번 학생은 합격입니다.\n"
     ]
    }
   ],
   "source": [
    "# 합격 여부 판단 : 특정 번호 학생 제외하기 \n",
    "\n",
    "scores = [90, 85, 77, 65, 97]\n",
    "cheating_student_list = {2, 4}\n",
    "\n",
    "for i in range(len(scores)):\n",
    "    if (i+1) in cheating_student_list:\n",
    "        continue\n",
    "        \n",
    "    if scores[i] >= 80:\n",
    "        print(i+1, \"번 학생은 합격입니다.\")"
   ]
  },
  {
   "cell_type": "code",
   "execution_count": 14,
   "id": "37e744b1",
   "metadata": {
    "scrolled": true
   },
   "outputs": [
    {
     "name": "stdout",
     "output_type": "stream",
     "text": [
      "2  X  1  =  2\n",
      "2  X  2  =  4\n",
      "2  X  3  =  6\n",
      "2  X  4  =  8\n",
      "2  X  5  =  10\n",
      "2  X  6  =  12\n",
      "2  X  7  =  14\n",
      "2  X  8  =  16\n",
      "2  X  9  =  18\n",
      "\n",
      "3  X  1  =  3\n",
      "3  X  2  =  6\n",
      "3  X  3  =  9\n",
      "3  X  4  =  12\n",
      "3  X  5  =  15\n",
      "3  X  6  =  18\n",
      "3  X  7  =  21\n",
      "3  X  8  =  24\n",
      "3  X  9  =  27\n",
      "\n",
      "4  X  1  =  4\n",
      "4  X  2  =  8\n",
      "4  X  3  =  12\n",
      "4  X  4  =  16\n",
      "4  X  5  =  20\n",
      "4  X  6  =  24\n",
      "4  X  7  =  28\n",
      "4  X  8  =  32\n",
      "4  X  9  =  36\n",
      "\n",
      "5  X  1  =  5\n",
      "5  X  2  =  10\n",
      "5  X  3  =  15\n",
      "5  X  4  =  20\n",
      "5  X  5  =  25\n",
      "5  X  6  =  30\n",
      "5  X  7  =  35\n",
      "5  X  8  =  40\n",
      "5  X  9  =  45\n",
      "\n",
      "6  X  1  =  6\n",
      "6  X  2  =  12\n",
      "6  X  3  =  18\n",
      "6  X  4  =  24\n",
      "6  X  5  =  30\n",
      "6  X  6  =  36\n",
      "6  X  7  =  42\n",
      "6  X  8  =  48\n",
      "6  X  9  =  54\n",
      "\n",
      "7  X  1  =  7\n",
      "7  X  2  =  14\n",
      "7  X  3  =  21\n",
      "7  X  4  =  28\n",
      "7  X  5  =  35\n",
      "7  X  6  =  42\n",
      "7  X  7  =  49\n",
      "7  X  8  =  56\n",
      "7  X  9  =  63\n",
      "\n",
      "8  X  1  =  8\n",
      "8  X  2  =  16\n",
      "8  X  3  =  24\n",
      "8  X  4  =  32\n",
      "8  X  5  =  40\n",
      "8  X  6  =  48\n",
      "8  X  7  =  56\n",
      "8  X  8  =  64\n",
      "8  X  9  =  72\n",
      "\n",
      "9  X  1  =  9\n",
      "9  X  2  =  18\n",
      "9  X  3  =  27\n",
      "9  X  4  =  36\n",
      "9  X  5  =  45\n",
      "9  X  6  =  54\n",
      "9  X  7  =  63\n",
      "9  X  8  =  72\n",
      "9  X  9  =  81\n",
      "\n"
     ]
    }
   ],
   "source": [
    "# 구구단\n",
    "for i in range(2, 10):\n",
    "    for j in range(1, 10):\n",
    "        print(i, \" X \", j, \" = \", i*j)\n",
    "    print()"
   ]
  },
  {
   "cell_type": "code",
   "execution_count": null,
   "id": "5bfac8e6",
   "metadata": {},
   "outputs": [],
   "source": []
  }
 ],
 "metadata": {
  "kernelspec": {
   "display_name": "Python 3",
   "language": "python",
   "name": "python3"
  },
  "language_info": {
   "codemirror_mode": {
    "name": "ipython",
    "version": 3
   },
   "file_extension": ".py",
   "mimetype": "text/x-python",
   "name": "python",
   "nbconvert_exporter": "python",
   "pygments_lexer": "ipython3",
   "version": "3.8.10"
  }
 },
 "nbformat": 4,
 "nbformat_minor": 5
}
