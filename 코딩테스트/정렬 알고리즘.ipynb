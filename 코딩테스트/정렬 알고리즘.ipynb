{
 "cells": [
  {
   "cell_type": "markdown",
   "id": "4abf16af",
   "metadata": {},
   "source": [
    "## 정렬 알고리즘\n",
    "\n",
    "- 정렬(Sorting)이란 데이터를 특정한 기준에 다라 순서대로 나열하는 것\n",
    "- 일반적으로 문제 상황에 따라 적절한 정렬 알고리즘이 공식처럼 사용"
   ]
  },
  {
   "cell_type": "markdown",
   "id": "fbf3dc2c",
   "metadata": {},
   "source": [
    "## 선택 정렬\n",
    "\n",
    "- 처리되지 않은 데이터 중에서 가장 작은 데이터를 선택해 맨 앞에 있는 데이터와 바꾸는 것\n",
    "- N번 만큼 매번 가장 작은 수를 찾아서 맨 앞으로 보내야 한다.\n",
    "\n",
    "<시간 복잡도>\n",
    "- 구현 방식에 따라 사소한 오차는 있을 수 있지만, 전체 연산 횟수는 다음과 같다\n",
    "    - N + (N-1) + (N-2) + ... + 2\n",
    "- 이는 (N^2 + N - 2)/2 라고 표현할 수 있는데, 빅오 표기법에 따라 O(N^2) 이라 작성"
   ]
  },
  {
   "cell_type": "code",
   "execution_count": 7,
   "id": "3203d10d",
   "metadata": {},
   "outputs": [
    {
     "data": {
      "text/plain": [
       "[0, 1, 2, 3, 4, 5, 6, 7, 8, 9]"
      ]
     },
     "execution_count": 7,
     "metadata": {},
     "output_type": "execute_result"
    }
   ],
   "source": [
    "array = [7, 5, 9, 0, 3, 1, 6, 2, 4, 8]\n",
    "\n",
    "for i in range(0, len(array)):\n",
    "    min_idx = i # 가장 작은 원소의 인덱스\n",
    "    \n",
    "    for j in range(i+1, len(array)):\n",
    "        if array[min_idx] > array[j]:\n",
    "            min_idx = j\n",
    "            \n",
    "    # 스와프\n",
    "    array[i], array[min_idx] = array[min_idx], array[i]\n",
    "    \n",
    "array"
   ]
  },
  {
   "cell_type": "code",
   "execution_count": null,
   "id": "cf5181b6",
   "metadata": {},
   "outputs": [],
   "source": []
  },
  {
   "cell_type": "markdown",
   "id": "25f83ebc",
   "metadata": {},
   "source": [
    "## 삽입 정렬\n",
    "\n",
    "- 처리되지 않은 데이터를 하나씩 골라 적절한 위치에 삽입\n",
    "- 선택 정렬에 비해 구현 난이도가 높은 편이지만, 일반적으로 더 효율적으로 동작\n",
    "\n",
    "<시간 복잡도>\n",
    "- O(N^2), 선택 정렬과 마찬가지로 반복문이 두 번 중첩되어 사용\n",
    "- 삽입 정렬은 현재 리스트의 데이터가 거의 정렬되어 있는 상태라면 매우 빠르게 동작\n",
    "    - 최선의 경우 O(N)의 시간 복잡도를 가짐\n",
    "    - 이미 정렬되어 있는 상태에서 수행할 경웉"
   ]
  },
  {
   "cell_type": "code",
   "execution_count": 14,
   "id": "911bc6b2",
   "metadata": {},
   "outputs": [
    {
     "data": {
      "text/plain": [
       "[0, 1, 2, 3, 4, 5, 6, 7, 8, 9]"
      ]
     },
     "execution_count": 14,
     "metadata": {},
     "output_type": "execute_result"
    }
   ],
   "source": [
    "array = [7, 5, 9, 0, 3, 1, 6, 2, 4, 8]\n",
    "\n",
    "for i in range(1, len(array)):\n",
    "    # 인덱스를 i부터 1까지 1씩 감소하며 반복하는 문법\n",
    "    for j in range(i, 0, -1):\n",
    "        if array[j-1] > array[j]: # 한 칸씩 왼쪽으로 이동\n",
    "            array[j], array[j-1] = array[j-1], array[j]\n",
    "            \n",
    "        else: # 자기보다 작은 데이터를 만나면 그 위치에서 멈춤\n",
    "            break\n",
    "            \n",
    "array"
   ]
  },
  {
   "cell_type": "code",
   "execution_count": null,
   "id": "50198aae",
   "metadata": {},
   "outputs": [],
   "source": []
  },
  {
   "cell_type": "markdown",
   "id": "9a4c66e6",
   "metadata": {},
   "source": [
    "## 퀵 정렬\n",
    "\n",
    "- 기준 데이터를 설정하고 그 **기준보다 큰 데이터와 작은 데이터의 위치를 바꾸는 방법**\n",
    "- 일반적인 상황에서 가장 많이 사용되는 정렬 알고리즘 중 하나\n",
    "- 병합 정렬과 더불어 대부분의 프로그래밍 언어의 정렬 라이브러리의 근간이 되는 알고리즘\n",
    "- 가장 기본적인 퀵 정렬은 **첫 번째 데이터를 기준 데이터(Pivot)로 설정**\n",
    "\n",
    "<시간 복잡도>\n",
    "- 평균의 경우 O(NlogN)의 시간 복잡도를 가짐\n",
    "- 하지만 최악의 경우 O(N^2)의 시간 복잡도를 가짐\n",
    "    - 첫 번째 원소를 피벗으로 삼을 때, 이미 정렬된 배열에 대해서 퀵 정렬을 수행할 경우"
   ]
  },
  {
   "cell_type": "code",
   "execution_count": null,
   "id": "6ed1cf85",
   "metadata": {},
   "outputs": [],
   "source": [
    "array = [5, 7, 9, 0, 3, 1, 6, 2, 4, 8]\n",
    "\n",
    "def quick_sort(array, start, end):\n",
    "    if start >= end: # 원소가 1개인 경우 종료\n",
    "        return \n",
    "    \n",
    "    # 피벗은 첫 번째 원소\n",
    "    pivot = start\n",
    "    left = start + 1\n",
    "    right = end\n",
    "    \n",
    "    while(left <= right):\n",
    "        # 피벗보다 큰 데이터를 찾을 때까지 반복\n",
    "        while(left <= end and array[left] <= array[pivot]):\n",
    "            left += 1"
   ]
  }
 ],
 "metadata": {
  "kernelspec": {
   "display_name": "Python 3",
   "language": "python",
   "name": "python3"
  },
  "language_info": {
   "codemirror_mode": {
    "name": "ipython",
    "version": 3
   },
   "file_extension": ".py",
   "mimetype": "text/x-python",
   "name": "python",
   "nbconvert_exporter": "python",
   "pygments_lexer": "ipython3",
   "version": "3.8.10"
  }
 },
 "nbformat": 4,
 "nbformat_minor": 5
}
